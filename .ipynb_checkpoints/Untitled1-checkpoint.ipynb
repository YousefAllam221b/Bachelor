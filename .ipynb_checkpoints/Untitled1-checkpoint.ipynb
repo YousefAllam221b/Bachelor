{
 "cells": [
  {
   "cell_type": "code",
   "execution_count": null,
   "id": "13fb0b29",
   "metadata": {},
   "outputs": [],
   "source": [
    "import pandas as pd\n",
    "import tensorflow as tf\n",
    "import numpy as np\n",
    "from sklearn.model_selection import train_test_split"
   ]
  },
  {
   "cell_type": "code",
   "execution_count": null,
   "id": "9dcecb1e",
   "metadata": {},
   "outputs": [],
   "source": [
    "# Load and preprocess the data\n",
    "courses = pd.read_csv('Udemy.csv')\n",
    "courses['id'] = courses['id'].astype(int)\n",
    "courses.head()"
   ]
  },
  {
   "cell_type": "code",
   "execution_count": null,
   "id": "83c7334a",
   "metadata": {
    "scrolled": true
   },
   "outputs": [],
   "source": [
    "ratings = pd.read_excel('User_Ratings.xlsx')\n",
    "ratings.head()"
   ]
  },
  {
   "cell_type": "code",
   "execution_count": null,
   "id": "82526444",
   "metadata": {},
   "outputs": [],
   "source": [
    "ratings = ratings.drop('Unnamed: 0',axis=1)\n",
    "# courses = courses.drop('Unnamed: 0',axis=1)"
   ]
  },
  {
   "cell_type": "code",
   "execution_count": null,
   "id": "0aacbb0d",
   "metadata": {},
   "outputs": [],
   "source": []
  }
 ],
 "metadata": {
  "kernelspec": {
   "display_name": "Python 3 (ipykernel)",
   "language": "python",
   "name": "python3"
  },
  "language_info": {
   "codemirror_mode": {
    "name": "ipython",
    "version": 3
   },
   "file_extension": ".py",
   "mimetype": "text/x-python",
   "name": "python",
   "nbconvert_exporter": "python",
   "pygments_lexer": "ipython3",
   "version": "3.10.2"
  }
 },
 "nbformat": 4,
 "nbformat_minor": 5
}
