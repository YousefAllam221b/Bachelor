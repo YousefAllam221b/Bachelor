{
 "cells": [
  {
   "cell_type": "markdown",
   "metadata": {
    "colab_type": "text",
    "id": "view-in-github"
   },
   "source": [
    "<a href=\"https://colab.research.google.com/github/rposhala/Recommender-System-on-MovieLens-dataset/blob/main/Recommender_System_using_Softmax_DNN.ipynb\" target=\"_parent\"><img src=\"https://colab.research.google.com/assets/colab-badge.svg\" alt=\"Open In Colab\"/></a>"
   ]
  },
  {
   "cell_type": "markdown",
   "metadata": {
    "id": "f4dpxTTFCNQi"
   },
   "source": [
    "## Loading the libraries"
   ]
  },
  {
   "cell_type": "code",
   "execution_count": 2,
   "metadata": {
    "id": "pK__TGE8ABxK"
   },
   "outputs": [],
   "source": [
    "import os\n",
    "import numpy as np\n",
    "import pandas as pd\n",
    "import matplotlib.pyplot as plt\n",
    "from sklearn.model_selection import train_test_split\n",
    "from sklearn.preprocessing import LabelEncoder"
   ]
  },
  {
   "cell_type": "code",
   "execution_count": 3,
   "metadata": {
    "id": "uKKckGQngZKP"
   },
   "outputs": [],
   "source": [
    "# from keras.models import Model\n",
    "# from keras.layers import Input, Reshape, Dot\n",
    "# from keras.layers.embeddings import Embedding\n",
    "# from keras.optimizers import Adam\n",
    "# from keras.regularizers import l2\n",
    "# from keras.layers import Concatenate, Dense, Dropout\n",
    "# from keras.layers import Add, Activation, Lambda\n",
    "\n",
    "import tensorflow as tf\n",
    "import keras\n",
    "from pprint import pprint"
   ]
  },
  {
   "cell_type": "code",
   "execution_count": 3,
   "metadata": {
    "id": "CEwzA81KOtn8"
   },
   "outputs": [],
   "source": [
    "# DATASET_LINK='http://files.grouplens.org/datasets/movielens/ml-100k.zip'"
   ]
  },
  {
   "cell_type": "code",
   "execution_count": 4,
   "metadata": {
    "colab": {
     "base_uri": "https://localhost:8080/"
    },
    "id": "_toQkgU7Ot8r",
    "outputId": "e9ca5b39-c7b4-487d-8e0c-f22dbd46787b"
   },
   "outputs": [],
   "source": [
    "# !wget -nc http://files.grouplens.org/datasets/movielens/ml-100k.zip\n",
    "# !unzip -n ml-100k.zip"
   ]
  },
  {
   "cell_type": "markdown",
   "metadata": {
    "id": "o7aPc6R_O1S9"
   },
   "source": [
    "#Loading MovieLens dataset"
   ]
  },
  {
   "cell_type": "markdown",
   "metadata": {},
   "source": [
    "## Loading Courses"
   ]
  },
  {
   "cell_type": "code",
   "execution_count": 103,
   "metadata": {},
   "outputs": [
    {
     "data": {
      "text/html": [
       "<div>\n",
       "<style scoped>\n",
       "    .dataframe tbody tr th:only-of-type {\n",
       "        vertical-align: middle;\n",
       "    }\n",
       "\n",
       "    .dataframe tbody tr th {\n",
       "        vertical-align: top;\n",
       "    }\n",
       "\n",
       "    .dataframe thead th {\n",
       "        text-align: right;\n",
       "    }\n",
       "</style>\n",
       "<table border=\"1\" class=\"dataframe\">\n",
       "  <thead>\n",
       "    <tr style=\"text-align: right;\">\n",
       "      <th></th>\n",
       "      <th>id</th>\n",
       "      <th>title</th>\n",
       "      <th>is_paid</th>\n",
       "      <th>price</th>\n",
       "      <th>headline</th>\n",
       "      <th>num_subscribers</th>\n",
       "      <th>avg_rating</th>\n",
       "      <th>num_reviews</th>\n",
       "      <th>num_comments</th>\n",
       "      <th>num_lectures</th>\n",
       "      <th>content_length_min</th>\n",
       "      <th>published_time</th>\n",
       "      <th>last_update_date</th>\n",
       "      <th>category</th>\n",
       "      <th>subcategory</th>\n",
       "      <th>topic</th>\n",
       "      <th>language</th>\n",
       "      <th>course_url</th>\n",
       "      <th>instructor_name</th>\n",
       "      <th>instructor_url</th>\n",
       "    </tr>\n",
       "  </thead>\n",
       "  <tbody>\n",
       "    <tr>\n",
       "      <th>0</th>\n",
       "      <td>638418</td>\n",
       "      <td>DSLR Video For Beginners</td>\n",
       "      <td>True</td>\n",
       "      <td>19.99</td>\n",
       "      <td>Learn the skills to create amazing videos usin...</td>\n",
       "      <td>1291</td>\n",
       "      <td>4.250000</td>\n",
       "      <td>41</td>\n",
       "      <td>13</td>\n",
       "      <td>33</td>\n",
       "      <td>115</td>\n",
       "      <td>2015-10-29T17:34:36Z</td>\n",
       "      <td>2020-10-10</td>\n",
       "      <td>Photography &amp; Video</td>\n",
       "      <td>Video Design</td>\n",
       "      <td>Videography</td>\n",
       "      <td>English</td>\n",
       "      <td>/course/how-to-master-dslr-video-create-a-prof...</td>\n",
       "      <td>Mark Beniston</td>\n",
       "      <td>/user/mark-beniston/</td>\n",
       "    </tr>\n",
       "    <tr>\n",
       "      <th>1</th>\n",
       "      <td>3640438</td>\n",
       "      <td>Final Cut Pro (FCP) X broadcast quality Editin...</td>\n",
       "      <td>True</td>\n",
       "      <td>124.99</td>\n",
       "      <td>Learn to edit like a Pro at broadcast quality ...</td>\n",
       "      <td>491</td>\n",
       "      <td>4.916666</td>\n",
       "      <td>127</td>\n",
       "      <td>41</td>\n",
       "      <td>25</td>\n",
       "      <td>317</td>\n",
       "      <td>2020-11-29T14:57:24Z</td>\n",
       "      <td>2020-11-25</td>\n",
       "      <td>Photography &amp; Video</td>\n",
       "      <td>Video Design</td>\n",
       "      <td>Video Editing</td>\n",
       "      <td>English</td>\n",
       "      <td>/course/final-cut-pro-fcp-x-broadcast-quality-...</td>\n",
       "      <td>Dean Arnett</td>\n",
       "      <td>/user/dean-arnett/</td>\n",
       "    </tr>\n",
       "    <tr>\n",
       "      <th>2</th>\n",
       "      <td>4439592</td>\n",
       "      <td>Formation videoscribe</td>\n",
       "      <td>True</td>\n",
       "      <td>19.99</td>\n",
       "      <td>Le guide complet pour créer vos animations</td>\n",
       "      <td>3</td>\n",
       "      <td>4.500000</td>\n",
       "      <td>1</td>\n",
       "      <td>1</td>\n",
       "      <td>13</td>\n",
       "      <td>132</td>\n",
       "      <td>2022-02-16T21:52:26Z</td>\n",
       "      <td>2022-02-13</td>\n",
       "      <td>Photography &amp; Video</td>\n",
       "      <td>Video Design</td>\n",
       "      <td>VideoScribe</td>\n",
       "      <td>French</td>\n",
       "      <td>/course/formation-videoscribe-juristudes/</td>\n",
       "      <td>Franklin Lombi Mufuri</td>\n",
       "      <td>/user/franklin-lombi/</td>\n",
       "    </tr>\n",
       "    <tr>\n",
       "      <th>3</th>\n",
       "      <td>451966</td>\n",
       "      <td>Improve your WEST freestyle technique- from 20...</td>\n",
       "      <td>True</td>\n",
       "      <td>64.99</td>\n",
       "      <td>Some people feel their out of air? they think ...</td>\n",
       "      <td>153</td>\n",
       "      <td>4.300000</td>\n",
       "      <td>11</td>\n",
       "      <td>5</td>\n",
       "      <td>30</td>\n",
       "      <td>44</td>\n",
       "      <td>2015-03-22T22:20:06Z</td>\n",
       "      <td>2016-03-19</td>\n",
       "      <td>Health &amp; Fitness</td>\n",
       "      <td>Sports</td>\n",
       "      <td>Swimming</td>\n",
       "      <td>English</td>\n",
       "      <td>/course/improve-your-west-freestyle-technique-...</td>\n",
       "      <td>Ori Sela</td>\n",
       "      <td>/user/orisela2/</td>\n",
       "    </tr>\n",
       "    <tr>\n",
       "      <th>4</th>\n",
       "      <td>1578238</td>\n",
       "      <td>Fundamentals of Scope and Requirements</td>\n",
       "      <td>True</td>\n",
       "      <td>199.99</td>\n",
       "      <td>Scope and Requirement Management</td>\n",
       "      <td>100</td>\n",
       "      <td>3.850000</td>\n",
       "      <td>24</td>\n",
       "      <td>6</td>\n",
       "      <td>488</td>\n",
       "      <td>302</td>\n",
       "      <td>2018-03-06T16:03:36Z</td>\n",
       "      <td>2021-10-27</td>\n",
       "      <td>Business</td>\n",
       "      <td>Management</td>\n",
       "      <td>Project Planning</td>\n",
       "      <td>English</td>\n",
       "      <td>/course/scope-and-requirements/</td>\n",
       "      <td>Integrity Training</td>\n",
       "      <td>/user/integtrity-training/</td>\n",
       "    </tr>\n",
       "  </tbody>\n",
       "</table>\n",
       "</div>"
      ],
      "text/plain": [
       "        id                                              title  is_paid  \\\n",
       "0   638418                           DSLR Video For Beginners     True   \n",
       "1  3640438  Final Cut Pro (FCP) X broadcast quality Editin...     True   \n",
       "2  4439592                              Formation videoscribe     True   \n",
       "3   451966  Improve your WEST freestyle technique- from 20...     True   \n",
       "4  1578238             Fundamentals of Scope and Requirements     True   \n",
       "\n",
       "    price                                           headline  num_subscribers  \\\n",
       "0   19.99  Learn the skills to create amazing videos usin...             1291   \n",
       "1  124.99  Learn to edit like a Pro at broadcast quality ...              491   \n",
       "2   19.99         Le guide complet pour créer vos animations                3   \n",
       "3   64.99  Some people feel their out of air? they think ...              153   \n",
       "4  199.99                   Scope and Requirement Management              100   \n",
       "\n",
       "   avg_rating  num_reviews  num_comments  num_lectures  content_length_min  \\\n",
       "0    4.250000           41            13            33                 115   \n",
       "1    4.916666          127            41            25                 317   \n",
       "2    4.500000            1             1            13                 132   \n",
       "3    4.300000           11             5            30                  44   \n",
       "4    3.850000           24             6           488                 302   \n",
       "\n",
       "         published_time last_update_date             category   subcategory  \\\n",
       "0  2015-10-29T17:34:36Z       2020-10-10  Photography & Video  Video Design   \n",
       "1  2020-11-29T14:57:24Z       2020-11-25  Photography & Video  Video Design   \n",
       "2  2022-02-16T21:52:26Z       2022-02-13  Photography & Video  Video Design   \n",
       "3  2015-03-22T22:20:06Z       2016-03-19     Health & Fitness        Sports   \n",
       "4  2018-03-06T16:03:36Z       2021-10-27             Business    Management   \n",
       "\n",
       "              topic language  \\\n",
       "0       Videography  English   \n",
       "1     Video Editing  English   \n",
       "2       VideoScribe   French   \n",
       "3          Swimming  English   \n",
       "4  Project Planning  English   \n",
       "\n",
       "                                          course_url        instructor_name  \\\n",
       "0  /course/how-to-master-dslr-video-create-a-prof...          Mark Beniston   \n",
       "1  /course/final-cut-pro-fcp-x-broadcast-quality-...            Dean Arnett   \n",
       "2          /course/formation-videoscribe-juristudes/  Franklin Lombi Mufuri   \n",
       "3  /course/improve-your-west-freestyle-technique-...               Ori Sela   \n",
       "4                    /course/scope-and-requirements/     Integrity Training   \n",
       "\n",
       "               instructor_url  \n",
       "0        /user/mark-beniston/  \n",
       "1          /user/dean-arnett/  \n",
       "2       /user/franklin-lombi/  \n",
       "3             /user/orisela2/  \n",
       "4  /user/integtrity-training/  "
      ]
     },
     "execution_count": 103,
     "metadata": {},
     "output_type": "execute_result"
    }
   ],
   "source": [
    "items_dataset = pd.read_excel('../Documents/Bachelor/Rated_Courses.xlsx')\n",
    "items_dataset = items_dataset.drop('Unnamed: 0',axis=1)\n",
    "items_dataset['id'] = items_dataset['id'].astype(int)\n",
    "items_dataset.head()"
   ]
  },
  {
   "cell_type": "code",
   "execution_count": 104,
   "metadata": {},
   "outputs": [
    {
     "data": {
      "text/html": [
       "<div>\n",
       "<style scoped>\n",
       "    .dataframe tbody tr th:only-of-type {\n",
       "        vertical-align: middle;\n",
       "    }\n",
       "\n",
       "    .dataframe tbody tr th {\n",
       "        vertical-align: top;\n",
       "    }\n",
       "\n",
       "    .dataframe thead th {\n",
       "        text-align: right;\n",
       "    }\n",
       "</style>\n",
       "<table border=\"1\" class=\"dataframe\">\n",
       "  <thead>\n",
       "    <tr style=\"text-align: right;\">\n",
       "      <th></th>\n",
       "      <th>id</th>\n",
       "      <th>title</th>\n",
       "      <th>is_paid</th>\n",
       "      <th>price</th>\n",
       "      <th>headline</th>\n",
       "      <th>num_subscribers</th>\n",
       "      <th>avg_rating</th>\n",
       "      <th>num_reviews</th>\n",
       "      <th>num_comments</th>\n",
       "      <th>num_lectures</th>\n",
       "      <th>...</th>\n",
       "      <th>Teacher Training</th>\n",
       "      <th>Test Prep</th>\n",
       "      <th>Travel</th>\n",
       "      <th>User Experience Design</th>\n",
       "      <th>Video &amp; Mobile Marketing</th>\n",
       "      <th>Video Design</th>\n",
       "      <th>Vocal</th>\n",
       "      <th>Web Design</th>\n",
       "      <th>Web Development</th>\n",
       "      <th>Yoga</th>\n",
       "    </tr>\n",
       "  </thead>\n",
       "  <tbody>\n",
       "    <tr>\n",
       "      <th>0</th>\n",
       "      <td>638418</td>\n",
       "      <td>DSLR Video For Beginners</td>\n",
       "      <td>True</td>\n",
       "      <td>19.99</td>\n",
       "      <td>Learn the skills to create amazing videos usin...</td>\n",
       "      <td>1291</td>\n",
       "      <td>4.250000</td>\n",
       "      <td>41</td>\n",
       "      <td>13</td>\n",
       "      <td>33</td>\n",
       "      <td>...</td>\n",
       "      <td>0</td>\n",
       "      <td>0</td>\n",
       "      <td>0</td>\n",
       "      <td>0</td>\n",
       "      <td>0</td>\n",
       "      <td>1</td>\n",
       "      <td>0</td>\n",
       "      <td>0</td>\n",
       "      <td>0</td>\n",
       "      <td>0</td>\n",
       "    </tr>\n",
       "    <tr>\n",
       "      <th>1</th>\n",
       "      <td>3640438</td>\n",
       "      <td>Final Cut Pro (FCP) X broadcast quality Editin...</td>\n",
       "      <td>True</td>\n",
       "      <td>124.99</td>\n",
       "      <td>Learn to edit like a Pro at broadcast quality ...</td>\n",
       "      <td>491</td>\n",
       "      <td>4.916666</td>\n",
       "      <td>127</td>\n",
       "      <td>41</td>\n",
       "      <td>25</td>\n",
       "      <td>...</td>\n",
       "      <td>0</td>\n",
       "      <td>0</td>\n",
       "      <td>0</td>\n",
       "      <td>0</td>\n",
       "      <td>0</td>\n",
       "      <td>1</td>\n",
       "      <td>0</td>\n",
       "      <td>0</td>\n",
       "      <td>0</td>\n",
       "      <td>0</td>\n",
       "    </tr>\n",
       "    <tr>\n",
       "      <th>2</th>\n",
       "      <td>4439592</td>\n",
       "      <td>Formation videoscribe</td>\n",
       "      <td>True</td>\n",
       "      <td>19.99</td>\n",
       "      <td>Le guide complet pour créer vos animations</td>\n",
       "      <td>3</td>\n",
       "      <td>4.500000</td>\n",
       "      <td>1</td>\n",
       "      <td>1</td>\n",
       "      <td>13</td>\n",
       "      <td>...</td>\n",
       "      <td>0</td>\n",
       "      <td>0</td>\n",
       "      <td>0</td>\n",
       "      <td>0</td>\n",
       "      <td>0</td>\n",
       "      <td>1</td>\n",
       "      <td>0</td>\n",
       "      <td>0</td>\n",
       "      <td>0</td>\n",
       "      <td>0</td>\n",
       "    </tr>\n",
       "    <tr>\n",
       "      <th>3</th>\n",
       "      <td>451966</td>\n",
       "      <td>Improve your WEST freestyle technique- from 20...</td>\n",
       "      <td>True</td>\n",
       "      <td>64.99</td>\n",
       "      <td>Some people feel their out of air? they think ...</td>\n",
       "      <td>153</td>\n",
       "      <td>4.300000</td>\n",
       "      <td>11</td>\n",
       "      <td>5</td>\n",
       "      <td>30</td>\n",
       "      <td>...</td>\n",
       "      <td>0</td>\n",
       "      <td>0</td>\n",
       "      <td>0</td>\n",
       "      <td>0</td>\n",
       "      <td>0</td>\n",
       "      <td>0</td>\n",
       "      <td>0</td>\n",
       "      <td>0</td>\n",
       "      <td>0</td>\n",
       "      <td>0</td>\n",
       "    </tr>\n",
       "    <tr>\n",
       "      <th>4</th>\n",
       "      <td>1578238</td>\n",
       "      <td>Fundamentals of Scope and Requirements</td>\n",
       "      <td>True</td>\n",
       "      <td>199.99</td>\n",
       "      <td>Scope and Requirement Management</td>\n",
       "      <td>100</td>\n",
       "      <td>3.850000</td>\n",
       "      <td>24</td>\n",
       "      <td>6</td>\n",
       "      <td>488</td>\n",
       "      <td>...</td>\n",
       "      <td>0</td>\n",
       "      <td>0</td>\n",
       "      <td>0</td>\n",
       "      <td>0</td>\n",
       "      <td>0</td>\n",
       "      <td>0</td>\n",
       "      <td>0</td>\n",
       "      <td>0</td>\n",
       "      <td>0</td>\n",
       "      <td>0</td>\n",
       "    </tr>\n",
       "  </tbody>\n",
       "</table>\n",
       "<p>5 rows × 150 columns</p>\n",
       "</div>"
      ],
      "text/plain": [
       "        id                                              title  is_paid  \\\n",
       "0   638418                           DSLR Video For Beginners     True   \n",
       "1  3640438  Final Cut Pro (FCP) X broadcast quality Editin...     True   \n",
       "2  4439592                              Formation videoscribe     True   \n",
       "3   451966  Improve your WEST freestyle technique- from 20...     True   \n",
       "4  1578238             Fundamentals of Scope and Requirements     True   \n",
       "\n",
       "    price                                           headline  num_subscribers  \\\n",
       "0   19.99  Learn the skills to create amazing videos usin...             1291   \n",
       "1  124.99  Learn to edit like a Pro at broadcast quality ...              491   \n",
       "2   19.99         Le guide complet pour créer vos animations                3   \n",
       "3   64.99  Some people feel their out of air? they think ...              153   \n",
       "4  199.99                   Scope and Requirement Management              100   \n",
       "\n",
       "   avg_rating  num_reviews  num_comments  num_lectures  ...  Teacher Training  \\\n",
       "0    4.250000           41            13            33  ...                 0   \n",
       "1    4.916666          127            41            25  ...                 0   \n",
       "2    4.500000            1             1            13  ...                 0   \n",
       "3    4.300000           11             5            30  ...                 0   \n",
       "4    3.850000           24             6           488  ...                 0   \n",
       "\n",
       "  Test Prep Travel User Experience Design Video & Mobile Marketing  \\\n",
       "0         0      0                      0                        0   \n",
       "1         0      0                      0                        0   \n",
       "2         0      0                      0                        0   \n",
       "3         0      0                      0                        0   \n",
       "4         0      0                      0                        0   \n",
       "\n",
       "  Video Design Vocal Web Design Web Development Yoga  \n",
       "0            1     0          0               0    0  \n",
       "1            1     0          0               0    0  \n",
       "2            1     0          0               0    0  \n",
       "3            0     0          0               0    0  \n",
       "4            0     0          0               0    0  \n",
       "\n",
       "[5 rows x 150 columns]"
      ]
     },
     "execution_count": 104,
     "metadata": {},
     "output_type": "execute_result"
    }
   ],
   "source": [
    "encoded_cols = pd.get_dummies(items_dataset['subcategory'], prefix='')\n",
    "encoded_cols = encoded_cols.rename(columns=lambda x: x.replace('_', ''))\n",
    "items_dataset = pd.concat([items_dataset, encoded_cols], axis=1)\n",
    "items_dataset.head()"
   ]
  },
  {
   "cell_type": "markdown",
   "metadata": {},
   "source": [
    "## Loading User Ratings"
   ]
  },
  {
   "cell_type": "code",
   "execution_count": 105,
   "metadata": {
    "colab": {
     "base_uri": "https://localhost:8080/",
     "height": 195
    },
    "id": "_Dm64PwPO89K",
    "outputId": "0ae36ed1-adf8-4dd7-ac16-8c9473e20eba"
   },
   "outputs": [
    {
     "data": {
      "text/html": [
       "<div>\n",
       "<style scoped>\n",
       "    .dataframe tbody tr th:only-of-type {\n",
       "        vertical-align: middle;\n",
       "    }\n",
       "\n",
       "    .dataframe tbody tr th {\n",
       "        vertical-align: top;\n",
       "    }\n",
       "\n",
       "    .dataframe thead th {\n",
       "        text-align: right;\n",
       "    }\n",
       "</style>\n",
       "<table border=\"1\" class=\"dataframe\">\n",
       "  <thead>\n",
       "    <tr style=\"text-align: right;\">\n",
       "      <th></th>\n",
       "      <th>userId</th>\n",
       "      <th>courseId</th>\n",
       "      <th>rating</th>\n",
       "      <th>timestamp</th>\n",
       "    </tr>\n",
       "  </thead>\n",
       "  <tbody>\n",
       "    <tr>\n",
       "      <th>0</th>\n",
       "      <td>0</td>\n",
       "      <td>638418</td>\n",
       "      <td>4.5</td>\n",
       "      <td>1646141837</td>\n",
       "    </tr>\n",
       "    <tr>\n",
       "      <th>1</th>\n",
       "      <td>0</td>\n",
       "      <td>3640438</td>\n",
       "      <td>4.0</td>\n",
       "      <td>1647343090</td>\n",
       "    </tr>\n",
       "    <tr>\n",
       "      <th>2</th>\n",
       "      <td>0</td>\n",
       "      <td>4439592</td>\n",
       "      <td>4.5</td>\n",
       "      <td>1649625733</td>\n",
       "    </tr>\n",
       "    <tr>\n",
       "      <th>3</th>\n",
       "      <td>0</td>\n",
       "      <td>451966</td>\n",
       "      <td>5.0</td>\n",
       "      <td>1637992035</td>\n",
       "    </tr>\n",
       "    <tr>\n",
       "      <th>4</th>\n",
       "      <td>1</td>\n",
       "      <td>1578238</td>\n",
       "      <td>4.0</td>\n",
       "      <td>1629654452</td>\n",
       "    </tr>\n",
       "  </tbody>\n",
       "</table>\n",
       "</div>"
      ],
      "text/plain": [
       "   userId  courseId  rating   timestamp\n",
       "0       0    638418     4.5  1646141837\n",
       "1       0   3640438     4.0  1647343090\n",
       "2       0   4439592     4.5  1649625733\n",
       "3       0    451966     5.0  1637992035\n",
       "4       1   1578238     4.0  1629654452"
      ]
     },
     "execution_count": 105,
     "metadata": {},
     "output_type": "execute_result"
    }
   ],
   "source": [
    "## same item id is same as movie id, item id column is renamed as movie id\n",
    "ratings_dataset = pd.read_excel('../Documents/Bachelor/User_Ratings.xlsx')\n",
    "ratings_dataset = ratings_dataset.drop('Unnamed: 0',axis=1)\n",
    "dates = pd.to_datetime(ratings_dataset['timestamp'])\n",
    "ratings_dataset['timestamp'] = (dates - pd.Timestamp(\"1970-01-01\")) // pd.Timedelta('1s')\n",
    "ratings_dataset.head() "
   ]
  },
  {
   "cell_type": "code",
   "execution_count": 106,
   "metadata": {},
   "outputs": [],
   "source": [
    "items_dataset.rename(columns = {'id':'courseId'}, inplace = True)"
   ]
  },
  {
   "cell_type": "code",
   "execution_count": 107,
   "metadata": {
    "scrolled": true
   },
   "outputs": [
    {
     "data": {
      "text/plain": [
       "(31037, 34926)"
      ]
     },
     "execution_count": 107,
     "metadata": {},
     "output_type": "execute_result"
    }
   ],
   "source": [
    "len(items_dataset.groupby(by='title')),len(items_dataset)"
   ]
  },
  {
   "cell_type": "code",
   "execution_count": 108,
   "metadata": {
    "scrolled": true
   },
   "outputs": [
    {
     "data": {
      "text/plain": [
       "Index(['courseId', 'title', 'is_paid', 'price', 'headline', 'num_subscribers',\n",
       "       'avg_rating', 'num_reviews', 'num_comments', 'num_lectures',\n",
       "       ...\n",
       "       'Teacher Training', 'Test Prep', 'Travel', 'User Experience Design',\n",
       "       'Video & Mobile Marketing', 'Video Design', 'Vocal', 'Web Design',\n",
       "       'Web Development', 'Yoga'],\n",
       "      dtype='object', length=150)"
      ]
     },
     "execution_count": 108,
     "metadata": {},
     "output_type": "execute_result"
    }
   ],
   "source": [
    "items_dataset.columns"
   ]
  },
  {
   "cell_type": "code",
   "execution_count": 109,
   "metadata": {},
   "outputs": [
    {
     "data": {
      "text/plain": [
       "['courseId',\n",
       " 'title',\n",
       " '3D & Animation',\n",
       " 'Accounting & Bookkeeping',\n",
       " 'Affiliate Marketing',\n",
       " 'Apple',\n",
       " 'Architectural Design',\n",
       " 'Arts & Crafts',\n",
       " 'Beauty & Makeup',\n",
       " 'Branding',\n",
       " 'Business Analytics & Intelligence',\n",
       " 'Business Law',\n",
       " 'Business Strategy',\n",
       " 'Career Development',\n",
       " 'Commercial Photography',\n",
       " 'Communication',\n",
       " 'Compliance',\n",
       " 'Content Marketing',\n",
       " 'Creativity',\n",
       " 'Cryptocurrency & Blockchain',\n",
       " 'Dance',\n",
       " 'Data Science',\n",
       " 'Database Design & Development',\n",
       " 'Design Tools',\n",
       " 'Digital Marketing',\n",
       " 'Digital Photography',\n",
       " 'E-Commerce',\n",
       " 'Economics',\n",
       " 'Engineering',\n",
       " 'Entrepreneurship',\n",
       " 'Esoteric Practices',\n",
       " 'Fashion Design',\n",
       " 'Finance',\n",
       " 'Finance Cert & Exam Prep',\n",
       " 'Financial Modeling & Analysis',\n",
       " 'Fitness',\n",
       " 'Food & Beverage',\n",
       " 'Game Design',\n",
       " 'Game Development',\n",
       " 'Gaming',\n",
       " 'General Health',\n",
       " 'Google',\n",
       " 'Graphic Design & Illustration',\n",
       " 'Growth Hacking',\n",
       " 'Happiness',\n",
       " 'Hardware',\n",
       " 'Home Improvement & Gardening',\n",
       " 'Human Resources',\n",
       " 'Humanities',\n",
       " 'IT Certifications',\n",
       " 'Industry',\n",
       " 'Influence',\n",
       " 'Instruments',\n",
       " 'Interior Design',\n",
       " 'Investing & Trading',\n",
       " 'Language Learning',\n",
       " 'Leadership',\n",
       " 'Management',\n",
       " 'Marketing Analytics & Automation',\n",
       " 'Marketing Fundamentals',\n",
       " 'Martial Arts & Self Defense',\n",
       " 'Math',\n",
       " 'Media',\n",
       " 'Meditation',\n",
       " 'Memory & Study Skills',\n",
       " 'Mental Health',\n",
       " 'Microsoft',\n",
       " 'Mobile Development',\n",
       " 'Money Management Tools',\n",
       " 'Motivation',\n",
       " 'Music Fundamentals',\n",
       " 'Music Production',\n",
       " 'Music Software',\n",
       " 'Music Techniques',\n",
       " 'Network & Security',\n",
       " 'No-Code Development',\n",
       " 'Nutrition & Diet',\n",
       " 'Online Education',\n",
       " 'Operating Systems & Servers',\n",
       " 'Operations',\n",
       " 'Oracle',\n",
       " 'Other Business',\n",
       " 'Other Design',\n",
       " 'Other Finance & Accounting',\n",
       " 'Other Health & Fitness',\n",
       " 'Other IT & Software',\n",
       " 'Other Lifestyle',\n",
       " 'Other Marketing',\n",
       " 'Other Music',\n",
       " 'Other Office Productivity',\n",
       " 'Other Personal Development',\n",
       " 'Other Photography & Video',\n",
       " 'Other Teaching & Academics',\n",
       " 'Paid Advertising',\n",
       " 'Parenting & Relationships',\n",
       " 'Personal Brand Building',\n",
       " 'Personal Productivity',\n",
       " 'Personal Transformation',\n",
       " 'Pet Care & Training',\n",
       " 'Photography',\n",
       " 'Photography Tools',\n",
       " 'Portrait Photography',\n",
       " 'Product Marketing',\n",
       " 'Programming Languages',\n",
       " 'Project Management',\n",
       " 'Public Relations',\n",
       " 'Real Estate',\n",
       " 'Religion & Spirituality',\n",
       " 'SAP',\n",
       " 'Safety & First Aid',\n",
       " 'Sales',\n",
       " 'Science',\n",
       " 'Search Engine Optimization',\n",
       " 'Self Esteem & Confidence',\n",
       " 'Social Media Marketing',\n",
       " 'Social Science',\n",
       " 'Software Development Tools',\n",
       " 'Software Engineering',\n",
       " 'Software Testing',\n",
       " 'Sports',\n",
       " 'Stress Management',\n",
       " 'Taxes',\n",
       " 'Teacher Training',\n",
       " 'Test Prep',\n",
       " 'Travel',\n",
       " 'User Experience Design',\n",
       " 'Video & Mobile Marketing',\n",
       " 'Video Design',\n",
       " 'Vocal',\n",
       " 'Web Design',\n",
       " 'Web Development',\n",
       " 'Yoga']"
      ]
     },
     "execution_count": 109,
     "metadata": {},
     "output_type": "execute_result"
    }
   ],
   "source": [
    "list(['courseId', 'title']) + list(encoded_cols.columns)"
   ]
  },
  {
   "cell_type": "code",
   "execution_count": 110,
   "metadata": {
    "colab": {
     "base_uri": "https://localhost:8080/",
     "height": 195
    },
    "id": "zjMViWz_SDlJ",
    "outputId": "3fa38eec-61c4-41c7-c363-cbcbaebee253"
   },
   "outputs": [
    {
     "data": {
      "text/html": [
       "<div>\n",
       "<style scoped>\n",
       "    .dataframe tbody tr th:only-of-type {\n",
       "        vertical-align: middle;\n",
       "    }\n",
       "\n",
       "    .dataframe tbody tr th {\n",
       "        vertical-align: top;\n",
       "    }\n",
       "\n",
       "    .dataframe thead th {\n",
       "        text-align: right;\n",
       "    }\n",
       "</style>\n",
       "<table border=\"1\" class=\"dataframe\">\n",
       "  <thead>\n",
       "    <tr style=\"text-align: right;\">\n",
       "      <th></th>\n",
       "      <th>courseId</th>\n",
       "      <th>title</th>\n",
       "      <th>3D &amp; Animation</th>\n",
       "      <th>Accounting &amp; Bookkeeping</th>\n",
       "      <th>Affiliate Marketing</th>\n",
       "      <th>Apple</th>\n",
       "      <th>Architectural Design</th>\n",
       "      <th>Arts &amp; Crafts</th>\n",
       "      <th>Beauty &amp; Makeup</th>\n",
       "      <th>Branding</th>\n",
       "      <th>...</th>\n",
       "      <th>Teacher Training</th>\n",
       "      <th>Test Prep</th>\n",
       "      <th>Travel</th>\n",
       "      <th>User Experience Design</th>\n",
       "      <th>Video &amp; Mobile Marketing</th>\n",
       "      <th>Video Design</th>\n",
       "      <th>Vocal</th>\n",
       "      <th>Web Design</th>\n",
       "      <th>Web Development</th>\n",
       "      <th>Yoga</th>\n",
       "    </tr>\n",
       "  </thead>\n",
       "  <tbody>\n",
       "    <tr>\n",
       "      <th>0</th>\n",
       "      <td>638418</td>\n",
       "      <td>DSLR Video For Beginners</td>\n",
       "      <td>0</td>\n",
       "      <td>0</td>\n",
       "      <td>0</td>\n",
       "      <td>0</td>\n",
       "      <td>0</td>\n",
       "      <td>0</td>\n",
       "      <td>0</td>\n",
       "      <td>0</td>\n",
       "      <td>...</td>\n",
       "      <td>0</td>\n",
       "      <td>0</td>\n",
       "      <td>0</td>\n",
       "      <td>0</td>\n",
       "      <td>0</td>\n",
       "      <td>1</td>\n",
       "      <td>0</td>\n",
       "      <td>0</td>\n",
       "      <td>0</td>\n",
       "      <td>0</td>\n",
       "    </tr>\n",
       "    <tr>\n",
       "      <th>1</th>\n",
       "      <td>3640438</td>\n",
       "      <td>Final Cut Pro (FCP) X broadcast quality Editin...</td>\n",
       "      <td>0</td>\n",
       "      <td>0</td>\n",
       "      <td>0</td>\n",
       "      <td>0</td>\n",
       "      <td>0</td>\n",
       "      <td>0</td>\n",
       "      <td>0</td>\n",
       "      <td>0</td>\n",
       "      <td>...</td>\n",
       "      <td>0</td>\n",
       "      <td>0</td>\n",
       "      <td>0</td>\n",
       "      <td>0</td>\n",
       "      <td>0</td>\n",
       "      <td>1</td>\n",
       "      <td>0</td>\n",
       "      <td>0</td>\n",
       "      <td>0</td>\n",
       "      <td>0</td>\n",
       "    </tr>\n",
       "    <tr>\n",
       "      <th>2</th>\n",
       "      <td>4439592</td>\n",
       "      <td>Formation videoscribe</td>\n",
       "      <td>0</td>\n",
       "      <td>0</td>\n",
       "      <td>0</td>\n",
       "      <td>0</td>\n",
       "      <td>0</td>\n",
       "      <td>0</td>\n",
       "      <td>0</td>\n",
       "      <td>0</td>\n",
       "      <td>...</td>\n",
       "      <td>0</td>\n",
       "      <td>0</td>\n",
       "      <td>0</td>\n",
       "      <td>0</td>\n",
       "      <td>0</td>\n",
       "      <td>1</td>\n",
       "      <td>0</td>\n",
       "      <td>0</td>\n",
       "      <td>0</td>\n",
       "      <td>0</td>\n",
       "    </tr>\n",
       "    <tr>\n",
       "      <th>3</th>\n",
       "      <td>451966</td>\n",
       "      <td>Improve your WEST freestyle technique- from 20...</td>\n",
       "      <td>0</td>\n",
       "      <td>0</td>\n",
       "      <td>0</td>\n",
       "      <td>0</td>\n",
       "      <td>0</td>\n",
       "      <td>0</td>\n",
       "      <td>0</td>\n",
       "      <td>0</td>\n",
       "      <td>...</td>\n",
       "      <td>0</td>\n",
       "      <td>0</td>\n",
       "      <td>0</td>\n",
       "      <td>0</td>\n",
       "      <td>0</td>\n",
       "      <td>0</td>\n",
       "      <td>0</td>\n",
       "      <td>0</td>\n",
       "      <td>0</td>\n",
       "      <td>0</td>\n",
       "    </tr>\n",
       "    <tr>\n",
       "      <th>4</th>\n",
       "      <td>1578238</td>\n",
       "      <td>Fundamentals of Scope and Requirements</td>\n",
       "      <td>0</td>\n",
       "      <td>0</td>\n",
       "      <td>0</td>\n",
       "      <td>0</td>\n",
       "      <td>0</td>\n",
       "      <td>0</td>\n",
       "      <td>0</td>\n",
       "      <td>0</td>\n",
       "      <td>...</td>\n",
       "      <td>0</td>\n",
       "      <td>0</td>\n",
       "      <td>0</td>\n",
       "      <td>0</td>\n",
       "      <td>0</td>\n",
       "      <td>0</td>\n",
       "      <td>0</td>\n",
       "      <td>0</td>\n",
       "      <td>0</td>\n",
       "      <td>0</td>\n",
       "    </tr>\n",
       "  </tbody>\n",
       "</table>\n",
       "<p>5 rows × 132 columns</p>\n",
       "</div>"
      ],
      "text/plain": [
       "   courseId                                              title  \\\n",
       "0    638418                           DSLR Video For Beginners   \n",
       "1   3640438  Final Cut Pro (FCP) X broadcast quality Editin...   \n",
       "2   4439592                              Formation videoscribe   \n",
       "3    451966  Improve your WEST freestyle technique- from 20...   \n",
       "4   1578238             Fundamentals of Scope and Requirements   \n",
       "\n",
       "   3D & Animation  Accounting & Bookkeeping  Affiliate Marketing  Apple  \\\n",
       "0               0                         0                    0      0   \n",
       "1               0                         0                    0      0   \n",
       "2               0                         0                    0      0   \n",
       "3               0                         0                    0      0   \n",
       "4               0                         0                    0      0   \n",
       "\n",
       "   Architectural Design  Arts & Crafts  Beauty & Makeup  Branding  ...  \\\n",
       "0                     0              0                0         0  ...   \n",
       "1                     0              0                0         0  ...   \n",
       "2                     0              0                0         0  ...   \n",
       "3                     0              0                0         0  ...   \n",
       "4                     0              0                0         0  ...   \n",
       "\n",
       "   Teacher Training  Test Prep  Travel  User Experience Design  \\\n",
       "0                 0          0       0                       0   \n",
       "1                 0          0       0                       0   \n",
       "2                 0          0       0                       0   \n",
       "3                 0          0       0                       0   \n",
       "4                 0          0       0                       0   \n",
       "\n",
       "   Video & Mobile Marketing  Video Design  Vocal  Web Design  Web Development  \\\n",
       "0                         0             1      0           0                0   \n",
       "1                         0             1      0           0                0   \n",
       "2                         0             1      0           0                0   \n",
       "3                         0             0      0           0                0   \n",
       "4                         0             0      0           0                0   \n",
       "\n",
       "   Yoga  \n",
       "0     0  \n",
       "1     0  \n",
       "2     0  \n",
       "3     0  \n",
       "4     0  \n",
       "\n",
       "[5 rows x 132 columns]"
      ]
     },
     "execution_count": 110,
     "metadata": {},
     "output_type": "execute_result"
    }
   ],
   "source": [
    "course_dataset = items_dataset[list(['courseId', 'title']) + list(encoded_cols.columns)]\n",
    "course_dataset.head()"
   ]
  },
  {
   "cell_type": "markdown",
   "metadata": {
    "id": "hEsztTxjSiZA"
   },
   "source": [
    "Looking at length of original items_dataset and length of unique combination of rows in items_dataset after removing movie id column"
   ]
  },
  {
   "cell_type": "code",
   "execution_count": 111,
   "metadata": {
    "colab": {
     "base_uri": "https://localhost:8080/"
    },
    "id": "sdzz8nUySG_q",
    "outputId": "a0fe00d3-23c4-4125-89fa-b3be9bea9c2e"
   },
   "outputs": [],
   "source": [
    "## looking at length of original items_dataset and length of unique combination of rows in items_dataset after removing movie id column\n",
    "# len(items_dataset.groupby(by=column_names2[1:])),len(items_dataset)"
   ]
  },
  {
   "cell_type": "markdown",
   "metadata": {
    "id": "zcsMvVNrS82A"
   },
   "source": [
    "We can see there are 18 extra movie id's for already mapped movie title and the same duplicate movie id is assigned to the user in the user-item dataset."
   ]
  },
  {
   "cell_type": "markdown",
   "metadata": {
    "id": "V1vln0JRTA9J"
   },
   "source": [
    "#Merging required datasets"
   ]
  },
  {
   "cell_type": "code",
   "execution_count": 112,
   "metadata": {
    "colab": {
     "base_uri": "https://localhost:8080/",
     "height": 195
    },
    "id": "IBOXHTmvS6Ex",
    "outputId": "c9995cf4-c7fd-47b0-afb7-c57b7fce007c",
    "scrolled": false
   },
   "outputs": [
    {
     "data": {
      "text/html": [
       "<div>\n",
       "<style scoped>\n",
       "    .dataframe tbody tr th:only-of-type {\n",
       "        vertical-align: middle;\n",
       "    }\n",
       "\n",
       "    .dataframe tbody tr th {\n",
       "        vertical-align: top;\n",
       "    }\n",
       "\n",
       "    .dataframe thead th {\n",
       "        text-align: right;\n",
       "    }\n",
       "</style>\n",
       "<table border=\"1\" class=\"dataframe\">\n",
       "  <thead>\n",
       "    <tr style=\"text-align: right;\">\n",
       "      <th></th>\n",
       "      <th>userId</th>\n",
       "      <th>courseId</th>\n",
       "      <th>rating</th>\n",
       "      <th>timestamp</th>\n",
       "      <th>title</th>\n",
       "      <th>3D &amp; Animation</th>\n",
       "      <th>Accounting &amp; Bookkeeping</th>\n",
       "      <th>Affiliate Marketing</th>\n",
       "      <th>Apple</th>\n",
       "      <th>Architectural Design</th>\n",
       "      <th>...</th>\n",
       "      <th>Teacher Training</th>\n",
       "      <th>Test Prep</th>\n",
       "      <th>Travel</th>\n",
       "      <th>User Experience Design</th>\n",
       "      <th>Video &amp; Mobile Marketing</th>\n",
       "      <th>Video Design</th>\n",
       "      <th>Vocal</th>\n",
       "      <th>Web Design</th>\n",
       "      <th>Web Development</th>\n",
       "      <th>Yoga</th>\n",
       "    </tr>\n",
       "  </thead>\n",
       "  <tbody>\n",
       "    <tr>\n",
       "      <th>0</th>\n",
       "      <td>0</td>\n",
       "      <td>638418</td>\n",
       "      <td>4.5</td>\n",
       "      <td>1646141837</td>\n",
       "      <td>DSLR Video For Beginners</td>\n",
       "      <td>0</td>\n",
       "      <td>0</td>\n",
       "      <td>0</td>\n",
       "      <td>0</td>\n",
       "      <td>0</td>\n",
       "      <td>...</td>\n",
       "      <td>0</td>\n",
       "      <td>0</td>\n",
       "      <td>0</td>\n",
       "      <td>0</td>\n",
       "      <td>0</td>\n",
       "      <td>1</td>\n",
       "      <td>0</td>\n",
       "      <td>0</td>\n",
       "      <td>0</td>\n",
       "      <td>0</td>\n",
       "    </tr>\n",
       "    <tr>\n",
       "      <th>3</th>\n",
       "      <td>0</td>\n",
       "      <td>3640438</td>\n",
       "      <td>4.0</td>\n",
       "      <td>1647343090</td>\n",
       "      <td>Final Cut Pro (FCP) X broadcast quality Editin...</td>\n",
       "      <td>0</td>\n",
       "      <td>0</td>\n",
       "      <td>0</td>\n",
       "      <td>0</td>\n",
       "      <td>0</td>\n",
       "      <td>...</td>\n",
       "      <td>0</td>\n",
       "      <td>0</td>\n",
       "      <td>0</td>\n",
       "      <td>0</td>\n",
       "      <td>0</td>\n",
       "      <td>1</td>\n",
       "      <td>0</td>\n",
       "      <td>0</td>\n",
       "      <td>0</td>\n",
       "      <td>0</td>\n",
       "    </tr>\n",
       "    <tr>\n",
       "      <th>5</th>\n",
       "      <td>0</td>\n",
       "      <td>4439592</td>\n",
       "      <td>4.5</td>\n",
       "      <td>1649625733</td>\n",
       "      <td>Formation videoscribe</td>\n",
       "      <td>0</td>\n",
       "      <td>0</td>\n",
       "      <td>0</td>\n",
       "      <td>0</td>\n",
       "      <td>0</td>\n",
       "      <td>...</td>\n",
       "      <td>0</td>\n",
       "      <td>0</td>\n",
       "      <td>0</td>\n",
       "      <td>0</td>\n",
       "      <td>0</td>\n",
       "      <td>1</td>\n",
       "      <td>0</td>\n",
       "      <td>0</td>\n",
       "      <td>0</td>\n",
       "      <td>0</td>\n",
       "    </tr>\n",
       "    <tr>\n",
       "      <th>6</th>\n",
       "      <td>0</td>\n",
       "      <td>451966</td>\n",
       "      <td>5.0</td>\n",
       "      <td>1637992035</td>\n",
       "      <td>Improve your WEST freestyle technique- from 20...</td>\n",
       "      <td>0</td>\n",
       "      <td>0</td>\n",
       "      <td>0</td>\n",
       "      <td>0</td>\n",
       "      <td>0</td>\n",
       "      <td>...</td>\n",
       "      <td>0</td>\n",
       "      <td>0</td>\n",
       "      <td>0</td>\n",
       "      <td>0</td>\n",
       "      <td>0</td>\n",
       "      <td>0</td>\n",
       "      <td>0</td>\n",
       "      <td>0</td>\n",
       "      <td>0</td>\n",
       "      <td>0</td>\n",
       "    </tr>\n",
       "    <tr>\n",
       "      <th>7</th>\n",
       "      <td>1</td>\n",
       "      <td>1578238</td>\n",
       "      <td>4.0</td>\n",
       "      <td>1629654452</td>\n",
       "      <td>Fundamentals of Scope and Requirements</td>\n",
       "      <td>0</td>\n",
       "      <td>0</td>\n",
       "      <td>0</td>\n",
       "      <td>0</td>\n",
       "      <td>0</td>\n",
       "      <td>...</td>\n",
       "      <td>0</td>\n",
       "      <td>0</td>\n",
       "      <td>0</td>\n",
       "      <td>0</td>\n",
       "      <td>0</td>\n",
       "      <td>0</td>\n",
       "      <td>0</td>\n",
       "      <td>0</td>\n",
       "      <td>0</td>\n",
       "      <td>0</td>\n",
       "    </tr>\n",
       "  </tbody>\n",
       "</table>\n",
       "<p>5 rows × 135 columns</p>\n",
       "</div>"
      ],
      "text/plain": [
       "   userId  courseId  rating   timestamp  \\\n",
       "0       0    638418     4.5  1646141837   \n",
       "3       0   3640438     4.0  1647343090   \n",
       "5       0   4439592     4.5  1649625733   \n",
       "6       0    451966     5.0  1637992035   \n",
       "7       1   1578238     4.0  1629654452   \n",
       "\n",
       "                                               title  3D & Animation  \\\n",
       "0                           DSLR Video For Beginners               0   \n",
       "3  Final Cut Pro (FCP) X broadcast quality Editin...               0   \n",
       "5                              Formation videoscribe               0   \n",
       "6  Improve your WEST freestyle technique- from 20...               0   \n",
       "7             Fundamentals of Scope and Requirements               0   \n",
       "\n",
       "   Accounting & Bookkeeping  Affiliate Marketing  Apple  Architectural Design  \\\n",
       "0                         0                    0      0                     0   \n",
       "3                         0                    0      0                     0   \n",
       "5                         0                    0      0                     0   \n",
       "6                         0                    0      0                     0   \n",
       "7                         0                    0      0                     0   \n",
       "\n",
       "   ...  Teacher Training  Test Prep  Travel  User Experience Design  \\\n",
       "0  ...                 0          0       0                       0   \n",
       "3  ...                 0          0       0                       0   \n",
       "5  ...                 0          0       0                       0   \n",
       "6  ...                 0          0       0                       0   \n",
       "7  ...                 0          0       0                       0   \n",
       "\n",
       "   Video & Mobile Marketing  Video Design  Vocal  Web Design  Web Development  \\\n",
       "0                         0             1      0           0                0   \n",
       "3                         0             1      0           0                0   \n",
       "5                         0             1      0           0                0   \n",
       "6                         0             0      0           0                0   \n",
       "7                         0             0      0           0                0   \n",
       "\n",
       "   Yoga  \n",
       "0     0  \n",
       "3     0  \n",
       "5     0  \n",
       "6     0  \n",
       "7     0  \n",
       "\n",
       "[5 rows x 135 columns]"
      ]
     },
     "execution_count": 112,
     "metadata": {},
     "output_type": "execute_result"
    }
   ],
   "source": [
    "refined_dataset = pd.merge(ratings_dataset, movie_dataset, how='left', on='courseId').drop_duplicates()\n",
    "refined_dataset.head()"
   ]
  },
  {
   "cell_type": "code",
   "execution_count": 113,
   "metadata": {},
   "outputs": [],
   "source": [
    "# merged_dataset = merged_dataset[merged_dataset['user id'] != 777].append(merged_dataset[merged_dataset['user id'] == 777][merged_dataset[merged_dataset['user id'] == 777]['movie id'] == 1], ignore_index=True)"
   ]
  },
  {
   "cell_type": "code",
   "execution_count": null,
   "metadata": {},
   "outputs": [],
   "source": []
  },
  {
   "cell_type": "markdown",
   "metadata": {
    "id": "qlTqLn-mTUCV"
   },
   "source": [
    "A dataset is created from the existing merged dataset by grouping the unique user id and movie title combination and the ratings by a user to the same movie in different instances (timestamps) are averaged and stored in the new dataset."
   ]
  },
  {
   "cell_type": "markdown",
   "metadata": {
    "id": "kuXOfYN-UQrP"
   },
   "source": [
    "## Creating a final refined dataset with unique user id, movie name combination and their ratings:\n"
   ]
  },
  {
   "cell_type": "markdown",
   "metadata": {
    "id": "OVuuEkazUn20"
   },
   "source": [
    "## Encoding users and movie titles to make sure that the sequence has no missing values when dealing with Deep Neural Networks."
   ]
  },
  {
   "cell_type": "code",
   "execution_count": 114,
   "metadata": {
    "id": "-X1Fvj3AUTjt"
   },
   "outputs": [],
   "source": [
    "user_enc = LabelEncoder()\n",
    "refined_dataset['user'] = user_enc.fit_transform(refined_dataset['userId'].values)\n",
    "n_users = refined_dataset['user'].nunique()"
   ]
  },
  {
   "cell_type": "code",
   "execution_count": 116,
   "metadata": {
    "id": "3f2vtjifW662"
   },
   "outputs": [],
   "source": [
    "item_enc = LabelEncoder()\n",
    "refined_dataset['course'] = item_enc.fit_transform(refined_dataset['title'].values)\n",
    "n_movies = refined_dataset['course'].nunique()"
   ]
  },
  {
   "cell_type": "code",
   "execution_count": 117,
   "metadata": {
    "colab": {
     "base_uri": "https://localhost:8080/"
    },
    "id": "OeQb6BDbXUzI",
    "outputId": "9db3aaae-b877-4ce0-8e39-726b3de57384",
    "scrolled": true
   },
   "outputs": [
    {
     "data": {
      "text/plain": [
       "(10000, 31037, 3.0, 5.0)"
      ]
     },
     "execution_count": 117,
     "metadata": {},
     "output_type": "execute_result"
    }
   ],
   "source": [
    "refined_dataset['rating'] = refined_dataset['rating'].values.astype(np.float32)\n",
    "min_rating = min(refined_dataset['rating'])\n",
    "max_rating = max(refined_dataset['rating'])\n",
    "n_users, n_movies, min_rating, max_rating"
   ]
  },
  {
   "cell_type": "code",
   "execution_count": 118,
   "metadata": {
    "colab": {
     "base_uri": "https://localhost:8080/",
     "height": 195
    },
    "id": "2NLsO6VSXOD4",
    "outputId": "2ad334e6-8823-4104-bfe4-5b3554063252"
   },
   "outputs": [
    {
     "data": {
      "text/html": [
       "<div>\n",
       "<style scoped>\n",
       "    .dataframe tbody tr th:only-of-type {\n",
       "        vertical-align: middle;\n",
       "    }\n",
       "\n",
       "    .dataframe tbody tr th {\n",
       "        vertical-align: top;\n",
       "    }\n",
       "\n",
       "    .dataframe thead th {\n",
       "        text-align: right;\n",
       "    }\n",
       "</style>\n",
       "<table border=\"1\" class=\"dataframe\">\n",
       "  <thead>\n",
       "    <tr style=\"text-align: right;\">\n",
       "      <th></th>\n",
       "      <th>userId</th>\n",
       "      <th>courseId</th>\n",
       "      <th>rating</th>\n",
       "      <th>timestamp</th>\n",
       "      <th>title</th>\n",
       "      <th>3D &amp; Animation</th>\n",
       "      <th>Accounting &amp; Bookkeeping</th>\n",
       "      <th>Affiliate Marketing</th>\n",
       "      <th>Apple</th>\n",
       "      <th>Architectural Design</th>\n",
       "      <th>...</th>\n",
       "      <th>Travel</th>\n",
       "      <th>User Experience Design</th>\n",
       "      <th>Video &amp; Mobile Marketing</th>\n",
       "      <th>Video Design</th>\n",
       "      <th>Vocal</th>\n",
       "      <th>Web Design</th>\n",
       "      <th>Web Development</th>\n",
       "      <th>Yoga</th>\n",
       "      <th>user</th>\n",
       "      <th>course</th>\n",
       "    </tr>\n",
       "  </thead>\n",
       "  <tbody>\n",
       "    <tr>\n",
       "      <th>0</th>\n",
       "      <td>0</td>\n",
       "      <td>638418</td>\n",
       "      <td>4.5</td>\n",
       "      <td>1646141837</td>\n",
       "      <td>DSLR Video For Beginners</td>\n",
       "      <td>0</td>\n",
       "      <td>0</td>\n",
       "      <td>0</td>\n",
       "      <td>0</td>\n",
       "      <td>0</td>\n",
       "      <td>...</td>\n",
       "      <td>0</td>\n",
       "      <td>0</td>\n",
       "      <td>0</td>\n",
       "      <td>1</td>\n",
       "      <td>0</td>\n",
       "      <td>0</td>\n",
       "      <td>0</td>\n",
       "      <td>0</td>\n",
       "      <td>0</td>\n",
       "      <td>8005</td>\n",
       "    </tr>\n",
       "    <tr>\n",
       "      <th>3</th>\n",
       "      <td>0</td>\n",
       "      <td>3640438</td>\n",
       "      <td>4.0</td>\n",
       "      <td>1647343090</td>\n",
       "      <td>Final Cut Pro (FCP) X broadcast quality Editin...</td>\n",
       "      <td>0</td>\n",
       "      <td>0</td>\n",
       "      <td>0</td>\n",
       "      <td>0</td>\n",
       "      <td>0</td>\n",
       "      <td>...</td>\n",
       "      <td>0</td>\n",
       "      <td>0</td>\n",
       "      <td>0</td>\n",
       "      <td>1</td>\n",
       "      <td>0</td>\n",
       "      <td>0</td>\n",
       "      <td>0</td>\n",
       "      <td>0</td>\n",
       "      <td>0</td>\n",
       "      <td>10635</td>\n",
       "    </tr>\n",
       "    <tr>\n",
       "      <th>5</th>\n",
       "      <td>0</td>\n",
       "      <td>4439592</td>\n",
       "      <td>4.5</td>\n",
       "      <td>1649625733</td>\n",
       "      <td>Formation videoscribe</td>\n",
       "      <td>0</td>\n",
       "      <td>0</td>\n",
       "      <td>0</td>\n",
       "      <td>0</td>\n",
       "      <td>0</td>\n",
       "      <td>...</td>\n",
       "      <td>0</td>\n",
       "      <td>0</td>\n",
       "      <td>0</td>\n",
       "      <td>1</td>\n",
       "      <td>0</td>\n",
       "      <td>0</td>\n",
       "      <td>0</td>\n",
       "      <td>0</td>\n",
       "      <td>0</td>\n",
       "      <td>11044</td>\n",
       "    </tr>\n",
       "    <tr>\n",
       "      <th>6</th>\n",
       "      <td>0</td>\n",
       "      <td>451966</td>\n",
       "      <td>5.0</td>\n",
       "      <td>1637992035</td>\n",
       "      <td>Improve your WEST freestyle technique- from 20...</td>\n",
       "      <td>0</td>\n",
       "      <td>0</td>\n",
       "      <td>0</td>\n",
       "      <td>0</td>\n",
       "      <td>0</td>\n",
       "      <td>...</td>\n",
       "      <td>0</td>\n",
       "      <td>0</td>\n",
       "      <td>0</td>\n",
       "      <td>0</td>\n",
       "      <td>0</td>\n",
       "      <td>0</td>\n",
       "      <td>0</td>\n",
       "      <td>0</td>\n",
       "      <td>0</td>\n",
       "      <td>14113</td>\n",
       "    </tr>\n",
       "    <tr>\n",
       "      <th>7</th>\n",
       "      <td>1</td>\n",
       "      <td>1578238</td>\n",
       "      <td>4.0</td>\n",
       "      <td>1629654452</td>\n",
       "      <td>Fundamentals of Scope and Requirements</td>\n",
       "      <td>0</td>\n",
       "      <td>0</td>\n",
       "      <td>0</td>\n",
       "      <td>0</td>\n",
       "      <td>0</td>\n",
       "      <td>...</td>\n",
       "      <td>0</td>\n",
       "      <td>0</td>\n",
       "      <td>0</td>\n",
       "      <td>0</td>\n",
       "      <td>0</td>\n",
       "      <td>0</td>\n",
       "      <td>0</td>\n",
       "      <td>0</td>\n",
       "      <td>1</td>\n",
       "      <td>11366</td>\n",
       "    </tr>\n",
       "  </tbody>\n",
       "</table>\n",
       "<p>5 rows × 137 columns</p>\n",
       "</div>"
      ],
      "text/plain": [
       "   userId  courseId  rating   timestamp  \\\n",
       "0       0    638418     4.5  1646141837   \n",
       "3       0   3640438     4.0  1647343090   \n",
       "5       0   4439592     4.5  1649625733   \n",
       "6       0    451966     5.0  1637992035   \n",
       "7       1   1578238     4.0  1629654452   \n",
       "\n",
       "                                               title  3D & Animation  \\\n",
       "0                           DSLR Video For Beginners               0   \n",
       "3  Final Cut Pro (FCP) X broadcast quality Editin...               0   \n",
       "5                              Formation videoscribe               0   \n",
       "6  Improve your WEST freestyle technique- from 20...               0   \n",
       "7             Fundamentals of Scope and Requirements               0   \n",
       "\n",
       "   Accounting & Bookkeeping  Affiliate Marketing  Apple  Architectural Design  \\\n",
       "0                         0                    0      0                     0   \n",
       "3                         0                    0      0                     0   \n",
       "5                         0                    0      0                     0   \n",
       "6                         0                    0      0                     0   \n",
       "7                         0                    0      0                     0   \n",
       "\n",
       "   ...  Travel  User Experience Design  Video & Mobile Marketing  \\\n",
       "0  ...       0                       0                         0   \n",
       "3  ...       0                       0                         0   \n",
       "5  ...       0                       0                         0   \n",
       "6  ...       0                       0                         0   \n",
       "7  ...       0                       0                         0   \n",
       "\n",
       "   Video Design  Vocal  Web Design  Web Development  Yoga  user  course  \n",
       "0             1      0           0                0     0     0    8005  \n",
       "3             1      0           0                0     0     0   10635  \n",
       "5             1      0           0                0     0     0   11044  \n",
       "6             0      0           0                0     0     0   14113  \n",
       "7             0      0           0                0     0     1   11366  \n",
       "\n",
       "[5 rows x 137 columns]"
      ]
     },
     "execution_count": 118,
     "metadata": {},
     "output_type": "execute_result"
    }
   ],
   "source": [
    "refined_dataset.head()"
   ]
  },
  {
   "cell_type": "markdown",
   "metadata": {
    "id": "3Vrfgd7TZ08C"
   },
   "source": [
    "## Splitting the data into training and testing"
   ]
  },
  {
   "cell_type": "code",
   "execution_count": 127,
   "metadata": {
    "colab": {
     "base_uri": "https://localhost:8080/"
    },
    "id": "9q04V-GnXPFs",
    "outputId": "efadf08a-206e-4d4f-dd06-17b44fa8f693"
   },
   "outputs": [
    {
     "data": {
      "text/plain": [
       "((31433, 133), (3493, 133), (31433,), (3493,))"
      ]
     },
     "execution_count": 127,
     "metadata": {},
     "output_type": "execute_result"
    }
   ],
   "source": [
    "X = refined_dataset[list(['user','course','timestamp']) + list(encoded_cols.columns)].values\n",
    "y = refined_dataset['rating'].values\n",
    "X_train, X_test, y_train, y_test = train_test_split(X, y, test_size=0.1, random_state=50)\n",
    "X_train.shape, X_test.shape, y_train.shape, y_test.shape"
   ]
  },
  {
   "cell_type": "markdown",
   "metadata": {
    "id": "y3s3cccxgGPy"
   },
   "source": [
    "## Defining number of factors which are to be considered by the Embedding layer"
   ]
  },
  {
   "cell_type": "code",
   "execution_count": 130,
   "metadata": {
    "id": "zA39k64MaEfs"
   },
   "outputs": [],
   "source": [
    "n_factors = 150"
   ]
  },
  {
   "cell_type": "markdown",
   "metadata": {
    "id": "fcqGOsdZgaFY"
   },
   "source": [
    "Columns in the input array are split into two separate arrays. As Keras considers them as two distinct inputs, each input needs to be fed in as its own array."
   ]
  },
  {
   "cell_type": "code",
   "execution_count": 131,
   "metadata": {
    "id": "83v-ulEIgS1l"
   },
   "outputs": [],
   "source": [
    "X_train_array = [X_train[:, 0], X_train[:, 1]]\n",
    "X_test_array = [X_test[:, 0], X_test[:, 1]]"
   ]
  },
  {
   "cell_type": "code",
   "execution_count": 132,
   "metadata": {
    "colab": {
     "base_uri": "https://localhost:8080/"
    },
    "id": "OpCiDWkexTkf",
    "outputId": "1a4a2766-39ef-4fd8-e9f0-535947aae7dd"
   },
   "outputs": [
    {
     "data": {
      "text/plain": [
       "(array([[      5633,      29525, 1638174093, ...,          0,          0,\n",
       "                  0],\n",
       "        [      4210,      19291, 1634395599, ...,          0,          0,\n",
       "                  0],\n",
       "        [      1010,      22399, 1631923105, ...,          0,          0,\n",
       "                  0],\n",
       "        ...,\n",
       "        [      9169,      12965, 1630444781, ...,          0,          0,\n",
       "                  0],\n",
       "        [      6490,      15304, 1648277872, ...,          0,          0,\n",
       "                  0],\n",
       "        [      4002,      26048, 1643600159, ...,          0,          0,\n",
       "                  0]], dtype=int64),\n",
       " [array([5633, 4210, 1010, ..., 9169, 6490, 4002], dtype=int64),\n",
       "  array([29525, 19291, 22399, ..., 12965, 15304, 26048], dtype=int64)],\n",
       " (31433,))"
      ]
     },
     "execution_count": 132,
     "metadata": {},
     "output_type": "execute_result"
    }
   ],
   "source": [
    "X_train, X_train_array, X_train_array[0].shape"
   ]
  },
  {
   "cell_type": "markdown",
   "metadata": {
    "id": "fgdqWxK1IDAg"
   },
   "source": [
    "## Normalizing the labels"
   ]
  },
  {
   "cell_type": "code",
   "execution_count": 133,
   "metadata": {
    "id": "4POYLlXTIP7G"
   },
   "outputs": [],
   "source": [
    "\n",
    "y_train = (y_train - min_rating)/(max_rating - min_rating)\n",
    "y_test = (y_test - min_rating)/(max_rating - min_rating)"
   ]
  },
  {
   "cell_type": "markdown",
   "metadata": {
    "id": "C_sQMkI-m-i-"
   },
   "source": [
    "## Building a Softmax Deep Neural Network"
   ]
  },
  {
   "cell_type": "code",
   "execution_count": null,
   "metadata": {},
   "outputs": [],
   "source": []
  },
  {
   "cell_type": "code",
   "execution_count": 134,
   "metadata": {
    "id": "PRBTogiuhpmV",
    "scrolled": true
   },
   "outputs": [],
   "source": [
    "## Initializing a input layer for users\n",
    "user = tf.keras.layers.Input(shape = (1,))\n",
    "\n",
    "## Embedding layer for n_factors of users\n",
    "u = keras.layers.Embedding(n_users, n_factors, embeddings_initializer = 'he_normal', embeddings_regularizer = tf.keras.regularizers.l2(1e-6))(user)\n",
    "u = tf.keras.layers.Reshape((n_factors,))(u)\n",
    "\n",
    "## Initializing a input layer for movies\n",
    "movie = tf.keras.layers.Input(shape = (1,))\n",
    "\n",
    "## Embedding layer for n_factors of movies\n",
    "m = keras.layers.Embedding(n_movies, n_factors, embeddings_initializer = 'he_normal', embeddings_regularizer=tf.keras.regularizers.l2(1e-6))(movie)\n",
    "m = tf.keras.layers.Reshape((n_factors,))(m)\n",
    "\n",
    "## stacking up both user and movie embeddings\n",
    "x = tf.keras.layers.Concatenate()([u,m])\n",
    "x = tf.keras.layers.Dropout(0.05)(x)\n",
    "\n",
    "## Adding a Dense layer to the architecture\n",
    "x = tf.keras.layers.Dense(32, kernel_initializer='he_normal')(x)\n",
    "x = tf.keras.layers.Activation(activation='relu')(x)\n",
    "x = tf.keras.layers.Dropout(0.05)(x)\n",
    "\n",
    "x = tf.keras.layers.Dense(16, kernel_initializer='he_normal')(x)\n",
    "x = tf.keras.layers.Activation(activation='relu')(x)\n",
    "x = tf.keras.layers.Dropout(0.05)(x)\n",
    "\n",
    "## Adding an Output layer with Sigmoid activation funtion which gives output between 0 and 1\n",
    "x = tf.keras.layers.Dense(9)(x)\n",
    "x = tf.keras.layers.Activation(activation='softmax')(x)\n",
    "\n",
    "## Adding a Lambda layer to convert the output to rating by scaling it with the help of available rating information\n",
    "# x = tf.keras.layers.Lambda(lambda x: x*(max_rating - min_rating) + min_rating)(x)\n",
    "\n",
    "## Defining the model\n",
    "model = tf.keras.models.Model(inputs=[user,movie], outputs=x)\n",
    "# optimizer = tf.keras.optimizers.Adam(lr=0.001)\n",
    "# optimizer = tf.keras.optimizers.RMSprop(learning_rate=0.005,\n",
    "    # rho=0.9, momentum=0.01, epsilon=1e-07)\n",
    "\n",
    "## Compiling the model\n",
    "# model.compile(loss='binary_crossentropy', optimizer = optimizer)\n",
    "# model.compile(loss='mean_squared_error', optimizer = optimizer,metrics=['accuracy'])\n",
    "model.compile(optimizer='sgd', loss=tf.keras.losses.SparseCategoricalCrossentropy(), metrics=['accuracy'])\n"
   ]
  },
  {
   "cell_type": "code",
   "execution_count": 135,
   "metadata": {
    "colab": {
     "base_uri": "https://localhost:8080/"
    },
    "id": "7rMMb03YpJt-",
    "outputId": "4a55230d-c639-4c04-c997-4317d3dd8693"
   },
   "outputs": [
    {
     "name": "stdout",
     "output_type": "stream",
     "text": [
      "Model: \"model\"\n",
      "__________________________________________________________________________________________________\n",
      " Layer (type)                   Output Shape         Param #     Connected to                     \n",
      "==================================================================================================\n",
      " input_1 (InputLayer)           [(None, 1)]          0           []                               \n",
      "                                                                                                  \n",
      " input_2 (InputLayer)           [(None, 1)]          0           []                               \n",
      "                                                                                                  \n",
      " embedding (Embedding)          (None, 1, 150)       1500000     ['input_1[0][0]']                \n",
      "                                                                                                  \n",
      " embedding_1 (Embedding)        (None, 1, 150)       4655550     ['input_2[0][0]']                \n",
      "                                                                                                  \n",
      " reshape (Reshape)              (None, 150)          0           ['embedding[0][0]']              \n",
      "                                                                                                  \n",
      " reshape_1 (Reshape)            (None, 150)          0           ['embedding_1[0][0]']            \n",
      "                                                                                                  \n",
      " concatenate (Concatenate)      (None, 300)          0           ['reshape[0][0]',                \n",
      "                                                                  'reshape_1[0][0]']              \n",
      "                                                                                                  \n",
      " dropout (Dropout)              (None, 300)          0           ['concatenate[0][0]']            \n",
      "                                                                                                  \n",
      " dense (Dense)                  (None, 32)           9632        ['dropout[0][0]']                \n",
      "                                                                                                  \n",
      " activation (Activation)        (None, 32)           0           ['dense[0][0]']                  \n",
      "                                                                                                  \n",
      " dropout_1 (Dropout)            (None, 32)           0           ['activation[0][0]']             \n",
      "                                                                                                  \n",
      " dense_1 (Dense)                (None, 16)           528         ['dropout_1[0][0]']              \n",
      "                                                                                                  \n",
      " activation_1 (Activation)      (None, 16)           0           ['dense_1[0][0]']                \n",
      "                                                                                                  \n",
      " dropout_2 (Dropout)            (None, 16)           0           ['activation_1[0][0]']           \n",
      "                                                                                                  \n",
      " dense_2 (Dense)                (None, 9)            153         ['dropout_2[0][0]']              \n",
      "                                                                                                  \n",
      " activation_2 (Activation)      (None, 9)            0           ['dense_2[0][0]']                \n",
      "                                                                                                  \n",
      "==================================================================================================\n",
      "Total params: 6,165,863\n",
      "Trainable params: 6,165,863\n",
      "Non-trainable params: 0\n",
      "__________________________________________________________________________________________________\n"
     ]
    }
   ],
   "source": [
    "model.summary()"
   ]
  },
  {
   "cell_type": "code",
   "execution_count": null,
   "metadata": {
    "colab": {
     "base_uri": "https://localhost:8080/"
    },
    "id": "Ky7cKIGDuSgy",
    "outputId": "636e86b7-702a-4047-d8c0-d30c8e47df47"
   },
   "outputs": [
    {
     "name": "stdout",
     "output_type": "stream",
     "text": [
      "Epoch 1/70\n",
      "246/246 [==============================] - 13s 50ms/step - loss: 1.4423 - accuracy: 0.0066 - val_loss: 0.9123 - val_accuracy: 0.0063 - lr: 0.0100\n",
      "Epoch 2/70\n",
      "246/246 [==============================] - 13s 51ms/step - loss: 0.7724 - accuracy: 0.0065 - val_loss: 0.6729 - val_accuracy: 0.0063 - lr: 0.0100\n",
      "Epoch 3/70\n",
      "244/246 [============================>.] - ETA: 0s - loss: 0.6668 - accuracy: 0.0064"
     ]
    }
   ],
   "source": [
    "reduce_lr = tf.keras.callbacks.ReduceLROnPlateau(monitor='val_loss', factor=0.75, patience=3, min_lr=0.000001, verbose=1)\n",
    "\n",
    "history = model.fit(x = X_train_array, y = y_train, batch_size=128, epochs=70, verbose=1, validation_data=(X_test_array, y_test)\n",
    ",shuffle=True,callbacks=[reduce_lr])\n"
   ]
  },
  {
   "cell_type": "code",
   "execution_count": 29,
   "metadata": {
    "colab": {
     "base_uri": "https://localhost:8080/",
     "height": 295
    },
    "id": "Ia_EsnKTur47",
    "outputId": "6e91d112-687e-49a5-9cf3-83395510bfa2"
   },
   "outputs": [
    {
     "data": {
      "image/png": "[encoded data removed]",
      "text/plain": [
       "<Figure size 432x288 with 1 Axes>"
      ]
     },
     "metadata": {
      "needs_background": "light"
     },
     "output_type": "display_data"
    }
   ],
   "source": [
    "plt.plot(history.history[\"loss\"][5:])\n",
    "plt.plot(history.history[\"val_loss\"][5:])\n",
    "plt.title(\"model loss\")\n",
    "plt.ylabel(\"loss\")\n",
    "plt.xlabel(\"epoch\")\n",
    "plt.legend([\"train\", \"test\"], loc=\"upper left\")\n",
    "plt.show()"
   ]
  },
  {
   "cell_type": "markdown",
   "metadata": {
    "id": "2VpBSnCPILno"
   },
   "source": [
    "## Getting movies for given User"
   ]
  },
  {
   "cell_type": "code",
   "execution_count": 30,
   "metadata": {
    "colab": {
     "base_uri": "https://localhost:8080/",
     "height": 195
    },
    "id": "qRgSHldIJMLu",
    "outputId": "63f27ff6-1c88-4d8f-ddfa-18e84971bb58"
   },
   "outputs": [
    {
     "data": {
      "text/html": [
       "<div>\n",
       "<style scoped>\n",
       "    .dataframe tbody tr th:only-of-type {\n",
       "        vertical-align: middle;\n",
       "    }\n",
       "\n",
       "    .dataframe tbody tr th {\n",
       "        vertical-align: top;\n",
       "    }\n",
       "\n",
       "    .dataframe thead th {\n",
       "        text-align: right;\n",
       "    }\n",
       "</style>\n",
       "<table border=\"1\" class=\"dataframe\">\n",
       "  <thead>\n",
       "    <tr style=\"text-align: right;\">\n",
       "      <th></th>\n",
       "      <th>user id</th>\n",
       "      <th>movie title</th>\n",
       "      <th>rating</th>\n",
       "      <th>movie id</th>\n",
       "      <th>release date</th>\n",
       "      <th>Action</th>\n",
       "      <th>Adventure</th>\n",
       "      <th>Animation</th>\n",
       "      <th>Children</th>\n",
       "      <th>Comedy</th>\n",
       "      <th>...</th>\n",
       "      <th>Horror</th>\n",
       "      <th>Musical</th>\n",
       "      <th>Mystery</th>\n",
       "      <th>Romance</th>\n",
       "      <th>Sci-Fi</th>\n",
       "      <th>Thriller</th>\n",
       "      <th>War</th>\n",
       "      <th>Western</th>\n",
       "      <th>user</th>\n",
       "      <th>movie</th>\n",
       "    </tr>\n",
       "  </thead>\n",
       "  <tbody>\n",
       "    <tr>\n",
       "      <th>0</th>\n",
       "      <td>1</td>\n",
       "      <td>101 Dalmatians (1996)</td>\n",
       "      <td>2.0</td>\n",
       "      <td>225</td>\n",
       "      <td>27-Nov-1996</td>\n",
       "      <td>0</td>\n",
       "      <td>0</td>\n",
       "      <td>0</td>\n",
       "      <td>1</td>\n",
       "      <td>1</td>\n",
       "      <td>...</td>\n",
       "      <td>0</td>\n",
       "      <td>0</td>\n",
       "      <td>0</td>\n",
       "      <td>0</td>\n",
       "      <td>0</td>\n",
       "      <td>0</td>\n",
       "      <td>0</td>\n",
       "      <td>0</td>\n",
       "      <td>0</td>\n",
       "      <td>2</td>\n",
       "    </tr>\n",
       "    <tr>\n",
       "      <th>1</th>\n",
       "      <td>5</td>\n",
       "      <td>101 Dalmatians (1996)</td>\n",
       "      <td>2.0</td>\n",
       "      <td>225</td>\n",
       "      <td>27-Nov-1996</td>\n",
       "      <td>0</td>\n",
       "      <td>0</td>\n",
       "      <td>0</td>\n",
       "      <td>1</td>\n",
       "      <td>1</td>\n",
       "      <td>...</td>\n",
       "      <td>0</td>\n",
       "      <td>0</td>\n",
       "      <td>0</td>\n",
       "      <td>0</td>\n",
       "      <td>0</td>\n",
       "      <td>0</td>\n",
       "      <td>0</td>\n",
       "      <td>0</td>\n",
       "      <td>4</td>\n",
       "      <td>2</td>\n",
       "    </tr>\n",
       "    <tr>\n",
       "      <th>2</th>\n",
       "      <td>13</td>\n",
       "      <td>101 Dalmatians (1996)</td>\n",
       "      <td>2.0</td>\n",
       "      <td>225</td>\n",
       "      <td>27-Nov-1996</td>\n",
       "      <td>0</td>\n",
       "      <td>0</td>\n",
       "      <td>0</td>\n",
       "      <td>1</td>\n",
       "      <td>1</td>\n",
       "      <td>...</td>\n",
       "      <td>0</td>\n",
       "      <td>0</td>\n",
       "      <td>0</td>\n",
       "      <td>0</td>\n",
       "      <td>0</td>\n",
       "      <td>0</td>\n",
       "      <td>0</td>\n",
       "      <td>0</td>\n",
       "      <td>12</td>\n",
       "      <td>2</td>\n",
       "    </tr>\n",
       "    <tr>\n",
       "      <th>3</th>\n",
       "      <td>15</td>\n",
       "      <td>101 Dalmatians (1996)</td>\n",
       "      <td>3.0</td>\n",
       "      <td>225</td>\n",
       "      <td>27-Nov-1996</td>\n",
       "      <td>0</td>\n",
       "      <td>0</td>\n",
       "      <td>0</td>\n",
       "      <td>1</td>\n",
       "      <td>1</td>\n",
       "      <td>...</td>\n",
       "      <td>0</td>\n",
       "      <td>0</td>\n",
       "      <td>0</td>\n",
       "      <td>0</td>\n",
       "      <td>0</td>\n",
       "      <td>0</td>\n",
       "      <td>0</td>\n",
       "      <td>0</td>\n",
       "      <td>14</td>\n",
       "      <td>2</td>\n",
       "    </tr>\n",
       "    <tr>\n",
       "      <th>4</th>\n",
       "      <td>38</td>\n",
       "      <td>101 Dalmatians (1996)</td>\n",
       "      <td>5.0</td>\n",
       "      <td>225</td>\n",
       "      <td>27-Nov-1996</td>\n",
       "      <td>0</td>\n",
       "      <td>0</td>\n",
       "      <td>0</td>\n",
       "      <td>1</td>\n",
       "      <td>1</td>\n",
       "      <td>...</td>\n",
       "      <td>0</td>\n",
       "      <td>0</td>\n",
       "      <td>0</td>\n",
       "      <td>0</td>\n",
       "      <td>0</td>\n",
       "      <td>0</td>\n",
       "      <td>0</td>\n",
       "      <td>0</td>\n",
       "      <td>37</td>\n",
       "      <td>2</td>\n",
       "    </tr>\n",
       "  </tbody>\n",
       "</table>\n",
       "<p>5 rows × 25 columns</p>\n",
       "</div>"
      ],
      "text/plain": [
       "   user id            movie title  rating  movie id release date  Action  \\\n",
       "0        1  101 Dalmatians (1996)     2.0       225  27-Nov-1996       0   \n",
       "1        5  101 Dalmatians (1996)     2.0       225  27-Nov-1996       0   \n",
       "2       13  101 Dalmatians (1996)     2.0       225  27-Nov-1996       0   \n",
       "3       15  101 Dalmatians (1996)     3.0       225  27-Nov-1996       0   \n",
       "4       38  101 Dalmatians (1996)     5.0       225  27-Nov-1996       0   \n",
       "\n",
       "   Adventure  Animation  Children  Comedy  ...  Horror  Musical  Mystery  \\\n",
       "0          0          0         1       1  ...       0        0        0   \n",
       "1          0          0         1       1  ...       0        0        0   \n",
       "2          0          0         1       1  ...       0        0        0   \n",
       "3          0          0         1       1  ...       0        0        0   \n",
       "4          0          0         1       1  ...       0        0        0   \n",
       "\n",
       "   Romance  Sci-Fi  Thriller  War  Western  user  movie  \n",
       "0        0       0         0    0        0     0      2  \n",
       "1        0       0         0    0        0     4      2  \n",
       "2        0       0         0    0        0    12      2  \n",
       "3        0       0         0    0        0    14      2  \n",
       "4        0       0         0    0        0    37      2  \n",
       "\n",
       "[5 rows x 25 columns]"
      ]
     },
     "execution_count": 30,
     "metadata": {},
     "output_type": "execute_result"
    }
   ],
   "source": [
    "refined_dataset.head()"
   ]
  },
  {
   "cell_type": "markdown",
   "metadata": {
    "id": "Xdmw3s6eJjSz"
   },
   "source": [
    "**How this DNN model works is, it takes two inputs, one of the input has user id's and the other has corresponding movie id's. Here DNN model tries to predict the ratings of the user - movie combination. So, we can input a specific user id (broadcasting it with the size of other input) and unseen movie id of the user and expect the model to give the ratings of the movies which would have been the ratings given by the user. Here, the ratings are already normalized and as we need the movies which interest the user more, ratings are not brought back to 0-5 scale.**"
   ]
  },
  {
   "cell_type": "code",
   "execution_count": 31,
   "metadata": {
    "colab": {
     "base_uri": "https://localhost:8080/"
    },
    "id": "A9pFADxRM-SX",
    "outputId": "094cda8f-f537-40f8-a4bb-081f1609debc"
   },
   "outputs": [
    {
     "data": {
      "text/plain": [
       "[array([ 89, 663, 531, ..., 428,  89, 824], dtype=int64),\n",
       " array([1317, 1002,   25, ..., 1297,  940,  563], dtype=int64)]"
      ]
     },
     "execution_count": 31,
     "metadata": {},
     "output_type": "execute_result"
    }
   ],
   "source": [
    "X_train_array"
   ]
  },
  {
   "cell_type": "markdown",
   "metadata": {
    "id": "_5Orqr2yatoT"
   },
   "source": [
    "Above is the model input shape"
   ]
  },
  {
   "cell_type": "code",
   "execution_count": 32,
   "metadata": {},
   "outputs": [],
   "source": [
    "# merged_dataset = merged_dataset[merged_dataset['user id'] != 777].append(merged_dataset[merged_dataset['user id'] == 777][merged_dataset[merged_dataset['user id'] == 777]['movie id'] == 1], ignore_index=True)"
   ]
  },
  {
   "cell_type": "code",
   "execution_count": 71,
   "metadata": {
    "colab": {
     "base_uri": "https://localhost:8080/"
    },
    "id": "bKuwDF7pxEgA",
    "outputId": "d87ddc00-2d77-467b-e969-a178b6915885"
   },
   "outputs": [
    {
     "name": "stdout",
     "output_type": "stream",
     "text": [
      "[1523]\n"
     ]
    }
   ],
   "source": [
    "\n",
    "user_id = [777]\n",
    "encoded_user_id = user_enc.transform(user_id)\n",
    "\n",
    "seen_movies = list(refined_dataset[refined_dataset['user id'] == user_id[0]]['movie'])\n",
    "print(seen_movies)"
   ]
  },
  {
   "cell_type": "markdown",
   "metadata": {
    "id": "_qMqFifba4Yj"
   },
   "source": [
    "Id's of movies which are already seen by the user are extracted."
   ]
  },
  {
   "cell_type": "code",
   "execution_count": 34,
   "metadata": {
    "colab": {
     "base_uri": "https://localhost:8080/"
    },
    "id": "IjXFgDR4NTkO",
    "outputId": "5d0f7e81-0a74-4937-9d5f-e6bae0b1a710"
   },
   "outputs": [
    {
     "data": {
      "text/plain": [
       "(1664, 0, 1663)"
      ]
     },
     "execution_count": 34,
     "metadata": {},
     "output_type": "execute_result"
    }
   ],
   "source": [
    "len(refined_dataset['movie'].unique()), min(refined_dataset['movie']), max(refined_dataset['movie'])"
   ]
  },
  {
   "cell_type": "markdown",
   "metadata": {
    "id": "Np6LcHMwYTD-"
   },
   "source": [
    "We can understand that the labels are from 0 to 1663. So the movie id's which are not seen by the user can be pciked just by excluding the 'seen_movies' list from the first 1663 natural numbers."
   ]
  },
  {
   "cell_type": "code",
   "execution_count": 35,
   "metadata": {
    "colab": {
     "base_uri": "https://localhost:8080/"
    },
    "id": "i_rRA2ScWFLF",
    "outputId": "91e243ff-bb18-40ca-ca25-b6bbdcbdaa6a"
   },
   "outputs": [
    {
     "name": "stdout",
     "output_type": "stream",
     "text": [
      "[0, 1, 2, 3, 4, 5, 6, 7, 8, 9, 10, 11, 12, 13, 14, 15, 16, 17, 18, 19, 20, 21, 22, 23, 24, 25, 26, 27, 28, 29, 30, 31, 32, 33, 34, 35, 36, 37, 38, 39, 40, 41, 42, 43, 44, 45, 46, 47, 48, 49, 50, 51, 52, 53, 54, 55, 56, 57, 58, 59, 60, 61, 62, 63, 64, 65, 66, 67, 68, 69, 70, 71, 72, 73, 74, 75, 76, 77, 78, 79, 80, 81, 82, 83, 84, 85, 86, 87, 88, 89, 90, 91, 92, 93, 94, 95, 96, 97, 98, 99, 100, 101, 102, 103, 104, 105, 106, 107, 108, 109, 110, 111, 112, 113, 114, 115, 116, 117, 118, 119, 120, 121, 122, 123, 124, 125, 126, 127, 128, 129, 130, 131, 132, 133, 134, 135, 136, 137, 138, 139, 140, 141, 142, 143, 144, 145, 146, 147, 148, 149, 150, 151, 152, 153, 154, 155, 156, 157, 158, 159, 160, 161, 162, 163, 164, 165, 166, 167, 168, 169, 170, 171, 172, 173, 174, 175, 176, 177, 178, 179, 180, 181, 182, 183, 184, 185, 186, 187, 188, 189, 190, 191, 192, 193, 194, 195, 196, 197, 198, 199, 200, 201, 202, 203, 204, 205, 206, 207, 208, 209, 210, 211, 212, 213, 214, 215, 216, 217, 218, 219, 220, 221, 222, 223, 224, 225, 226, 227, 228, 229, 230, 231, 232, 233, 234, 235, 236, 237, 238, 239, 240, 241, 242, 243, 244, 245, 246, 247, 248, 249, 250, 251, 252, 253, 254, 255, 256, 257, 258, 259, 260, 261, 262, 263, 264, 265, 266, 267, 268, 269, 270, 271, 272, 273, 274, 275, 276, 277, 278, 279, 280, 281, 282, 283, 284, 285, 286, 287, 288, 289, 290, 291, 292, 293, 294, 295, 296, 297, 298, 299, 300, 301, 302, 303, 304, 305, 306, 307, 308, 309, 310, 311, 312, 313, 314, 315, 316, 317, 318, 319, 320, 321, 322, 323, 324, 325, 326, 327, 328, 329, 330, 331, 332, 333, 334, 335, 336, 337, 338, 339, 340, 341, 342, 343, 344, 345, 346, 347, 348, 349, 350, 351, 352, 353, 354, 355, 356, 357, 358, 359, 360, 361, 362, 363, 364, 365, 366, 367, 368, 369, 370, 371, 372, 373, 374, 375, 376, 377, 378, 379, 380, 381, 382, 383, 384, 385, 386, 387, 388, 389, 390, 391, 392, 393, 394, 395, 396, 397, 398, 399, 400, 401, 402, 403, 404, 405, 406, 407, 408, 409, 410, 411, 412, 413, 414, 415, 416, 417, 418, 419, 420, 421, 422, 423, 424, 425, 426, 427, 428, 429, 430, 431, 432, 433, 434, 435, 436, 437, 438, 439, 440, 441, 442, 443, 444, 445, 446, 447, 448, 449, 450, 451, 452, 453, 454, 455, 456, 457, 458, 459, 460, 461, 462, 463, 464, 465, 466, 467, 468, 469, 470, 471, 472, 473, 474, 475, 476, 477, 478, 479, 480, 481, 482, 483, 484, 485, 486, 487, 488, 489, 490, 491, 492, 493, 494, 495, 496, 497, 498, 499, 500, 501, 502, 503, 504, 505, 506, 507, 508, 509, 510, 511, 512, 513, 514, 515, 516, 517, 518, 519, 520, 521, 522, 523, 524, 525, 526, 527, 528, 529, 530, 531, 532, 533, 534, 535, 536, 537, 538, 539, 540, 541, 542, 543, 544, 545, 546, 547, 548, 549, 550, 551, 552, 553, 554, 555, 556, 557, 558, 559, 560, 561, 562, 563, 564, 565, 566, 567, 568, 569, 570, 571, 572, 573, 574, 575, 576, 577, 578, 579, 580, 581, 582, 583, 584, 585, 586, 587, 588, 589, 590, 591, 592, 593, 594, 595, 596, 597, 598, 599, 600, 601, 602, 603, 604, 605, 606, 607, 608, 609, 610, 611, 612, 613, 614, 615, 616, 617, 618, 619, 620, 621, 622, 623, 624, 625, 626, 627, 628, 629, 630, 631, 632, 633, 634, 635, 636, 637, 638, 639, 640, 641, 642, 643, 644, 645, 646, 647, 648, 649, 650, 651, 652, 653, 654, 655, 656, 657, 658, 659, 660, 661, 662, 663, 664, 665, 666, 667, 668, 669, 670, 671, 672, 673, 674, 675, 676, 677, 678, 679, 680, 681, 682, 683, 684, 685, 686, 687, 688, 689, 690, 691, 692, 693, 694, 695, 696, 697, 698, 699, 700, 701, 702, 703, 704, 705, 706, 707, 708, 709, 710, 711, 712, 713, 714, 715, 716, 717, 718, 719, 720, 721, 722, 723, 724, 725, 726, 727, 728, 729, 730, 731, 732, 733, 734, 735, 736, 737, 738, 739, 740, 741, 742, 743, 744, 745, 746, 747, 748, 749, 750, 751, 752, 753, 754, 755, 756, 757, 758, 759, 760, 761, 762, 763, 764, 765, 766, 767, 768, 769, 770, 771, 772, 773, 774, 775, 776, 777, 778, 779, 780, 781, 782, 783, 784, 785, 786, 787, 788, 789, 790, 791, 792, 793, 794, 795, 796, 797, 798, 799, 800, 801, 802, 803, 804, 805, 806, 807, 808, 809, 810, 811, 812, 813, 814, 815, 816, 817, 818, 819, 820, 821, 822, 823, 824, 825, 826, 827, 828, 829, 830, 831, 832, 833, 834, 835, 836, 837, 838, 839, 840, 841, 842, 843, 844, 845, 846, 847, 848, 849, 850, 851, 852, 853, 854, 855, 856, 857, 858, 859, 860, 861, 862, 863, 864, 865, 866, 867, 868, 869, 870, 871, 872, 873, 874, 875, 876, 877, 878, 879, 880, 881, 882, 883, 884, 885, 886, 887, 888, 889, 890, 891, 892, 893, 894, 895, 896, 897, 898, 899, 900, 901, 902, 903, 904, 905, 906, 907, 908, 909, 910, 911, 912, 913, 914, 915, 916, 917, 918, 919, 920, 921, 922, 923, 924, 925, 926, 927, 928, 929, 930, 931, 932, 933, 934, 935, 936, 937, 938, 939, 940, 941, 942, 943, 944, 945, 946, 947, 948, 949, 950, 951, 952, 953, 954, 955, 956, 957, 958, 959, 960, 961, 962, 963, 964, 965, 966, 967, 968, 969, 970, 971, 972, 973, 974, 975, 976, 977, 978, 979, 980, 981, 982, 983, 984, 985, 986, 987, 988, 989, 990, 991, 992, 993, 994, 995, 996, 997, 998, 999, 1000, 1001, 1002, 1003, 1004, 1005, 1006, 1007, 1008, 1009, 1010, 1011, 1012, 1013, 1014, 1015, 1016, 1017, 1018, 1019, 1020, 1021, 1022, 1023, 1024, 1025, 1026, 1027, 1028, 1029, 1030, 1031, 1032, 1033, 1034, 1035, 1036, 1037, 1038, 1039, 1040, 1041, 1042, 1043, 1044, 1045, 1046, 1047, 1048, 1049, 1050, 1051, 1052, 1053, 1054, 1055, 1056, 1057, 1058, 1059, 1060, 1061, 1062, 1063, 1064, 1065, 1066, 1067, 1068, 1069, 1070, 1071, 1072, 1073, 1074, 1075, 1076, 1077, 1078, 1079, 1080, 1081, 1082, 1083, 1084, 1085, 1086, 1087, 1088, 1089, 1090, 1091, 1092, 1093, 1094, 1095, 1096, 1097, 1098, 1099, 1100, 1101, 1102, 1103, 1104, 1105, 1106, 1107, 1108, 1109, 1110, 1111, 1112, 1113, 1114, 1115, 1116, 1117, 1118, 1119, 1120, 1121, 1122, 1123, 1124, 1125, 1126, 1127, 1128, 1129, 1130, 1131, 1132, 1133, 1134, 1135, 1136, 1137, 1138, 1139, 1140, 1141, 1142, 1143, 1144, 1145, 1146, 1147, 1148, 1149, 1150, 1151, 1152, 1153, 1154, 1155, 1156, 1157, 1158, 1159, 1160, 1161, 1162, 1163, 1164, 1165, 1166, 1167, 1168, 1169, 1170, 1171, 1172, 1173, 1174, 1175, 1176, 1177, 1178, 1179, 1180, 1181, 1182, 1183, 1184, 1185, 1186, 1187, 1188, 1189, 1190, 1191, 1192, 1193, 1194, 1195, 1196, 1197, 1198, 1199, 1200, 1201, 1202, 1203, 1204, 1205, 1206, 1207, 1208, 1209, 1210, 1211, 1212, 1213, 1214, 1215, 1216, 1217, 1218, 1219, 1220, 1221, 1222, 1223, 1224, 1225, 1226, 1227, 1228, 1229, 1230, 1231, 1232, 1233, 1234, 1235, 1236, 1237, 1238, 1239, 1240, 1241, 1242, 1243, 1244, 1245, 1246, 1247, 1248, 1249, 1250, 1251, 1252, 1253, 1254, 1255, 1256, 1257, 1258, 1259, 1260, 1261, 1262, 1263, 1264, 1265, 1266, 1267, 1268, 1269, 1270, 1271, 1272, 1273, 1274, 1275, 1276, 1277, 1278, 1279, 1280, 1281, 1282, 1283, 1284, 1285, 1286, 1287, 1288, 1289, 1290, 1291, 1292, 1293, 1294, 1295, 1296, 1297, 1298, 1299, 1300, 1301, 1302, 1303, 1304, 1305, 1306, 1307, 1308, 1309, 1310, 1311, 1312, 1313, 1314, 1315, 1316, 1317, 1318, 1319, 1320, 1321, 1322, 1323, 1324, 1325, 1326, 1327, 1328, 1329, 1330, 1331, 1332, 1333, 1334, 1335, 1336, 1337, 1338, 1339, 1340, 1341, 1342, 1343, 1344, 1345, 1346, 1347, 1348, 1349, 1350, 1351, 1352, 1353, 1354, 1355, 1356, 1357, 1358, 1359, 1360, 1361, 1362, 1363, 1364, 1365, 1366, 1367, 1368, 1369, 1370, 1371, 1372, 1373, 1374, 1375, 1376, 1377, 1378, 1379, 1380, 1381, 1382, 1383, 1384, 1385, 1386, 1387, 1388, 1389, 1390, 1391, 1392, 1393, 1394, 1395, 1396, 1397, 1398, 1399, 1400, 1401, 1402, 1403, 1404, 1405, 1406, 1407, 1408, 1409, 1410, 1411, 1412, 1413, 1414, 1415, 1416, 1417, 1418, 1419, 1420, 1421, 1422, 1423, 1424, 1425, 1426, 1427, 1428, 1429, 1430, 1431, 1432, 1433, 1434, 1435, 1436, 1437, 1438, 1439, 1440, 1441, 1442, 1443, 1444, 1445, 1446, 1447, 1448, 1449, 1450, 1451, 1452, 1453, 1454, 1455, 1456, 1457, 1458, 1459, 1460, 1461, 1462, 1463, 1464, 1465, 1466, 1467, 1468, 1469, 1470, 1471, 1472, 1473, 1474, 1475, 1476, 1477, 1478, 1479, 1480, 1481, 1482, 1483, 1484, 1485, 1486, 1487, 1488, 1489, 1490, 1491, 1492, 1493, 1494, 1495, 1496, 1497, 1498, 1499, 1500, 1501, 1502, 1503, 1504, 1505, 1506, 1507, 1508, 1509, 1510, 1511, 1512, 1513, 1514, 1515, 1516, 1517, 1518, 1519, 1520, 1521, 1522, 1524, 1525, 1526, 1527, 1528, 1529, 1530, 1531, 1532, 1533, 1534, 1535, 1536, 1537, 1538, 1539, 1540, 1541, 1542, 1543, 1544, 1545, 1546, 1547, 1548, 1549, 1550, 1551, 1552, 1553, 1554, 1555, 1556, 1557, 1558, 1559, 1560, 1561, 1562, 1563, 1564, 1565, 1566, 1567, 1568, 1569, 1570, 1571, 1572, 1573, 1574, 1575, 1576, 1577, 1578, 1579, 1580, 1581, 1582, 1583, 1584, 1585, 1586, 1587, 1588, 1589, 1590, 1591, 1592, 1593, 1594, 1595, 1596, 1597, 1598, 1599, 1600, 1601, 1602, 1603, 1604, 1605, 1606, 1607, 1608, 1609, 1610, 1611, 1612, 1613, 1614, 1615, 1616, 1617, 1618, 1619, 1620, 1621, 1622, 1623, 1624, 1625, 1626, 1627, 1628, 1629, 1630, 1631, 1632, 1633, 1634, 1635, 1636, 1637, 1638, 1639, 1640, 1641, 1642, 1643, 1644, 1645, 1646, 1647, 1648, 1649, 1650, 1651, 1652, 1653, 1654, 1655, 1656, 1657, 1658, 1659, 1660, 1661, 1662, 1663]\n"
     ]
    }
   ],
   "source": [
    "unseen_movies = [i for i in range(min(refined_dataset['movie']), max(refined_dataset['movie'])+1) if i not in seen_movies]\n",
    "print(unseen_movies)"
   ]
  },
  {
   "cell_type": "markdown",
   "metadata": {
    "id": "KcspS9SMdJef"
   },
   "source": [
    "Movies which are not seen by the user."
   ]
  },
  {
   "cell_type": "code",
   "execution_count": 36,
   "metadata": {
    "colab": {
     "base_uri": "https://localhost:8080/"
    },
    "id": "mtCDRu3WYCZa",
    "outputId": "48021904-8448-4a42-8503-12ac87cca357"
   },
   "outputs": [
    {
     "data": {
      "text/plain": [
       "1664"
      ]
     },
     "execution_count": 36,
     "metadata": {},
     "output_type": "execute_result"
    }
   ],
   "source": [
    "len(unseen_movies) + len(seen_movies)"
   ]
  },
  {
   "cell_type": "code",
   "execution_count": 37,
   "metadata": {
    "colab": {
     "base_uri": "https://localhost:8080/"
    },
    "id": "qmS6oeujY6fo",
    "outputId": "c0bb5729-431b-47ff-f80c-a5ce7a204206"
   },
   "outputs": [
    {
     "data": {
      "text/plain": [
       "(2, 1663)"
      ]
     },
     "execution_count": 37,
     "metadata": {},
     "output_type": "execute_result"
    }
   ],
   "source": [
    "model_input = [np.asarray(list(encoded_user_id)*len(unseen_movies)), np.asarray(unseen_movies)]\n",
    "len(model_input), len(model_input[0])"
   ]
  },
  {
   "cell_type": "markdown",
   "metadata": {
    "id": "PyRgI_vJdsAp"
   },
   "source": [
    "**DNN model is used to predict the ratings of the unseen movies.**"
   ]
  },
  {
   "cell_type": "code",
   "execution_count": 38,
   "metadata": {
    "id": "mmtIZjAgZSax"
   },
   "outputs": [
    {
     "name": "stdout",
     "output_type": "stream",
     "text": [
      "52/52 [==============================] - 0s 881us/step\n"
     ]
    }
   ],
   "source": [
    "predicted_ratings = model.predict(model_input)"
   ]
  },
  {
   "cell_type": "code",
   "execution_count": 39,
   "metadata": {
    "colab": {
     "base_uri": "https://localhost:8080/"
    },
    "id": "OfKQOn9CZhi9",
    "outputId": "22732ec9-ab60-4e1b-fd1c-778be5710790"
   },
   "outputs": [
    {
     "name": "stdout",
     "output_type": "stream",
     "text": [
      "(1663, 9)\n"
     ]
    }
   ],
   "source": [
    "print(predicted_ratings.shape)"
   ]
  },
  {
   "cell_type": "code",
   "execution_count": 40,
   "metadata": {
    "colab": {
     "base_uri": "https://localhost:8080/"
    },
    "id": "y1IGrVJBaKwb",
    "outputId": "6a5c70e9-c5b5-4364-ec36-2587c40559a4"
   },
   "outputs": [
    {
     "name": "stdout",
     "output_type": "stream",
     "text": [
      "[[8.3829504e-01 1.6165373e-01 5.9983845e-06 ... 1.0079749e-05\n",
      "  4.5824445e-06 8.2036686e-06]\n",
      " [7.4217570e-01 2.5775754e-01 8.5935599e-06 ... 1.3144391e-05\n",
      "  6.5230938e-06 9.0167241e-06]\n",
      " [8.6257923e-01 1.3734631e-01 9.8406954e-06 ... 1.5503039e-05\n",
      "  6.7358992e-06 1.1419675e-05]\n",
      " ...\n",
      " [8.2174748e-01 1.7819013e-01 7.9432684e-06 ... 1.2495490e-05\n",
      "  5.8175528e-06 9.2858163e-06]\n",
      " [6.9526112e-01 3.0465120e-01 1.1021787e-05 ... 1.6597292e-05\n",
      "  8.5353695e-06 1.2141368e-05]\n",
      " [7.3373246e-01 2.6620218e-01 8.1411681e-06 ... 1.2483725e-05\n",
      "  6.1441333e-06 9.0209960e-06]]\n"
     ]
    }
   ],
   "source": [
    "print(predicted_ratings)"
   ]
  },
  {
   "cell_type": "markdown",
   "metadata": {
    "id": "4Uqrx92hd1Yl"
   },
   "source": [
    "Output is of shape (1628, 9). We got probability of each possible rating from 1 to 5. We can extract specific rating which user would have given to a movie but it is not useful for these recommendations now."
   ]
  },
  {
   "cell_type": "code",
   "execution_count": 41,
   "metadata": {
    "colab": {
     "base_uri": "https://localhost:8080/"
    },
    "id": "KNOAYhR0e6-h",
    "outputId": "5f6aea9d-d39f-47f5-99c2-6d6fda8e047b"
   },
   "outputs": [
    {
     "data": {
      "text/plain": [
       "array([0.83829504, 0.7421757 , 0.8625792 , ..., 0.8217475 , 0.6952611 ,\n",
       "       0.73373246], dtype=float32)"
      ]
     },
     "execution_count": 41,
     "metadata": {},
     "output_type": "execute_result"
    }
   ],
   "source": [
    "predicted_ratings = np.max(predicted_ratings, axis=1)\n",
    "predicted_ratings"
   ]
  },
  {
   "cell_type": "code",
   "execution_count": 42,
   "metadata": {
    "colab": {
     "base_uri": "https://localhost:8080/"
    },
    "id": "X_AitEdxe7UB",
    "outputId": "ff5bee9d-73ab-4d84-f94d-c3ded15bf273"
   },
   "outputs": [
    {
     "data": {
      "text/plain": [
       "(1663,)"
      ]
     },
     "execution_count": 42,
     "metadata": {},
     "output_type": "execute_result"
    }
   ],
   "source": [
    "predicted_ratings.shape"
   ]
  },
  {
   "cell_type": "markdown",
   "metadata": {
    "id": "nMyRRTncgMbf"
   },
   "source": [
    "Index of ratings sorted by descending order."
   ]
  },
  {
   "cell_type": "code",
   "execution_count": 43,
   "metadata": {
    "colab": {
     "base_uri": "https://localhost:8080/"
    },
    "id": "ouBCeCapf-UK",
    "outputId": "a0fd1203-cead-4ceb-9035-5a125a967cb3"
   },
   "outputs": [
    {
     "name": "stdout",
     "output_type": "stream",
     "text": [
      "[ 982 1478  481 ... 1172 1124   27]\n"
     ]
    }
   ],
   "source": [
    "sorted_index = np.argsort(predicted_ratings)[::-1]\n",
    "print(sorted_index)"
   ]
  },
  {
   "cell_type": "markdown",
   "metadata": {
    "id": "1wKHCeFTkROY"
   },
   "source": [
    "**Movie names have been extracted from the available indices we got.**"
   ]
  },
  {
   "cell_type": "code",
   "execution_count": 44,
   "metadata": {
    "colab": {
     "base_uri": "https://localhost:8080/"
    },
    "id": "p6KxPoScf-d6",
    "outputId": "35e94fd4-35e0-4492-a579-7fa51df0a76b"
   },
   "outputs": [
    {
     "data": {
      "text/plain": [
       "array(['Mimic (1997)', 'Thinner (1996)', 'Extreme Measures (1996)', ...,\n",
       "       'Prefontaine (1997)', 'Paris Is Burning (1990)',\n",
       "       'African Queen, The (1951)'], dtype=object)"
      ]
     },
     "execution_count": 44,
     "metadata": {},
     "output_type": "execute_result"
    }
   ],
   "source": [
    "recommended_movies = item_enc.inverse_transform(sorted_index)\n",
    "recommended_movies"
   ]
  },
  {
   "cell_type": "markdown",
   "metadata": {
    "id": "HaKPES74keEW"
   },
   "source": [
    "## Movies recommended with the help of Softmax Deep Neural Networks"
   ]
  },
  {
   "cell_type": "code",
   "execution_count": 55,
   "metadata": {},
   "outputs": [
    {
     "data": {
      "text/plain": [
       "1663"
      ]
     },
     "execution_count": 55,
     "metadata": {},
     "output_type": "execute_result"
    }
   ],
   "source": [
    "len(recommended_movies)"
   ]
  },
  {
   "cell_type": "code",
   "execution_count": 66,
   "metadata": {},
   "outputs": [
    {
     "data": {
      "text/html": [
       "<div>\n",
       "<style scoped>\n",
       "    .dataframe tbody tr th:only-of-type {\n",
       "        vertical-align: middle;\n",
       "    }\n",
       "\n",
       "    .dataframe tbody tr th {\n",
       "        vertical-align: top;\n",
       "    }\n",
       "\n",
       "    .dataframe thead th {\n",
       "        text-align: right;\n",
       "    }\n",
       "</style>\n",
       "<table border=\"1\" class=\"dataframe\">\n",
       "  <thead>\n",
       "    <tr style=\"text-align: right;\">\n",
       "      <th></th>\n",
       "      <th>movie id</th>\n",
       "      <th>movie title</th>\n",
       "      <th>release date</th>\n",
       "      <th>video release date</th>\n",
       "      <th>IMDb URL</th>\n",
       "      <th>unknown</th>\n",
       "      <th>Action</th>\n",
       "      <th>Adventure</th>\n",
       "      <th>Animation</th>\n",
       "      <th>Children</th>\n",
       "      <th>...</th>\n",
       "      <th>Fantasy</th>\n",
       "      <th>Film-Noir</th>\n",
       "      <th>Horror</th>\n",
       "      <th>Musical</th>\n",
       "      <th>Mystery</th>\n",
       "      <th>Romance</th>\n",
       "      <th>Sci-Fi</th>\n",
       "      <th>Thriller</th>\n",
       "      <th>War</th>\n",
       "      <th>Western</th>\n",
       "    </tr>\n",
       "  </thead>\n",
       "  <tbody>\n",
       "    <tr>\n",
       "      <th>1522</th>\n",
       "      <td>1523</td>\n",
       "      <td>Good Man in Africa, A (1994)</td>\n",
       "      <td>01-Jan-1994</td>\n",
       "      <td>NaN</td>\n",
       "      <td>http://us.imdb.com/M/title-exact?Good%20Man%20...</td>\n",
       "      <td>0</td>\n",
       "      <td>1</td>\n",
       "      <td>1</td>\n",
       "      <td>0</td>\n",
       "      <td>0</td>\n",
       "      <td>...</td>\n",
       "      <td>0</td>\n",
       "      <td>0</td>\n",
       "      <td>0</td>\n",
       "      <td>0</td>\n",
       "      <td>0</td>\n",
       "      <td>0</td>\n",
       "      <td>0</td>\n",
       "      <td>0</td>\n",
       "      <td>0</td>\n",
       "      <td>0</td>\n",
       "    </tr>\n",
       "  </tbody>\n",
       "</table>\n",
       "<p>1 rows × 24 columns</p>\n",
       "</div>"
      ],
      "text/plain": [
       "      movie id                   movie title release date  video release date  \\\n",
       "1522      1523  Good Man in Africa, A (1994)  01-Jan-1994                 NaN   \n",
       "\n",
       "                                               IMDb URL  unknown  Action  \\\n",
       "1522  http://us.imdb.com/M/title-exact?Good%20Man%20...        0       1   \n",
       "\n",
       "      Adventure  Animation  Children  ...  Fantasy  Film-Noir  Horror  \\\n",
       "1522          1          0         0  ...        0          0       0   \n",
       "\n",
       "      Musical  Mystery  Romance  Sci-Fi  Thriller  War  Western  \n",
       "1522        0        0        0       0         0    0        0  \n",
       "\n",
       "[1 rows x 24 columns]"
      ]
     },
     "execution_count": 66,
     "metadata": {},
     "output_type": "execute_result"
    }
   ],
   "source": [
    "items_dataset[items_dataset['movie id']==1523]"
   ]
  },
  {
   "cell_type": "code",
   "execution_count": 65,
   "metadata": {},
   "outputs": [
    {
     "data": {
      "text/plain": [
       "[1523]"
      ]
     },
     "execution_count": 65,
     "metadata": {},
     "output_type": "execute_result"
    }
   ],
   "source": [
    "seen_movies"
   ]
  },
  {
   "cell_type": "code",
   "execution_count": 45,
   "metadata": {
    "scrolled": true
   },
   "outputs": [
    {
     "data": {
      "text/html": [
       "<div>\n",
       "<style scoped>\n",
       "    .dataframe tbody tr th:only-of-type {\n",
       "        vertical-align: middle;\n",
       "    }\n",
       "\n",
       "    .dataframe tbody tr th {\n",
       "        vertical-align: top;\n",
       "    }\n",
       "\n",
       "    .dataframe thead th {\n",
       "        text-align: right;\n",
       "    }\n",
       "</style>\n",
       "<table border=\"1\" class=\"dataframe\">\n",
       "  <thead>\n",
       "    <tr style=\"text-align: right;\">\n",
       "      <th></th>\n",
       "      <th>movie id</th>\n",
       "      <th>movie title</th>\n",
       "      <th>release date</th>\n",
       "      <th>video release date</th>\n",
       "      <th>IMDb URL</th>\n",
       "      <th>unknown</th>\n",
       "      <th>Action</th>\n",
       "      <th>Adventure</th>\n",
       "      <th>Animation</th>\n",
       "      <th>Children</th>\n",
       "      <th>...</th>\n",
       "      <th>Fantasy</th>\n",
       "      <th>Film-Noir</th>\n",
       "      <th>Horror</th>\n",
       "      <th>Musical</th>\n",
       "      <th>Mystery</th>\n",
       "      <th>Romance</th>\n",
       "      <th>Sci-Fi</th>\n",
       "      <th>Thriller</th>\n",
       "      <th>War</th>\n",
       "      <th>Western</th>\n",
       "    </tr>\n",
       "  </thead>\n",
       "  <tbody>\n",
       "    <tr>\n",
       "      <th>0</th>\n",
       "      <td>1</td>\n",
       "      <td>Toy Story (1995)</td>\n",
       "      <td>01-Jan-1995</td>\n",
       "      <td>NaN</td>\n",
       "      <td>http://us.imdb.com/M/title-exact?Toy%20Story%2...</td>\n",
       "      <td>0</td>\n",
       "      <td>0</td>\n",
       "      <td>0</td>\n",
       "      <td>1</td>\n",
       "      <td>1</td>\n",
       "      <td>...</td>\n",
       "      <td>0</td>\n",
       "      <td>0</td>\n",
       "      <td>0</td>\n",
       "      <td>0</td>\n",
       "      <td>0</td>\n",
       "      <td>0</td>\n",
       "      <td>0</td>\n",
       "      <td>0</td>\n",
       "      <td>0</td>\n",
       "      <td>0</td>\n",
       "    </tr>\n",
       "    <tr>\n",
       "      <th>1</th>\n",
       "      <td>2</td>\n",
       "      <td>GoldenEye (1995)</td>\n",
       "      <td>01-Jan-1995</td>\n",
       "      <td>NaN</td>\n",
       "      <td>http://us.imdb.com/M/title-exact?GoldenEye%20(...</td>\n",
       "      <td>0</td>\n",
       "      <td>1</td>\n",
       "      <td>1</td>\n",
       "      <td>0</td>\n",
       "      <td>0</td>\n",
       "      <td>...</td>\n",
       "      <td>0</td>\n",
       "      <td>0</td>\n",
       "      <td>0</td>\n",
       "      <td>0</td>\n",
       "      <td>0</td>\n",
       "      <td>0</td>\n",
       "      <td>0</td>\n",
       "      <td>1</td>\n",
       "      <td>0</td>\n",
       "      <td>0</td>\n",
       "    </tr>\n",
       "    <tr>\n",
       "      <th>2</th>\n",
       "      <td>3</td>\n",
       "      <td>Four Rooms (1995)</td>\n",
       "      <td>01-Jan-1995</td>\n",
       "      <td>NaN</td>\n",
       "      <td>http://us.imdb.com/M/title-exact?Four%20Rooms%...</td>\n",
       "      <td>0</td>\n",
       "      <td>0</td>\n",
       "      <td>0</td>\n",
       "      <td>0</td>\n",
       "      <td>0</td>\n",
       "      <td>...</td>\n",
       "      <td>0</td>\n",
       "      <td>0</td>\n",
       "      <td>0</td>\n",
       "      <td>0</td>\n",
       "      <td>0</td>\n",
       "      <td>0</td>\n",
       "      <td>0</td>\n",
       "      <td>1</td>\n",
       "      <td>0</td>\n",
       "      <td>0</td>\n",
       "    </tr>\n",
       "    <tr>\n",
       "      <th>3</th>\n",
       "      <td>4</td>\n",
       "      <td>Get Shorty (1995)</td>\n",
       "      <td>01-Jan-1995</td>\n",
       "      <td>NaN</td>\n",
       "      <td>http://us.imdb.com/M/title-exact?Get%20Shorty%...</td>\n",
       "      <td>0</td>\n",
       "      <td>1</td>\n",
       "      <td>0</td>\n",
       "      <td>0</td>\n",
       "      <td>0</td>\n",
       "      <td>...</td>\n",
       "      <td>0</td>\n",
       "      <td>0</td>\n",
       "      <td>0</td>\n",
       "      <td>0</td>\n",
       "      <td>0</td>\n",
       "      <td>0</td>\n",
       "      <td>0</td>\n",
       "      <td>0</td>\n",
       "      <td>0</td>\n",
       "      <td>0</td>\n",
       "    </tr>\n",
       "    <tr>\n",
       "      <th>4</th>\n",
       "      <td>5</td>\n",
       "      <td>Copycat (1995)</td>\n",
       "      <td>01-Jan-1995</td>\n",
       "      <td>NaN</td>\n",
       "      <td>http://us.imdb.com/M/title-exact?Copycat%20(1995)</td>\n",
       "      <td>0</td>\n",
       "      <td>0</td>\n",
       "      <td>0</td>\n",
       "      <td>0</td>\n",
       "      <td>0</td>\n",
       "      <td>...</td>\n",
       "      <td>0</td>\n",
       "      <td>0</td>\n",
       "      <td>0</td>\n",
       "      <td>0</td>\n",
       "      <td>0</td>\n",
       "      <td>0</td>\n",
       "      <td>0</td>\n",
       "      <td>1</td>\n",
       "      <td>0</td>\n",
       "      <td>0</td>\n",
       "    </tr>\n",
       "    <tr>\n",
       "      <th>...</th>\n",
       "      <td>...</td>\n",
       "      <td>...</td>\n",
       "      <td>...</td>\n",
       "      <td>...</td>\n",
       "      <td>...</td>\n",
       "      <td>...</td>\n",
       "      <td>...</td>\n",
       "      <td>...</td>\n",
       "      <td>...</td>\n",
       "      <td>...</td>\n",
       "      <td>...</td>\n",
       "      <td>...</td>\n",
       "      <td>...</td>\n",
       "      <td>...</td>\n",
       "      <td>...</td>\n",
       "      <td>...</td>\n",
       "      <td>...</td>\n",
       "      <td>...</td>\n",
       "      <td>...</td>\n",
       "      <td>...</td>\n",
       "      <td>...</td>\n",
       "    </tr>\n",
       "    <tr>\n",
       "      <th>1677</th>\n",
       "      <td>1678</td>\n",
       "      <td>Mat' i syn (1997)</td>\n",
       "      <td>06-Feb-1998</td>\n",
       "      <td>NaN</td>\n",
       "      <td>http://us.imdb.com/M/title-exact?Mat%27+i+syn+...</td>\n",
       "      <td>0</td>\n",
       "      <td>0</td>\n",
       "      <td>0</td>\n",
       "      <td>0</td>\n",
       "      <td>0</td>\n",
       "      <td>...</td>\n",
       "      <td>0</td>\n",
       "      <td>0</td>\n",
       "      <td>0</td>\n",
       "      <td>0</td>\n",
       "      <td>0</td>\n",
       "      <td>0</td>\n",
       "      <td>0</td>\n",
       "      <td>0</td>\n",
       "      <td>0</td>\n",
       "      <td>0</td>\n",
       "    </tr>\n",
       "    <tr>\n",
       "      <th>1678</th>\n",
       "      <td>1679</td>\n",
       "      <td>B. Monkey (1998)</td>\n",
       "      <td>06-Feb-1998</td>\n",
       "      <td>NaN</td>\n",
       "      <td>http://us.imdb.com/M/title-exact?B%2E+Monkey+(...</td>\n",
       "      <td>0</td>\n",
       "      <td>0</td>\n",
       "      <td>0</td>\n",
       "      <td>0</td>\n",
       "      <td>0</td>\n",
       "      <td>...</td>\n",
       "      <td>0</td>\n",
       "      <td>0</td>\n",
       "      <td>0</td>\n",
       "      <td>0</td>\n",
       "      <td>0</td>\n",
       "      <td>1</td>\n",
       "      <td>0</td>\n",
       "      <td>1</td>\n",
       "      <td>0</td>\n",
       "      <td>0</td>\n",
       "    </tr>\n",
       "    <tr>\n",
       "      <th>1679</th>\n",
       "      <td>1680</td>\n",
       "      <td>Sliding Doors (1998)</td>\n",
       "      <td>01-Jan-1998</td>\n",
       "      <td>NaN</td>\n",
       "      <td>http://us.imdb.com/Title?Sliding+Doors+(1998)</td>\n",
       "      <td>0</td>\n",
       "      <td>0</td>\n",
       "      <td>0</td>\n",
       "      <td>0</td>\n",
       "      <td>0</td>\n",
       "      <td>...</td>\n",
       "      <td>0</td>\n",
       "      <td>0</td>\n",
       "      <td>0</td>\n",
       "      <td>0</td>\n",
       "      <td>0</td>\n",
       "      <td>1</td>\n",
       "      <td>0</td>\n",
       "      <td>0</td>\n",
       "      <td>0</td>\n",
       "      <td>0</td>\n",
       "    </tr>\n",
       "    <tr>\n",
       "      <th>1680</th>\n",
       "      <td>1681</td>\n",
       "      <td>You So Crazy (1994)</td>\n",
       "      <td>01-Jan-1994</td>\n",
       "      <td>NaN</td>\n",
       "      <td>http://us.imdb.com/M/title-exact?You%20So%20Cr...</td>\n",
       "      <td>0</td>\n",
       "      <td>0</td>\n",
       "      <td>0</td>\n",
       "      <td>0</td>\n",
       "      <td>0</td>\n",
       "      <td>...</td>\n",
       "      <td>0</td>\n",
       "      <td>0</td>\n",
       "      <td>0</td>\n",
       "      <td>0</td>\n",
       "      <td>0</td>\n",
       "      <td>0</td>\n",
       "      <td>0</td>\n",
       "      <td>0</td>\n",
       "      <td>0</td>\n",
       "      <td>0</td>\n",
       "    </tr>\n",
       "    <tr>\n",
       "      <th>1681</th>\n",
       "      <td>1682</td>\n",
       "      <td>Scream of Stone (Schrei aus Stein) (1991)</td>\n",
       "      <td>08-Mar-1996</td>\n",
       "      <td>NaN</td>\n",
       "      <td>http://us.imdb.com/M/title-exact?Schrei%20aus%...</td>\n",
       "      <td>0</td>\n",
       "      <td>0</td>\n",
       "      <td>0</td>\n",
       "      <td>0</td>\n",
       "      <td>0</td>\n",
       "      <td>...</td>\n",
       "      <td>0</td>\n",
       "      <td>0</td>\n",
       "      <td>0</td>\n",
       "      <td>0</td>\n",
       "      <td>0</td>\n",
       "      <td>0</td>\n",
       "      <td>0</td>\n",
       "      <td>0</td>\n",
       "      <td>0</td>\n",
       "      <td>0</td>\n",
       "    </tr>\n",
       "  </tbody>\n",
       "</table>\n",
       "<p>1681 rows × 24 columns</p>\n",
       "</div>"
      ],
      "text/plain": [
       "      movie id                                movie title release date  \\\n",
       "0            1                           Toy Story (1995)  01-Jan-1995   \n",
       "1            2                           GoldenEye (1995)  01-Jan-1995   \n",
       "2            3                          Four Rooms (1995)  01-Jan-1995   \n",
       "3            4                          Get Shorty (1995)  01-Jan-1995   \n",
       "4            5                             Copycat (1995)  01-Jan-1995   \n",
       "...        ...                                        ...          ...   \n",
       "1677      1678                          Mat' i syn (1997)  06-Feb-1998   \n",
       "1678      1679                           B. Monkey (1998)  06-Feb-1998   \n",
       "1679      1680                       Sliding Doors (1998)  01-Jan-1998   \n",
       "1680      1681                        You So Crazy (1994)  01-Jan-1994   \n",
       "1681      1682  Scream of Stone (Schrei aus Stein) (1991)  08-Mar-1996   \n",
       "\n",
       "      video release date                                           IMDb URL  \\\n",
       "0                    NaN  http://us.imdb.com/M/title-exact?Toy%20Story%2...   \n",
       "1                    NaN  http://us.imdb.com/M/title-exact?GoldenEye%20(...   \n",
       "2                    NaN  http://us.imdb.com/M/title-exact?Four%20Rooms%...   \n",
       "3                    NaN  http://us.imdb.com/M/title-exact?Get%20Shorty%...   \n",
       "4                    NaN  http://us.imdb.com/M/title-exact?Copycat%20(1995)   \n",
       "...                  ...                                                ...   \n",
       "1677                 NaN  http://us.imdb.com/M/title-exact?Mat%27+i+syn+...   \n",
       "1678                 NaN  http://us.imdb.com/M/title-exact?B%2E+Monkey+(...   \n",
       "1679                 NaN      http://us.imdb.com/Title?Sliding+Doors+(1998)   \n",
       "1680                 NaN  http://us.imdb.com/M/title-exact?You%20So%20Cr...   \n",
       "1681                 NaN  http://us.imdb.com/M/title-exact?Schrei%20aus%...   \n",
       "\n",
       "      unknown  Action  Adventure  Animation  Children  ...  Fantasy  \\\n",
       "0           0       0          0          1         1  ...        0   \n",
       "1           0       1          1          0         0  ...        0   \n",
       "2           0       0          0          0         0  ...        0   \n",
       "3           0       1          0          0         0  ...        0   \n",
       "4           0       0          0          0         0  ...        0   \n",
       "...       ...     ...        ...        ...       ...  ...      ...   \n",
       "1677        0       0          0          0         0  ...        0   \n",
       "1678        0       0          0          0         0  ...        0   \n",
       "1679        0       0          0          0         0  ...        0   \n",
       "1680        0       0          0          0         0  ...        0   \n",
       "1681        0       0          0          0         0  ...        0   \n",
       "\n",
       "      Film-Noir  Horror  Musical  Mystery  Romance  Sci-Fi  Thriller  War  \\\n",
       "0             0       0        0        0        0       0         0    0   \n",
       "1             0       0        0        0        0       0         1    0   \n",
       "2             0       0        0        0        0       0         1    0   \n",
       "3             0       0        0        0        0       0         0    0   \n",
       "4             0       0        0        0        0       0         1    0   \n",
       "...         ...     ...      ...      ...      ...     ...       ...  ...   \n",
       "1677          0       0        0        0        0       0         0    0   \n",
       "1678          0       0        0        0        1       0         1    0   \n",
       "1679          0       0        0        0        1       0         0    0   \n",
       "1680          0       0        0        0        0       0         0    0   \n",
       "1681          0       0        0        0        0       0         0    0   \n",
       "\n",
       "      Western  \n",
       "0           0  \n",
       "1           0  \n",
       "2           0  \n",
       "3           0  \n",
       "4           0  \n",
       "...       ...  \n",
       "1677        0  \n",
       "1678        0  \n",
       "1679        0  \n",
       "1680        0  \n",
       "1681        0  \n",
       "\n",
       "[1681 rows x 24 columns]"
      ]
     },
     "execution_count": 45,
     "metadata": {},
     "output_type": "execute_result"
    }
   ],
   "source": [
    "items_dataset[items_dataset['movie title'].isin(recommended_movies)]"
   ]
  },
  {
   "cell_type": "code",
   "execution_count": 46,
   "metadata": {
    "colab": {
     "base_uri": "https://localhost:8080/"
    },
    "id": "CIIumPFPf-mS",
    "outputId": "0c5edf6d-6ac6-4a14-e669-7b9ddf8b65a2",
    "scrolled": true
   },
   "outputs": [
    {
     "name": "stdout",
     "output_type": "stream",
     "text": [
      "['Mimic (1997)',\n",
      " 'Thinner (1996)',\n",
      " 'Extreme Measures (1996)',\n",
      " 'Beautician and the Beast, The (1997)',\n",
      " 'Harriet the Spy (1996)',\n",
      " 'Junior (1994)',\n",
      " 'Crow: City of Angels, The (1996)',\n",
      " 'Island of Dr. Moreau, The (1996)',\n",
      " 'Batman & Robin (1997)',\n",
      " 'Last Man Standing (1996)',\n",
      " 'Sgt. Bilko (1996)',\n",
      " 'Broken Arrow (1996)',\n",
      " 'Chamber, The (1996)',\n",
      " 'Jungle2Jungle (1997)',\n",
      " 'Coneheads (1993)',\n",
      " 'Wrong Trousers, The (1993)',\n",
      " 'Robin Hood: Men in Tights (1993)',\n",
      " 'Space Jam (1996)',\n",
      " 'Visitors, The (Visiteurs, Les) (1993)',\n",
      " 'Juror, The (1996)']\n"
     ]
    }
   ],
   "source": [
    "from pprint import pprint\n",
    "pprint(list(recommended_movies[:20]))"
   ]
  },
  {
   "cell_type": "markdown",
   "metadata": {
    "id": "SoXBhPMiku38"
   },
   "source": [
    "## Summing up the entire code into a recommender system function:"
   ]
  },
  {
   "cell_type": "code",
   "execution_count": 58,
   "metadata": {
    "id": "MwBUv7TlkuDn"
   },
   "outputs": [],
   "source": [
    "def recommender_system(user_id, model, n_movies):\n",
    "\n",
    "  print(\"\")\n",
    "  print(\"Movie seen by the User:\")\n",
    "  pprint(list(refined_dataset[refined_dataset['user id'] == user_id]['movie title']))\n",
    "  print(\"\")\n",
    "\n",
    "  encoded_user_id = user_enc.transform([user_id])\n",
    "\n",
    "  seen_movies = list(refined_dataset[refined_dataset['user id'] == user_id]['movie'])\n",
    "  unseen_movies = [i for i in range(min(refined_dataset['movie']), max(refined_dataset['movie'])+1) if i not in seen_movies]\n",
    "  model_input = [np.asarray(list(encoded_user_id)*len(unseen_movies)), np.asarray(unseen_movies)]\n",
    "  predicted_ratings = model.predict(model_input)\n",
    "  predicted_ratings = np.max(predicted_ratings, axis=1)\n",
    "  sorted_index = np.argsort(predicted_ratings)[::-1]\n",
    "  recommended_movies = item_enc.inverse_transform(sorted_index)\n",
    "  print(\"---------------------------------------------------------------------------------\")\n",
    "  print(\"Top \"+str(n_movies)+\" Movie recommendations for the User \"+str(user_id)+ \" are:\")\n",
    "  pprint(list(recommended_movies[:n_movies]))\n",
    "  return list(recommended_movies[:n_movies])\n"
   ]
  },
  {
   "cell_type": "code",
   "execution_count": 59,
   "metadata": {
    "colab": {
     "base_uri": "https://localhost:8080/"
    },
    "id": "-qAd6yrukuK_",
    "outputId": "da16c604-2b70-4da3-eff1-9e01d38e4db7"
   },
   "outputs": [
    {
     "name": "stdout",
     "output_type": "stream",
     "text": [
      "Enter user id\n",
      "777\n",
      "Enter number of movies to be recommended:\n",
      "15\n",
      "\n",
      "Movie seen by the User:\n",
      "['Toy Story (1995)']\n",
      "\n",
      "52/52 [==============================] - 0s 894us/step\n",
      "---------------------------------------------------------------------------------\n",
      "Top 15 Movie recommendations for the User 777 are:\n",
      "['Mimic (1997)',\n",
      " 'Thinner (1996)',\n",
      " 'Extreme Measures (1996)',\n",
      " 'Beautician and the Beast, The (1997)',\n",
      " 'Harriet the Spy (1996)',\n",
      " 'Junior (1994)',\n",
      " 'Crow: City of Angels, The (1996)',\n",
      " 'Island of Dr. Moreau, The (1996)',\n",
      " 'Batman & Robin (1997)',\n",
      " 'Last Man Standing (1996)',\n",
      " 'Sgt. Bilko (1996)',\n",
      " 'Broken Arrow (1996)',\n",
      " 'Chamber, The (1996)',\n",
      " 'Jungle2Jungle (1997)',\n",
      " 'Coneheads (1993)']\n"
     ]
    },
    {
     "data": {
      "text/plain": [
       "['Mimic (1997)',\n",
       " 'Thinner (1996)',\n",
       " 'Extreme Measures (1996)',\n",
       " 'Beautician and the Beast, The (1997)',\n",
       " 'Harriet the Spy (1996)',\n",
       " 'Junior (1994)',\n",
       " 'Crow: City of Angels, The (1996)',\n",
       " 'Island of Dr. Moreau, The (1996)',\n",
       " 'Batman & Robin (1997)',\n",
       " 'Last Man Standing (1996)',\n",
       " 'Sgt. Bilko (1996)',\n",
       " 'Broken Arrow (1996)',\n",
       " 'Chamber, The (1996)',\n",
       " 'Jungle2Jungle (1997)',\n",
       " 'Coneheads (1993)']"
      ]
     },
     "execution_count": 59,
     "metadata": {},
     "output_type": "execute_result"
    }
   ],
   "source": [
    "print(\"Enter user id\")\n",
    "user_id= int(input())\n",
    "\n",
    "print(\"Enter number of movies to be recommended:\")\n",
    "n_movies = int(input())\n",
    "recommender_system(user_id,model,n_movies)\n"
   ]
  },
  {
   "cell_type": "markdown",
   "metadata": {},
   "source": []
  },
  {
   "cell_type": "code",
   "execution_count": 60,
   "metadata": {
    "id": "tsUcbpEfktjP"
   },
   "outputs": [
    {
     "name": "stdout",
     "output_type": "stream",
     "text": [
      "\n",
      "Movie seen by the User:\n",
      "['Toy Story (1995)']\n",
      "\n",
      "52/52 [==============================] - 0s 926us/step\n",
      "---------------------------------------------------------------------------------\n",
      "Top 15 Movie recommendations for the User 777 are:\n",
      "['Mimic (1997)',\n",
      " 'Thinner (1996)',\n",
      " 'Extreme Measures (1996)',\n",
      " 'Beautician and the Beast, The (1997)',\n",
      " 'Harriet the Spy (1996)',\n",
      " 'Junior (1994)',\n",
      " 'Crow: City of Angels, The (1996)',\n",
      " 'Island of Dr. Moreau, The (1996)',\n",
      " 'Batman & Robin (1997)',\n",
      " 'Last Man Standing (1996)',\n",
      " 'Sgt. Bilko (1996)',\n",
      " 'Broken Arrow (1996)',\n",
      " 'Chamber, The (1996)',\n",
      " 'Jungle2Jungle (1997)',\n",
      " 'Coneheads (1993)']\n"
     ]
    },
    {
     "data": {
      "text/html": [
       "<div>\n",
       "<style scoped>\n",
       "    .dataframe tbody tr th:only-of-type {\n",
       "        vertical-align: middle;\n",
       "    }\n",
       "\n",
       "    .dataframe tbody tr th {\n",
       "        vertical-align: top;\n",
       "    }\n",
       "\n",
       "    .dataframe thead th {\n",
       "        text-align: right;\n",
       "    }\n",
       "</style>\n",
       "<table border=\"1\" class=\"dataframe\">\n",
       "  <thead>\n",
       "    <tr style=\"text-align: right;\">\n",
       "      <th></th>\n",
       "      <th>movie id</th>\n",
       "      <th>movie title</th>\n",
       "      <th>release date</th>\n",
       "      <th>video release date</th>\n",
       "      <th>IMDb URL</th>\n",
       "      <th>unknown</th>\n",
       "      <th>Action</th>\n",
       "      <th>Adventure</th>\n",
       "      <th>Animation</th>\n",
       "      <th>Children</th>\n",
       "      <th>...</th>\n",
       "      <th>Fantasy</th>\n",
       "      <th>Film-Noir</th>\n",
       "      <th>Horror</th>\n",
       "      <th>Musical</th>\n",
       "      <th>Mystery</th>\n",
       "      <th>Romance</th>\n",
       "      <th>Sci-Fi</th>\n",
       "      <th>Thriller</th>\n",
       "      <th>War</th>\n",
       "      <th>Western</th>\n",
       "    </tr>\n",
       "  </thead>\n",
       "  <tbody>\n",
       "    <tr>\n",
       "      <th>104</th>\n",
       "      <td>105</td>\n",
       "      <td>Sgt. Bilko (1996)</td>\n",
       "      <td>29-Mar-1996</td>\n",
       "      <td>NaN</td>\n",
       "      <td>http://us.imdb.com/M/title-exact?Sgt.%20Bilko%...</td>\n",
       "      <td>0</td>\n",
       "      <td>0</td>\n",
       "      <td>0</td>\n",
       "      <td>0</td>\n",
       "      <td>0</td>\n",
       "      <td>...</td>\n",
       "      <td>0</td>\n",
       "      <td>0</td>\n",
       "      <td>0</td>\n",
       "      <td>0</td>\n",
       "      <td>0</td>\n",
       "      <td>0</td>\n",
       "      <td>0</td>\n",
       "      <td>0</td>\n",
       "      <td>0</td>\n",
       "      <td>0</td>\n",
       "    </tr>\n",
       "    <tr>\n",
       "      <th>242</th>\n",
       "      <td>243</td>\n",
       "      <td>Jungle2Jungle (1997)</td>\n",
       "      <td>07-Mar-1997</td>\n",
       "      <td>NaN</td>\n",
       "      <td>http://us.imdb.com/M/title-exact?Jungle2Jungle...</td>\n",
       "      <td>0</td>\n",
       "      <td>0</td>\n",
       "      <td>0</td>\n",
       "      <td>0</td>\n",
       "      <td>1</td>\n",
       "      <td>...</td>\n",
       "      <td>0</td>\n",
       "      <td>0</td>\n",
       "      <td>0</td>\n",
       "      <td>0</td>\n",
       "      <td>0</td>\n",
       "      <td>0</td>\n",
       "      <td>0</td>\n",
       "      <td>0</td>\n",
       "      <td>0</td>\n",
       "      <td>0</td>\n",
       "    </tr>\n",
       "    <tr>\n",
       "      <th>253</th>\n",
       "      <td>254</td>\n",
       "      <td>Batman &amp; Robin (1997)</td>\n",
       "      <td>20-Jun-1997</td>\n",
       "      <td>NaN</td>\n",
       "      <td>http://us.imdb.com/M/title-exact?Batman+%26+Ro...</td>\n",
       "      <td>0</td>\n",
       "      <td>1</td>\n",
       "      <td>1</td>\n",
       "      <td>0</td>\n",
       "      <td>0</td>\n",
       "      <td>...</td>\n",
       "      <td>0</td>\n",
       "      <td>0</td>\n",
       "      <td>0</td>\n",
       "      <td>0</td>\n",
       "      <td>0</td>\n",
       "      <td>0</td>\n",
       "      <td>0</td>\n",
       "      <td>0</td>\n",
       "      <td>0</td>\n",
       "      <td>0</td>\n",
       "    </tr>\n",
       "    <tr>\n",
       "      <th>263</th>\n",
       "      <td>264</td>\n",
       "      <td>Mimic (1997)</td>\n",
       "      <td>22-Aug-1997</td>\n",
       "      <td>NaN</td>\n",
       "      <td>http://us.imdb.com/M/title-exact?Mimic+(1997)</td>\n",
       "      <td>0</td>\n",
       "      <td>0</td>\n",
       "      <td>0</td>\n",
       "      <td>0</td>\n",
       "      <td>0</td>\n",
       "      <td>...</td>\n",
       "      <td>0</td>\n",
       "      <td>0</td>\n",
       "      <td>0</td>\n",
       "      <td>0</td>\n",
       "      <td>0</td>\n",
       "      <td>0</td>\n",
       "      <td>1</td>\n",
       "      <td>1</td>\n",
       "      <td>0</td>\n",
       "      <td>0</td>\n",
       "    </tr>\n",
       "    <tr>\n",
       "      <th>405</th>\n",
       "      <td>406</td>\n",
       "      <td>Thinner (1996)</td>\n",
       "      <td>25-Oct-1996</td>\n",
       "      <td>NaN</td>\n",
       "      <td>http://us.imdb.com/M/title-exact?Thinner%20(1996)</td>\n",
       "      <td>0</td>\n",
       "      <td>0</td>\n",
       "      <td>0</td>\n",
       "      <td>0</td>\n",
       "      <td>0</td>\n",
       "      <td>...</td>\n",
       "      <td>0</td>\n",
       "      <td>0</td>\n",
       "      <td>1</td>\n",
       "      <td>0</td>\n",
       "      <td>0</td>\n",
       "      <td>0</td>\n",
       "      <td>0</td>\n",
       "      <td>1</td>\n",
       "      <td>0</td>\n",
       "      <td>0</td>\n",
       "    </tr>\n",
       "    <tr>\n",
       "      <th>545</th>\n",
       "      <td>546</td>\n",
       "      <td>Broken Arrow (1996)</td>\n",
       "      <td>09-Feb-1996</td>\n",
       "      <td>NaN</td>\n",
       "      <td>http://us.imdb.com/M/title-exact?Broken%20Arro...</td>\n",
       "      <td>0</td>\n",
       "      <td>1</td>\n",
       "      <td>0</td>\n",
       "      <td>0</td>\n",
       "      <td>0</td>\n",
       "      <td>...</td>\n",
       "      <td>0</td>\n",
       "      <td>0</td>\n",
       "      <td>0</td>\n",
       "      <td>0</td>\n",
       "      <td>0</td>\n",
       "      <td>0</td>\n",
       "      <td>0</td>\n",
       "      <td>1</td>\n",
       "      <td>0</td>\n",
       "      <td>0</td>\n",
       "    </tr>\n",
       "    <tr>\n",
       "      <th>576</th>\n",
       "      <td>577</td>\n",
       "      <td>Coneheads (1993)</td>\n",
       "      <td>01-Jan-1993</td>\n",
       "      <td>NaN</td>\n",
       "      <td>http://us.imdb.com/M/title-exact?Coneheads%20(...</td>\n",
       "      <td>0</td>\n",
       "      <td>0</td>\n",
       "      <td>0</td>\n",
       "      <td>0</td>\n",
       "      <td>0</td>\n",
       "      <td>...</td>\n",
       "      <td>0</td>\n",
       "      <td>0</td>\n",
       "      <td>0</td>\n",
       "      <td>0</td>\n",
       "      <td>0</td>\n",
       "      <td>0</td>\n",
       "      <td>1</td>\n",
       "      <td>0</td>\n",
       "      <td>0</td>\n",
       "      <td>0</td>\n",
       "    </tr>\n",
       "    <tr>\n",
       "      <th>618</th>\n",
       "      <td>619</td>\n",
       "      <td>Extreme Measures (1996)</td>\n",
       "      <td>27-Sep-1996</td>\n",
       "      <td>NaN</td>\n",
       "      <td>http://us.imdb.com/M/title-exact?Extreme%20Mea...</td>\n",
       "      <td>0</td>\n",
       "      <td>0</td>\n",
       "      <td>0</td>\n",
       "      <td>0</td>\n",
       "      <td>0</td>\n",
       "      <td>...</td>\n",
       "      <td>0</td>\n",
       "      <td>0</td>\n",
       "      <td>0</td>\n",
       "      <td>0</td>\n",
       "      <td>0</td>\n",
       "      <td>0</td>\n",
       "      <td>0</td>\n",
       "      <td>1</td>\n",
       "      <td>0</td>\n",
       "      <td>0</td>\n",
       "    </tr>\n",
       "    <tr>\n",
       "      <th>619</th>\n",
       "      <td>620</td>\n",
       "      <td>Chamber, The (1996)</td>\n",
       "      <td>11-Oct-1996</td>\n",
       "      <td>NaN</td>\n",
       "      <td>http://us.imdb.com/M/title-exact?Chamber,%20Th...</td>\n",
       "      <td>0</td>\n",
       "      <td>0</td>\n",
       "      <td>0</td>\n",
       "      <td>0</td>\n",
       "      <td>0</td>\n",
       "      <td>...</td>\n",
       "      <td>0</td>\n",
       "      <td>0</td>\n",
       "      <td>0</td>\n",
       "      <td>0</td>\n",
       "      <td>0</td>\n",
       "      <td>0</td>\n",
       "      <td>0</td>\n",
       "      <td>0</td>\n",
       "      <td>0</td>\n",
       "      <td>0</td>\n",
       "    </tr>\n",
       "    <tr>\n",
       "      <th>727</th>\n",
       "      <td>728</td>\n",
       "      <td>Junior (1994)</td>\n",
       "      <td>01-Jan-1994</td>\n",
       "      <td>NaN</td>\n",
       "      <td>http://us.imdb.com/M/title-exact?Junior%20(1994)</td>\n",
       "      <td>0</td>\n",
       "      <td>0</td>\n",
       "      <td>0</td>\n",
       "      <td>0</td>\n",
       "      <td>0</td>\n",
       "      <td>...</td>\n",
       "      <td>0</td>\n",
       "      <td>0</td>\n",
       "      <td>0</td>\n",
       "      <td>0</td>\n",
       "      <td>0</td>\n",
       "      <td>0</td>\n",
       "      <td>1</td>\n",
       "      <td>0</td>\n",
       "      <td>0</td>\n",
       "      <td>0</td>\n",
       "    </tr>\n",
       "    <tr>\n",
       "      <th>742</th>\n",
       "      <td>743</td>\n",
       "      <td>Crow: City of Angels, The (1996)</td>\n",
       "      <td>30-Aug-1996</td>\n",
       "      <td>NaN</td>\n",
       "      <td>http://us.imdb.com/M/title-exact?Crow%3A%20Cit...</td>\n",
       "      <td>0</td>\n",
       "      <td>1</td>\n",
       "      <td>0</td>\n",
       "      <td>0</td>\n",
       "      <td>0</td>\n",
       "      <td>...</td>\n",
       "      <td>0</td>\n",
       "      <td>0</td>\n",
       "      <td>0</td>\n",
       "      <td>0</td>\n",
       "      <td>0</td>\n",
       "      <td>0</td>\n",
       "      <td>0</td>\n",
       "      <td>1</td>\n",
       "      <td>0</td>\n",
       "      <td>0</td>\n",
       "    </tr>\n",
       "    <tr>\n",
       "      <th>839</th>\n",
       "      <td>840</td>\n",
       "      <td>Last Man Standing (1996)</td>\n",
       "      <td>20-Sep-1996</td>\n",
       "      <td>NaN</td>\n",
       "      <td>http://us.imdb.com/M/title-exact?Last%20Man%20...</td>\n",
       "      <td>0</td>\n",
       "      <td>1</td>\n",
       "      <td>0</td>\n",
       "      <td>0</td>\n",
       "      <td>0</td>\n",
       "      <td>...</td>\n",
       "      <td>0</td>\n",
       "      <td>0</td>\n",
       "      <td>0</td>\n",
       "      <td>0</td>\n",
       "      <td>0</td>\n",
       "      <td>0</td>\n",
       "      <td>0</td>\n",
       "      <td>0</td>\n",
       "      <td>0</td>\n",
       "      <td>1</td>\n",
       "    </tr>\n",
       "    <tr>\n",
       "      <th>928</th>\n",
       "      <td>929</td>\n",
       "      <td>Harriet the Spy (1996)</td>\n",
       "      <td>03-Jul-1996</td>\n",
       "      <td>NaN</td>\n",
       "      <td>http://us.imdb.com/M/title-exact?Harriet%20the...</td>\n",
       "      <td>0</td>\n",
       "      <td>0</td>\n",
       "      <td>0</td>\n",
       "      <td>0</td>\n",
       "      <td>1</td>\n",
       "      <td>...</td>\n",
       "      <td>0</td>\n",
       "      <td>0</td>\n",
       "      <td>0</td>\n",
       "      <td>0</td>\n",
       "      <td>0</td>\n",
       "      <td>0</td>\n",
       "      <td>0</td>\n",
       "      <td>0</td>\n",
       "      <td>0</td>\n",
       "      <td>0</td>\n",
       "    </tr>\n",
       "    <tr>\n",
       "      <th>930</th>\n",
       "      <td>931</td>\n",
       "      <td>Island of Dr. Moreau, The (1996)</td>\n",
       "      <td>23-Aug-1996</td>\n",
       "      <td>NaN</td>\n",
       "      <td>http://us.imdb.com/M/title-exact?Island%20of%2...</td>\n",
       "      <td>0</td>\n",
       "      <td>0</td>\n",
       "      <td>0</td>\n",
       "      <td>0</td>\n",
       "      <td>0</td>\n",
       "      <td>...</td>\n",
       "      <td>0</td>\n",
       "      <td>0</td>\n",
       "      <td>0</td>\n",
       "      <td>0</td>\n",
       "      <td>0</td>\n",
       "      <td>0</td>\n",
       "      <td>1</td>\n",
       "      <td>1</td>\n",
       "      <td>0</td>\n",
       "      <td>0</td>\n",
       "    </tr>\n",
       "    <tr>\n",
       "      <th>987</th>\n",
       "      <td>988</td>\n",
       "      <td>Beautician and the Beast, The (1997)</td>\n",
       "      <td>07-Feb-1997</td>\n",
       "      <td>NaN</td>\n",
       "      <td>http://us.imdb.com/M/title-exact?Beautician%20...</td>\n",
       "      <td>0</td>\n",
       "      <td>0</td>\n",
       "      <td>0</td>\n",
       "      <td>0</td>\n",
       "      <td>0</td>\n",
       "      <td>...</td>\n",
       "      <td>0</td>\n",
       "      <td>0</td>\n",
       "      <td>0</td>\n",
       "      <td>0</td>\n",
       "      <td>0</td>\n",
       "      <td>1</td>\n",
       "      <td>0</td>\n",
       "      <td>0</td>\n",
       "      <td>0</td>\n",
       "      <td>0</td>\n",
       "    </tr>\n",
       "  </tbody>\n",
       "</table>\n",
       "<p>15 rows × 24 columns</p>\n",
       "</div>"
      ],
      "text/plain": [
       "     movie id                           movie title release date  \\\n",
       "104       105                     Sgt. Bilko (1996)  29-Mar-1996   \n",
       "242       243                  Jungle2Jungle (1997)  07-Mar-1997   \n",
       "253       254                 Batman & Robin (1997)  20-Jun-1997   \n",
       "263       264                          Mimic (1997)  22-Aug-1997   \n",
       "405       406                        Thinner (1996)  25-Oct-1996   \n",
       "545       546                   Broken Arrow (1996)  09-Feb-1996   \n",
       "576       577                      Coneheads (1993)  01-Jan-1993   \n",
       "618       619               Extreme Measures (1996)  27-Sep-1996   \n",
       "619       620                   Chamber, The (1996)  11-Oct-1996   \n",
       "727       728                         Junior (1994)  01-Jan-1994   \n",
       "742       743      Crow: City of Angels, The (1996)  30-Aug-1996   \n",
       "839       840              Last Man Standing (1996)  20-Sep-1996   \n",
       "928       929                Harriet the Spy (1996)  03-Jul-1996   \n",
       "930       931      Island of Dr. Moreau, The (1996)  23-Aug-1996   \n",
       "987       988  Beautician and the Beast, The (1997)  07-Feb-1997   \n",
       "\n",
       "     video release date                                           IMDb URL  \\\n",
       "104                 NaN  http://us.imdb.com/M/title-exact?Sgt.%20Bilko%...   \n",
       "242                 NaN  http://us.imdb.com/M/title-exact?Jungle2Jungle...   \n",
       "253                 NaN  http://us.imdb.com/M/title-exact?Batman+%26+Ro...   \n",
       "263                 NaN      http://us.imdb.com/M/title-exact?Mimic+(1997)   \n",
       "405                 NaN  http://us.imdb.com/M/title-exact?Thinner%20(1996)   \n",
       "545                 NaN  http://us.imdb.com/M/title-exact?Broken%20Arro...   \n",
       "576                 NaN  http://us.imdb.com/M/title-exact?Coneheads%20(...   \n",
       "618                 NaN  http://us.imdb.com/M/title-exact?Extreme%20Mea...   \n",
       "619                 NaN  http://us.imdb.com/M/title-exact?Chamber,%20Th...   \n",
       "727                 NaN   http://us.imdb.com/M/title-exact?Junior%20(1994)   \n",
       "742                 NaN  http://us.imdb.com/M/title-exact?Crow%3A%20Cit...   \n",
       "839                 NaN  http://us.imdb.com/M/title-exact?Last%20Man%20...   \n",
       "928                 NaN  http://us.imdb.com/M/title-exact?Harriet%20the...   \n",
       "930                 NaN  http://us.imdb.com/M/title-exact?Island%20of%2...   \n",
       "987                 NaN  http://us.imdb.com/M/title-exact?Beautician%20...   \n",
       "\n",
       "     unknown  Action  Adventure  Animation  Children  ...  Fantasy  Film-Noir  \\\n",
       "104        0       0          0          0         0  ...        0          0   \n",
       "242        0       0          0          0         1  ...        0          0   \n",
       "253        0       1          1          0         0  ...        0          0   \n",
       "263        0       0          0          0         0  ...        0          0   \n",
       "405        0       0          0          0         0  ...        0          0   \n",
       "545        0       1          0          0         0  ...        0          0   \n",
       "576        0       0          0          0         0  ...        0          0   \n",
       "618        0       0          0          0         0  ...        0          0   \n",
       "619        0       0          0          0         0  ...        0          0   \n",
       "727        0       0          0          0         0  ...        0          0   \n",
       "742        0       1          0          0         0  ...        0          0   \n",
       "839        0       1          0          0         0  ...        0          0   \n",
       "928        0       0          0          0         1  ...        0          0   \n",
       "930        0       0          0          0         0  ...        0          0   \n",
       "987        0       0          0          0         0  ...        0          0   \n",
       "\n",
       "     Horror  Musical  Mystery  Romance  Sci-Fi  Thriller  War  Western  \n",
       "104       0        0        0        0       0         0    0        0  \n",
       "242       0        0        0        0       0         0    0        0  \n",
       "253       0        0        0        0       0         0    0        0  \n",
       "263       0        0        0        0       1         1    0        0  \n",
       "405       1        0        0        0       0         1    0        0  \n",
       "545       0        0        0        0       0         1    0        0  \n",
       "576       0        0        0        0       1         0    0        0  \n",
       "618       0        0        0        0       0         1    0        0  \n",
       "619       0        0        0        0       0         0    0        0  \n",
       "727       0        0        0        0       1         0    0        0  \n",
       "742       0        0        0        0       0         1    0        0  \n",
       "839       0        0        0        0       0         0    0        1  \n",
       "928       0        0        0        0       0         0    0        0  \n",
       "930       0        0        0        0       1         1    0        0  \n",
       "987       0        0        0        1       0         0    0        0  \n",
       "\n",
       "[15 rows x 24 columns]"
      ]
     },
     "execution_count": 60,
     "metadata": {},
     "output_type": "execute_result"
    }
   ],
   "source": [
    "items_dataset[items_dataset['movie title'].isin(recommender_system(user_id,model,n_movies))]"
   ]
  },
  {
   "cell_type": "code",
   "execution_count": 64,
   "metadata": {
    "id": "bwlRm9Hie7Fd"
   },
   "outputs": [
    {
     "data": {
      "text/html": [
       "<div>\n",
       "<style scoped>\n",
       "    .dataframe tbody tr th:only-of-type {\n",
       "        vertical-align: middle;\n",
       "    }\n",
       "\n",
       "    .dataframe tbody tr th {\n",
       "        vertical-align: top;\n",
       "    }\n",
       "\n",
       "    .dataframe thead th {\n",
       "        text-align: right;\n",
       "    }\n",
       "</style>\n",
       "<table border=\"1\" class=\"dataframe\">\n",
       "  <thead>\n",
       "    <tr style=\"text-align: right;\">\n",
       "      <th></th>\n",
       "      <th>user id</th>\n",
       "      <th>movie id</th>\n",
       "      <th>rating</th>\n",
       "      <th>timestamp</th>\n",
       "      <th>movie title</th>\n",
       "      <th>release date</th>\n",
       "      <th>Action</th>\n",
       "      <th>Adventure</th>\n",
       "      <th>Animation</th>\n",
       "      <th>Children</th>\n",
       "      <th>...</th>\n",
       "      <th>Fantasy</th>\n",
       "      <th>Film-Noir</th>\n",
       "      <th>Horror</th>\n",
       "      <th>Musical</th>\n",
       "      <th>Mystery</th>\n",
       "      <th>Romance</th>\n",
       "      <th>Sci-Fi</th>\n",
       "      <th>Thriller</th>\n",
       "      <th>War</th>\n",
       "      <th>Western</th>\n",
       "    </tr>\n",
       "  </thead>\n",
       "  <tbody>\n",
       "    <tr>\n",
       "      <th>99964</th>\n",
       "      <td>777</td>\n",
       "      <td>1</td>\n",
       "      <td>4</td>\n",
       "      <td>875979431</td>\n",
       "      <td>Toy Story (1995)</td>\n",
       "      <td>01-Jan-1995</td>\n",
       "      <td>0</td>\n",
       "      <td>0</td>\n",
       "      <td>1</td>\n",
       "      <td>1</td>\n",
       "      <td>...</td>\n",
       "      <td>0</td>\n",
       "      <td>0</td>\n",
       "      <td>0</td>\n",
       "      <td>0</td>\n",
       "      <td>0</td>\n",
       "      <td>0</td>\n",
       "      <td>0</td>\n",
       "      <td>0</td>\n",
       "      <td>0</td>\n",
       "      <td>0</td>\n",
       "    </tr>\n",
       "  </tbody>\n",
       "</table>\n",
       "<p>1 rows × 24 columns</p>\n",
       "</div>"
      ],
      "text/plain": [
       "       user id  movie id  rating  timestamp       movie title release date  \\\n",
       "99964      777         1       4  875979431  Toy Story (1995)  01-Jan-1995   \n",
       "\n",
       "       Action  Adventure  Animation  Children  ...  Fantasy  Film-Noir  \\\n",
       "99964       0          0          1         1  ...        0          0   \n",
       "\n",
       "       Horror  Musical  Mystery  Romance  Sci-Fi  Thriller  War  Western  \n",
       "99964       0        0        0        0       0         0    0        0  \n",
       "\n",
       "[1 rows x 24 columns]"
      ]
     },
     "execution_count": 64,
     "metadata": {},
     "output_type": "execute_result"
    }
   ],
   "source": [
    "merged_dataset[merged_dataset['user id'] == 777]"
   ]
  },
  {
   "cell_type": "code",
   "execution_count": null,
   "metadata": {
    "id": "MjLN1Dd_m14L"
   },
   "outputs": [],
   "source": []
  },
  {
   "cell_type": "markdown",
   "metadata": {
    "id": "XkbzKD0Om2VM"
   },
   "source": [
    "# Rough Work"
   ]
  },
  {
   "cell_type": "code",
   "execution_count": 49,
   "metadata": {
    "colab": {
     "base_uri": "https://localhost:8080/"
    },
    "id": "ICIiS-jwfCdL",
    "outputId": "ec9052d4-c5f9-46d8-a186-a24463234218"
   },
   "outputs": [
    {
     "data": {
      "text/plain": [
       "(array([[ 2,  3, 14,  6],\n",
       "        [ 3,  5,  7,  2],\n",
       "        [ 6,  8,  4,  1]]),\n",
       " (3, 4))"
      ]
     },
     "execution_count": 49,
     "metadata": {},
     "output_type": "execute_result"
    }
   ],
   "source": [
    "a = np.asarray([[2,3,14,6],[3,5,7,2],[6,8,4,1]])\n",
    "a, a.shape"
   ]
  },
  {
   "cell_type": "code",
   "execution_count": 50,
   "metadata": {
    "colab": {
     "base_uri": "https://localhost:8080/"
    },
    "id": "1Sv1WMgdfOkj",
    "outputId": "9750cdcc-0663-41c8-a8d4-81c22815d339"
   },
   "outputs": [
    {
     "data": {
      "text/plain": [
       "(array([14,  7,  8]), (3,))"
      ]
     },
     "execution_count": 50,
     "metadata": {},
     "output_type": "execute_result"
    }
   ],
   "source": [
    "b=np.max(a, axis=1)\n",
    "b, b.shape"
   ]
  },
  {
   "cell_type": "code",
   "execution_count": 51,
   "metadata": {
    "colab": {
     "base_uri": "https://localhost:8080/"
    },
    "id": "67xRASFNfu2p",
    "outputId": "1b812c33-04e1-477e-97bd-d626fa4a4669"
   },
   "outputs": [
    {
     "data": {
      "text/plain": [
       "array([0, 2, 1], dtype=int64)"
      ]
     },
     "execution_count": 51,
     "metadata": {},
     "output_type": "execute_result"
    }
   ],
   "source": [
    "np.argsort(b)[::-1]"
   ]
  },
  {
   "cell_type": "code",
   "execution_count": 52,
   "metadata": {
    "colab": {
     "base_uri": "https://localhost:8080/"
    },
    "id": "PfTQmi93Q7X4",
    "outputId": "fd48d1c0-ef59-4e6c-b78c-98b2acfb37db"
   },
   "outputs": [
    {
     "data": {
      "text/plain": [
       "array([0], dtype=int64)"
      ]
     },
     "execution_count": 52,
     "metadata": {},
     "output_type": "execute_result"
    }
   ],
   "source": [
    "\n",
    "user_enc.transform([1])"
   ]
  },
  {
   "cell_type": "code",
   "execution_count": 53,
   "metadata": {
    "colab": {
     "base_uri": "https://localhost:8080/"
    },
    "id": "5VPBNYx3Rlub",
    "outputId": "6edd0f33-c3a5-4296-a744-6e2ccca4fbb0"
   },
   "outputs": [
    {
     "data": {
      "text/plain": [
       "942"
      ]
     },
     "execution_count": 53,
     "metadata": {},
     "output_type": "execute_result"
    }
   ],
   "source": [
    "max(refined_dataset['user'])"
   ]
  }
 ],
 "metadata": {
  "colab": {
   "authorship_tag": "ABX9TyNEZIZ1oRmoZXi5mI4AT+Ue",
   "collapsed_sections": [],
   "include_colab_link": true,
   "name": "Recommender-System-using-Softmax-DNN.ipynb",
   "provenance": []
  },
  "kernelspec": {
   "display_name": "Python 3 (ipykernel)",
   "language": "python",
   "name": "python3"
  },
  "language_info": {
   "codemirror_mode": {
    "name": "ipython",
    "version": 3
   },
   "file_extension": ".py",
   "mimetype": "text/x-python",
   "name": "python",
   "nbconvert_exporter": "python",
   "pygments_lexer": "ipython3",
   "version": "3.10.2"
  }
 },
 "nbformat": 4,
 "nbformat_minor": 1
}
