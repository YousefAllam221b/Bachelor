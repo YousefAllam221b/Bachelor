{
 "cells": [
  {
   "cell_type": "code",
   "execution_count": 1,
   "id": "5f472b19",
   "metadata": {},
   "outputs": [],
   "source": [
    "import os\n",
    "import tempfile\n",
    "\n",
    "import pandas as pd\n",
    "import numpy as np\n",
    "import tensorflow as tf\n",
    "# import tensorflow_datasets as tfds\n",
    "\n",
    "import tensorflow_recommenders as tfrs\n",
    "from ast import literal_eval\n",
    "\n",
    "import numpy as np\n",
    "import numpy.ma as ma\n",
    "from numpy import genfromtxt\n",
    "from collections import defaultdict\n",
    "import pandas as pd\n",
    "import tensorflow as tf\n",
    "from tensorflow import keras\n",
    "from sklearn.preprocessing import StandardScaler, MinMaxScaler\n",
    "from sklearn.model_selection import train_test_split\n",
    "import tabulate\n",
    "import time\n",
    "pd.set_option(\"display.precision\", 5)"
   ]
  },
  {
   "cell_type": "code",
   "execution_count": 2,
   "id": "3dc455ae",
   "metadata": {},
   "outputs": [],
   "source": [
    "# Load and preprocess the data\n",
    "ratings = pd.read_csv(r'C:\\Users\\Youse\\Downloads\\archive (1)\\Coursera_reviews.csv')\n",
    "courses = pd.read_csv(r'C:\\Users\\Youse\\Downloads\\archive (1)\\Coursera_courses.csv')\n",
    "courses_info = pd.read_csv(r'C:\\Users\\Youse\\Downloads\\archive (3)\\coursera-course-detail-data.csv')\n",
    "y_train = ratings.rating.values"
   ]
  },
  {
   "cell_type": "code",
   "execution_count": 3,
   "id": "efa09736",
   "metadata": {},
   "outputs": [],
   "source": [
    "courses_info = courses_info.drop('Unnamed: 0',axis=1)\n",
    "courses_info['course_id'] =  courses_info['Url'].str.rsplit('/',1).str[1]"
   ]
  },
  {
   "cell_type": "code",
   "execution_count": 4,
   "id": "db52379f",
   "metadata": {},
   "outputs": [],
   "source": [
    "df_courses = courses.merge(courses_info, on='course_id', \n",
    "                   how='left', indicator='courses_with_info')"
   ]
  },
  {
   "cell_type": "code",
   "execution_count": 5,
   "id": "cb72704e",
   "metadata": {},
   "outputs": [],
   "source": [
    "df_all = df_courses.merge(ratings, on='course_id', \n",
    "                   how='left', indicator='ratings_with_courses_info')"
   ]
  },
  {
   "cell_type": "code",
   "execution_count": 6,
   "id": "12616536",
   "metadata": {
    "scrolled": true
   },
   "outputs": [],
   "source": [
    "df_all = df_all[df_all['reviewers'] != 'By Deleted A']\n",
    "df_all = df_all.dropna(subset=['Tags','rating'])\n",
    "df_all['Tags'] = df_all['Tags'].apply(literal_eval)\n",
    "df_all['Tags'] = df_all['Tags'].str[0]\n",
    "df_all.rename(columns = {'Tags':'subcategory'}, inplace = True)"
   ]
  },
  {
   "cell_type": "code",
   "execution_count": 7,
   "id": "7667c8a0",
   "metadata": {
    "scrolled": true
   },
   "outputs": [],
   "source": [
    "df_merged = df_all[['reviewers', 'course_id', 'subcategory', 'date_reviews', 'rating']]"
   ]
  },
  {
   "cell_type": "code",
   "execution_count": null,
   "id": "344ad938",
   "metadata": {},
   "outputs": [],
   "source": []
  },
  {
   "cell_type": "code",
   "execution_count": 8,
   "id": "b74db31e",
   "metadata": {
    "scrolled": true
   },
   "outputs": [],
   "source": [
    "# use pivot to create a dataframe with subcategory as columns, rating as values, and userId as an additional column\n",
    "df_pivot = df_merged.pivot(columns=\"subcategory\", values=\"rating\")\n",
    "df_pivot.insert(0, 'userId', df_merged['reviewers'])\n",
    "df_pivot.insert(1, 'course_id', df_merged['course_id'])\n",
    "df_pivot.insert(2, 'timestamp', df_merged['date_reviews'])\n",
    "df_pivot.insert(3, 'rating', df_merged['rating'])"
   ]
  },
  {
   "cell_type": "code",
   "execution_count": 9,
   "id": "2f1a289a",
   "metadata": {},
   "outputs": [],
   "source": [
    "cols_to_mean = df_pivot.columns[3:]\n",
    "for col in cols_to_mean:\n",
    "    df_pivot[f'{col}'] = df_pivot.groupby('userId')[col].transform('mean')\n",
    "user_input = df_pivot.fillna(0)\n",
    "user_input['userId'] = pd.factorize(user_input['userId'])[0]\n",
    "user_input = user_input.sort_values(by='userId', ascending=True)"
   ]
  },
  {
   "cell_type": "code",
   "execution_count": 10,
   "id": "111b98f5",
   "metadata": {},
   "outputs": [],
   "source": [
    "dates = pd.to_datetime(user_input['timestamp'])\n",
    "user_input['timestamp'] = (dates - pd.Timestamp(\"1970-01-01\")) // pd.Timedelta('1s')"
   ]
  },
  {
   "cell_type": "code",
   "execution_count": 11,
   "id": "ac668a43",
   "metadata": {},
   "outputs": [],
   "source": [
    "df_courses = df_courses.dropna(subset=['Tags'])\n",
    "df_courses['Tags'] = df_courses['Tags'].apply(literal_eval)\n",
    "df_courses['Tags'] = df_courses['Tags'].str[0]\n",
    "df_courses.rename(columns = {'Tags':'subcategory'}, inplace = True)"
   ]
  },
  {
   "cell_type": "code",
   "execution_count": 12,
   "id": "ba9a9499",
   "metadata": {},
   "outputs": [],
   "source": [
    "encoded_cols = pd.get_dummies(df_courses['subcategory'], prefix='')\n",
    "encoded_cols = encoded_cols.rename(columns=lambda x: x.replace('_', ''))\n",
    "courses_input = pd.concat([df_courses, encoded_cols], axis=1)"
   ]
  },
  {
   "cell_type": "code",
   "execution_count": 13,
   "id": "6e087ede",
   "metadata": {},
   "outputs": [
    {
     "data": {
      "text/html": [
       "<div>\n",
       "<style scoped>\n",
       "    .dataframe tbody tr th:only-of-type {\n",
       "        vertical-align: middle;\n",
       "    }\n",
       "\n",
       "    .dataframe tbody tr th {\n",
       "        vertical-align: top;\n",
       "    }\n",
       "\n",
       "    .dataframe thead th {\n",
       "        text-align: right;\n",
       "    }\n",
       "</style>\n",
       "<table border=\"1\" class=\"dataframe\">\n",
       "  <thead>\n",
       "    <tr style=\"text-align: right;\">\n",
       "      <th></th>\n",
       "      <th>course_id</th>\n",
       "      <th>Arts and Humanities</th>\n",
       "      <th>Business</th>\n",
       "      <th>Computer Science</th>\n",
       "      <th>Data Science</th>\n",
       "      <th>Health</th>\n",
       "      <th>Information Technology</th>\n",
       "      <th>Language Learning</th>\n",
       "      <th>Math and Logic</th>\n",
       "      <th>Personal Development</th>\n",
       "      <th>Physical Science and Engineering</th>\n",
       "      <th>Social Sciences</th>\n",
       "    </tr>\n",
       "  </thead>\n",
       "  <tbody>\n",
       "    <tr>\n",
       "      <th>0</th>\n",
       "      <td>machine-learning</td>\n",
       "      <td>0</td>\n",
       "      <td>0</td>\n",
       "      <td>0</td>\n",
       "      <td>1</td>\n",
       "      <td>0</td>\n",
       "      <td>0</td>\n",
       "      <td>0</td>\n",
       "      <td>0</td>\n",
       "      <td>0</td>\n",
       "      <td>0</td>\n",
       "      <td>0</td>\n",
       "    </tr>\n",
       "    <tr>\n",
       "      <th>1</th>\n",
       "      <td>indigenous-canada</td>\n",
       "      <td>1</td>\n",
       "      <td>0</td>\n",
       "      <td>0</td>\n",
       "      <td>0</td>\n",
       "      <td>0</td>\n",
       "      <td>0</td>\n",
       "      <td>0</td>\n",
       "      <td>0</td>\n",
       "      <td>0</td>\n",
       "      <td>0</td>\n",
       "      <td>0</td>\n",
       "    </tr>\n",
       "    <tr>\n",
       "      <th>2</th>\n",
       "      <td>the-science-of-well-being</td>\n",
       "      <td>0</td>\n",
       "      <td>0</td>\n",
       "      <td>0</td>\n",
       "      <td>0</td>\n",
       "      <td>0</td>\n",
       "      <td>0</td>\n",
       "      <td>0</td>\n",
       "      <td>0</td>\n",
       "      <td>1</td>\n",
       "      <td>0</td>\n",
       "      <td>0</td>\n",
       "    </tr>\n",
       "    <tr>\n",
       "      <th>3</th>\n",
       "      <td>technical-support-fundamentals</td>\n",
       "      <td>0</td>\n",
       "      <td>0</td>\n",
       "      <td>0</td>\n",
       "      <td>0</td>\n",
       "      <td>0</td>\n",
       "      <td>1</td>\n",
       "      <td>0</td>\n",
       "      <td>0</td>\n",
       "      <td>0</td>\n",
       "      <td>0</td>\n",
       "      <td>0</td>\n",
       "    </tr>\n",
       "    <tr>\n",
       "      <th>4</th>\n",
       "      <td>google-cbrs-cpi-training</td>\n",
       "      <td>0</td>\n",
       "      <td>0</td>\n",
       "      <td>0</td>\n",
       "      <td>0</td>\n",
       "      <td>0</td>\n",
       "      <td>1</td>\n",
       "      <td>0</td>\n",
       "      <td>0</td>\n",
       "      <td>0</td>\n",
       "      <td>0</td>\n",
       "      <td>0</td>\n",
       "    </tr>\n",
       "  </tbody>\n",
       "</table>\n",
       "</div>"
      ],
      "text/plain": [
       "                        course_id  Arts and Humanities  Business  \\\n",
       "0                machine-learning                    0         0   \n",
       "1               indigenous-canada                    1         0   \n",
       "2       the-science-of-well-being                    0         0   \n",
       "3  technical-support-fundamentals                    0         0   \n",
       "4        google-cbrs-cpi-training                    0         0   \n",
       "\n",
       "   Computer Science  Data Science  Health  Information Technology  \\\n",
       "0                 0             1       0                       0   \n",
       "1                 0             0       0                       0   \n",
       "2                 0             0       0                       0   \n",
       "3                 0             0       0                       1   \n",
       "4                 0             0       0                       1   \n",
       "\n",
       "   Language Learning  Math and Logic  Personal Development  \\\n",
       "0                  0               0                     0   \n",
       "1                  0               0                     0   \n",
       "2                  0               0                     1   \n",
       "3                  0               0                     0   \n",
       "4                  0               0                     0   \n",
       "\n",
       "   Physical Science and Engineering  Social Sciences  \n",
       "0                                 0                0  \n",
       "1                                 0                0  \n",
       "2                                 0                0  \n",
       "3                                 0                0  \n",
       "4                                 0                0  "
      ]
     },
     "execution_count": 13,
     "metadata": {},
     "output_type": "execute_result"
    }
   ],
   "source": [
    "courses_input = courses_input.iloc[:,list([3]) + list(range(10,courses_input.shape[1]))]\n",
    "courses_input.head()"
   ]
  },
  {
   "cell_type": "code",
   "execution_count": 14,
   "id": "9ecd7a3b",
   "metadata": {
    "scrolled": true
   },
   "outputs": [],
   "source": [
    "# courses_input['course_id'] = pd.factorize(courses_input['course_id'])[0]"
   ]
  },
  {
   "cell_type": "code",
   "execution_count": 16,
   "id": "224c41e3",
   "metadata": {},
   "outputs": [],
   "source": [
    "combined = pd.concat([user_input['course_id'], courses_input['course_id']]).unique()\n",
    "mapping = {id: i for i, id in enumerate(combined)}\n",
    "courses_input['course_id'] = courses_input['course_id'].map(mapping)\n",
    "user_input['course_id'] = user_input['course_id'].map(mapping)"
   ]
  },
  {
   "cell_type": "code",
   "execution_count": 17,
   "id": "7c132bf0",
   "metadata": {},
   "outputs": [],
   "source": [
    "df_courses['course_id'] = df_courses['course_id'].map(mapping)\n"
   ]
  },
  {
   "cell_type": "code",
   "execution_count": 18,
   "id": "75952f15",
   "metadata": {},
   "outputs": [],
   "source": [
    "rating = user_input.rating.values"
   ]
  },
  {
   "cell_type": "code",
   "execution_count": 20,
   "id": "d4be4025",
   "metadata": {},
   "outputs": [
    {
     "data": {
      "text/plain": [
       "array([4.375, 4.375, 4.375, ..., 5.   , 5.   , 5.   ])"
      ]
     },
     "execution_count": 20,
     "metadata": {},
     "output_type": "execute_result"
    }
   ],
   "source": [
    "rating"
   ]
  },
  {
   "cell_type": "code",
   "execution_count": 19,
   "id": "f7f516fa",
   "metadata": {
    "scrolled": true
   },
   "outputs": [],
   "source": [
    "courses_input_samples = user_input.merge(courses_input, on='course_id')"
   ]
  },
  {
   "cell_type": "code",
   "execution_count": 21,
   "id": "0ef519b0",
   "metadata": {
    "scrolled": true
   },
   "outputs": [],
   "source": [
    "courses_input = courses_input_samples[['course_id', 'Arts and Humanities_y', 'Business_y',\n",
    "       'Computer Science_y', 'Data Science_y', 'Health_y',\n",
    "       'Information Technology_y', 'Language Learning_y', 'Math and Logic_y',\n",
    "       'Personal Development_y', 'Physical Science and Engineering_y',\n",
    "       'Social Sciences_y']]"
   ]
  },
  {
   "cell_type": "code",
   "execution_count": 22,
   "id": "71d85065",
   "metadata": {},
   "outputs": [],
   "source": [
    "user_input = user_input.drop('course_id',axis=1)"
   ]
  },
  {
   "cell_type": "code",
   "execution_count": 23,
   "id": "7495047e",
   "metadata": {},
   "outputs": [],
   "source": [
    "num_user_features = user_input.shape[1] - 1  # remove userid, rating count and ave rating during training\n",
    "num_item_features = courses_input.shape[1] -1 # remove movie id at train time\n",
    "scaledata = True  # applies the standard scalar to data if true"
   ]
  },
  {
   "cell_type": "code",
   "execution_count": 24,
   "id": "1509d43f",
   "metadata": {
    "scrolled": true
   },
   "outputs": [
    {
     "name": "stdout",
     "output_type": "stream",
     "text": [
      "True\n",
      "True\n"
     ]
    }
   ],
   "source": [
    "if scaledata:\n",
    "    item_train_save = courses_input\n",
    "    user_train_save = user_input\n",
    "\n",
    "    scalerItem = StandardScaler()\n",
    "    scalerItem.fit(courses_input)\n",
    "    courses_input = scalerItem.transform(courses_input)\n",
    "\n",
    "    scalerUser = StandardScaler()\n",
    "    scalerUser.fit(user_input)\n",
    "    user_input = scalerUser.transform(user_input)\n",
    "    print(np.allclose(item_train_save, scalerItem.inverse_transform(courses_input)))\n",
    "    print(np.allclose(user_train_save, scalerUser.inverse_transform(user_input)))"
   ]
  },
  {
   "cell_type": "code",
   "execution_count": 25,
   "id": "2d2aeae5",
   "metadata": {},
   "outputs": [
    {
     "name": "stdout",
     "output_type": "stream",
     "text": [
      "movie/item training data shape: (1143257, 12)\n",
      "movie/item test  data shape: (285815, 12)\n"
     ]
    }
   ],
   "source": [
    "from sklearn.model_selection import train_test_split\n",
    "item_train, item_test = train_test_split(courses_input, train_size=0.80, shuffle=True, random_state=1)\n",
    "user_train, user_test = train_test_split(user_input, train_size=0.80, shuffle=True, random_state=1)\n",
    "y_train, y_test       = train_test_split(rating,    train_size=0.80, shuffle=True, random_state=1)\n",
    "print(f\"movie/item training data shape: {item_train.shape}\")\n",
    "print(f\"movie/item test  data shape: {item_test.shape}\")"
   ]
  },
  {
   "cell_type": "code",
   "execution_count": 26,
   "id": "15254678",
   "metadata": {
    "scrolled": false
   },
   "outputs": [
    {
     "name": "stdout",
     "output_type": "stream",
     "text": [
      "(1143257, 1) (285815, 1)\n"
     ]
    }
   ],
   "source": [
    "scaler = MinMaxScaler((-1, 1))\n",
    "scaler.fit(y_train.reshape(-1, 1))\n",
    "ynorm_train = scaler.transform(y_train.reshape(-1, 1))\n",
    "ynorm_test = scaler.transform(y_test.reshape(-1, 1))\n",
    "print(ynorm_train.shape, ynorm_test.shape)"
   ]
  },
  {
   "cell_type": "code",
   "execution_count": 30,
   "id": "2c02c7b3",
   "metadata": {
    "scrolled": true
   },
   "outputs": [
    {
     "name": "stdout",
     "output_type": "stream",
     "text": [
      "Epoch 1/2\n",
      "28582/28582 [==============================] - 99s 3ms/step - loss: 2.4586e-04 - root_mean_squared_error: 0.0157 - val_loss: 2.6516e-05 - val_root_mean_squared_error: 0.0051\n",
      "Epoch 2/2\n",
      "28582/28582 [==============================] - 100s 4ms/step - loss: 1.7896e-05 - root_mean_squared_error: 0.0042 - val_loss: 5.2156e-06 - val_root_mean_squared_error: 0.0023\n"
     ]
    },
    {
     "data": {
      "text/plain": [
       "<keras.callbacks.History at 0x274cba17eb0>"
      ]
     },
     "execution_count": 30,
     "metadata": {},
     "output_type": "execute_result"
    }
   ],
   "source": [
    "num_outputs = 32\n",
    "rate = 0.001\n",
    "tf.random.set_seed(1)\n",
    "user_NN = tf.keras.models.Sequential([\n",
    "    tf.keras.layers.Dense(256, activation='relu'),\n",
    "    tf.keras.layers.Dense(128, activation='relu'),\n",
    "    tf.keras.layers.Dense(num_outputs),\n",
    "])\n",
    "\n",
    "item_NN = tf.keras.models.Sequential([   \n",
    "    tf.keras.layers.Dense(512, activation='relu'),\n",
    "    tf.keras.layers.Dense(256, activation='relu'),\n",
    "    tf.keras.layers.Dense(128, activation='relu'),\n",
    "    tf.keras.layers.Dense(num_outputs),\n",
    "])\n",
    "\n",
    "# create the user input and point to the base network\n",
    "input_user = tf.keras.layers.Input(shape=(num_user_features))\n",
    "vu = user_NN(input_user)\n",
    "vu = tf.linalg.l2_normalize(vu, axis=1)\n",
    "\n",
    "# create the item input and point to the base network\n",
    "input_item = tf.keras.layers.Input(shape=(num_item_features))\n",
    "vm = item_NN(input_item)\n",
    "vm = tf.linalg.l2_normalize(vm, axis=1)\n",
    "\n",
    "# compute the dot product of the two vectors vu and vm\n",
    "output = tf.keras.layers.Dot(axes=1)([vu, vm])\n",
    "\n",
    "# specify the inputs and output of the model\n",
    "model = tf.keras.Model([input_user, input_item], output)\n",
    "\n",
    "tf.random.set_seed(1)\n",
    "metric = tf.keras.metrics.RootMeanSquaredError()\n",
    "cost_fn = tf.keras.losses.MeanSquaredError()\n",
    "opt = keras.optimizers.Adam(learning_rate=rate)\n",
    "model.compile(optimizer=opt, loss=cost_fn, metrics=[metric])\n",
    "early_stop = tf.keras.callbacks.EarlyStopping(\n",
    "    monitor='val_loss', patience=10, restore_best_weights=True)\n",
    "\n",
    "model.fit([user_train[:,1:], item_train[:,1:]], ynorm_train, epochs=2, validation_split=0.2, \n",
    "    callbacks=[early_stop])"
   ]
  },
  {
   "cell_type": "code",
   "execution_count": 31,
   "id": "6c683c2d",
   "metadata": {},
   "outputs": [
    {
     "name": "stdout",
     "output_type": "stream",
     "text": [
      "8932/8932 [==============================] - 14s 2ms/step - loss: 5.1818e-06 - root_mean_squared_error: 0.0023\n"
     ]
    },
    {
     "data": {
      "text/plain": [
       "[5.1818065003317315e-06, 0.0022763581946492195]"
      ]
     },
     "execution_count": 31,
     "metadata": {},
     "output_type": "execute_result"
    }
   ],
   "source": [
    "model.evaluate([user_test[:, 1:], item_test[:, 1:]], ynorm_test)"
   ]
  },
  {
   "cell_type": "code",
   "execution_count": 32,
   "id": "52c44838",
   "metadata": {},
   "outputs": [],
   "source": [
    "def gen_user_vecs(user_vec, num_items):\n",
    "    \"\"\" given a user vector return:\n",
    "        user predict maxtrix to match the size of item_vecs \"\"\"\n",
    "    user_vecs = np.tile(user_vec, (num_items, 1))\n",
    "    return (user_vecs)"
   ]
  },
  {
   "cell_type": "code",
   "execution_count": 85,
   "id": "fd2191c8",
   "metadata": {},
   "outputs": [
    {
     "data": {
      "text/html": [
       "<div>\n",
       "<style scoped>\n",
       "    .dataframe tbody tr th:only-of-type {\n",
       "        vertical-align: middle;\n",
       "    }\n",
       "\n",
       "    .dataframe tbody tr th {\n",
       "        vertical-align: top;\n",
       "    }\n",
       "\n",
       "    .dataframe thead th {\n",
       "        text-align: right;\n",
       "    }\n",
       "</style>\n",
       "<table border=\"1\" class=\"dataframe\">\n",
       "  <thead>\n",
       "    <tr style=\"text-align: right;\">\n",
       "      <th>subcategory</th>\n",
       "      <th>userId</th>\n",
       "      <th>timestamp</th>\n",
       "      <th>rating</th>\n",
       "      <th>Arts and Humanities</th>\n",
       "      <th>Business</th>\n",
       "      <th>Computer Science</th>\n",
       "      <th>Data Science</th>\n",
       "      <th>Health</th>\n",
       "      <th>Information Technology</th>\n",
       "      <th>Language Learning</th>\n",
       "      <th>Math and Logic</th>\n",
       "      <th>Personal Development</th>\n",
       "      <th>Physical Science and Engineering</th>\n",
       "      <th>Social Sciences</th>\n",
       "    </tr>\n",
       "  </thead>\n",
       "  <tbody>\n",
       "    <tr>\n",
       "      <th>0</th>\n",
       "      <td>0</td>\n",
       "      <td>1683583615</td>\n",
       "      <td>0</td>\n",
       "      <td>5</td>\n",
       "      <td>0</td>\n",
       "      <td>0</td>\n",
       "      <td>0</td>\n",
       "      <td>0</td>\n",
       "      <td>0</td>\n",
       "      <td>0</td>\n",
       "      <td>0</td>\n",
       "      <td>0</td>\n",
       "      <td>0</td>\n",
       "      <td>0</td>\n",
       "    </tr>\n",
       "  </tbody>\n",
       "</table>\n",
       "</div>"
      ],
      "text/plain": [
       "subcategory  userId   timestamp  rating  Arts and Humanities  Business  \\\n",
       "0                 0  1683583615       0                    5         0   \n",
       "\n",
       "subcategory  Computer Science  Data Science  Health  Information Technology  \\\n",
       "0                           0             0       0                       0   \n",
       "\n",
       "subcategory  Language Learning  Math and Logic  Personal Development  \\\n",
       "0                            0               0                     0   \n",
       "\n",
       "subcategory  Physical Science and Engineering  Social Sciences  \n",
       "0                                           0                0  "
      ]
     },
     "execution_count": 85,
     "metadata": {},
     "output_type": "execute_result"
    }
   ],
   "source": [
    "new_user = [0]*14\n",
    "new_user[1] = int(time.time())\n",
    "new_user[3] = 5\n",
    "\n",
    "user_vec = np.array([new_user])\n",
    "user_vecs = gen_user_vecs(user_vec,len(item_train))\n",
    "pd.DataFrame(user_vec, columns=user_train_save.columns)"
   ]
  },
  {
   "cell_type": "code",
   "execution_count": 86,
   "id": "e297aeb4",
   "metadata": {},
   "outputs": [],
   "source": [
    "def predict_uservec(user_vecs, item_vecs, model, scaler, ScalerUser, ScalerItem, scaledata=False):\n",
    "    \"\"\" given a user vector, does the prediction on all movies in item_vecs returns\n",
    "        an array predictions sorted by predicted rating,\n",
    "        arrays of user and item, sorted by predicted rating sorting index\n",
    "    \"\"\"\n",
    "    print(item_vecs)\n",
    "    if scaledata:\n",
    "        scaled_user_vecs = ScalerUser.transform(user_vecs)\n",
    "        #scaled_item_vecs = ScalerItem.transform(item_vecs)\n",
    "        y_p = model.predict(\n",
    "            [scaled_user_vecs[:, 1:], item_vecs[:, 1:]])\n",
    "    else:\n",
    "        y_p = model.predict([user_vecs[:, 1:], item_vecs[:, 1:]])\n",
    "    y_pu = scaler.inverse_transform(y_p)\n",
    "    if np.any(y_pu < 0):\n",
    "        print(\"Error, expected all positive predictions\")\n",
    "    # negate to get largest rating first\n",
    "    sorted_index = np.argsort(-y_pu, axis=0).reshape(-1).tolist()\n",
    "    sorted_ypu = y_pu[sorted_index]\n",
    "    sorted_items = item_vecs[sorted_index]\n",
    "    sorted_user = user_vecs[sorted_index]\n",
    "    print(item_vecs)\n",
    "    return y_pu\n",
    "    return (sorted_index, sorted_ypu, sorted_items, sorted_user)"
   ]
  },
  {
   "cell_type": "code",
   "execution_count": 87,
   "id": "0ee5fcaf",
   "metadata": {},
   "outputs": [
    {
     "name": "stdout",
     "output_type": "stream",
     "text": [
      "[[-1.00603159 -0.20545425 -0.49554003 ... -0.24936891 -0.15949541\n",
      "  -0.19180143]\n",
      " [-0.8367766  -0.20545425 -0.49554003 ... -0.24936891 -0.15949541\n",
      "  -0.19180143]\n",
      " [ 0.06335225 -0.20545425 -0.49554003 ... -0.24936891 -0.15949541\n",
      "  -0.19180143]\n",
      " ...\n",
      " [-0.65213478 -0.20545425 -0.49554003 ... -0.24936891 -0.15949541\n",
      "  -0.19180143]\n",
      " [-0.63674797 -0.20545425 -0.49554003 ... -0.24936891 -0.15949541\n",
      "  -0.19180143]\n",
      " [-1.00603159 -0.20545425 -0.49554003 ... -0.24936891 -0.15949541\n",
      "  -0.19180143]]\n"
     ]
    },
    {
     "name": "stderr",
     "output_type": "stream",
     "text": [
      "C:\\Python310\\lib\\site-packages\\sklearn\\base.py:450: UserWarning: X does not have valid feature names, but StandardScaler was fitted with feature names\n",
      "  warnings.warn(\n"
     ]
    },
    {
     "name": "stdout",
     "output_type": "stream",
     "text": [
      "35727/35727 [==============================] - 52s 1ms/step\n",
      "[[-1.00603159 -0.20545425 -0.49554003 ... -0.24936891 -0.15949541\n",
      "  -0.19180143]\n",
      " [-0.8367766  -0.20545425 -0.49554003 ... -0.24936891 -0.15949541\n",
      "  -0.19180143]\n",
      " [ 0.06335225 -0.20545425 -0.49554003 ... -0.24936891 -0.15949541\n",
      "  -0.19180143]\n",
      " ...\n",
      " [-0.65213478 -0.20545425 -0.49554003 ... -0.24936891 -0.15949541\n",
      "  -0.19180143]\n",
      " [-0.63674797 -0.20545425 -0.49554003 ... -0.24936891 -0.15949541\n",
      "  -0.19180143]\n",
      " [-1.00603159 -0.20545425 -0.49554003 ... -0.24936891 -0.15949541\n",
      "  -0.19180143]]\n"
     ]
    }
   ],
   "source": [
    "y_pu = predict_uservec(user_vecs, item_train, model, scaler, scalerUser, scalerItem, scaledata=scaledata)"
   ]
  },
  {
   "cell_type": "code",
   "execution_count": 88,
   "id": "4156fc3d",
   "metadata": {},
   "outputs": [],
   "source": [
    "pred_courses = pd.DataFrame(scalerItem.inverse_transform(item_train), columns= list(['course_id'] + list(['Arts and Humanities', 'Business', 'Computer Science',\n",
    "       'Data Science', 'Health', 'Information Technology', 'Language Learning',\n",
    "       'Math and Logic', 'Personal Development',\n",
    "       'Physical Science and Engineering', 'Social Sciences'])))\n",
    "pred_courses['course_id'] = pred_courses['course_id'].astype(int)\n",
    "pred_courses['pred_rating'] = y_pu"
   ]
  },
  {
   "cell_type": "code",
   "execution_count": 89,
   "id": "451537bf",
   "metadata": {
    "scrolled": true
   },
   "outputs": [
    {
     "data": {
      "text/html": [
       "<div>\n",
       "<style scoped>\n",
       "    .dataframe tbody tr th:only-of-type {\n",
       "        vertical-align: middle;\n",
       "    }\n",
       "\n",
       "    .dataframe tbody tr th {\n",
       "        vertical-align: top;\n",
       "    }\n",
       "\n",
       "    .dataframe thead th {\n",
       "        text-align: right;\n",
       "    }\n",
       "</style>\n",
       "<table border=\"1\" class=\"dataframe\">\n",
       "  <thead>\n",
       "    <tr style=\"text-align: right;\">\n",
       "      <th></th>\n",
       "      <th>course_id</th>\n",
       "      <th>Arts and Humanities</th>\n",
       "      <th>Business</th>\n",
       "      <th>Computer Science</th>\n",
       "      <th>Data Science</th>\n",
       "      <th>Health</th>\n",
       "      <th>Information Technology</th>\n",
       "      <th>Language Learning</th>\n",
       "      <th>Math and Logic</th>\n",
       "      <th>Personal Development</th>\n",
       "      <th>Physical Science and Engineering</th>\n",
       "      <th>Social Sciences</th>\n",
       "      <th>pred_rating</th>\n",
       "      <th>subcategory</th>\n",
       "    </tr>\n",
       "  </thead>\n",
       "  <tbody>\n",
       "    <tr>\n",
       "      <th>0</th>\n",
       "      <td>92</td>\n",
       "      <td>0.0</td>\n",
       "      <td>1.0</td>\n",
       "      <td>0.0</td>\n",
       "      <td>0.0</td>\n",
       "      <td>0.0</td>\n",
       "      <td>0.0</td>\n",
       "      <td>0.0</td>\n",
       "      <td>-8.67362e-19</td>\n",
       "      <td>0.0</td>\n",
       "      <td>0.0</td>\n",
       "      <td>0.0</td>\n",
       "      <td>1.01449</td>\n",
       "      <td>Business</td>\n",
       "    </tr>\n",
       "    <tr>\n",
       "      <th>83150</th>\n",
       "      <td>74</td>\n",
       "      <td>0.0</td>\n",
       "      <td>1.0</td>\n",
       "      <td>0.0</td>\n",
       "      <td>0.0</td>\n",
       "      <td>0.0</td>\n",
       "      <td>0.0</td>\n",
       "      <td>0.0</td>\n",
       "      <td>-8.67362e-19</td>\n",
       "      <td>0.0</td>\n",
       "      <td>0.0</td>\n",
       "      <td>0.0</td>\n",
       "      <td>1.01449</td>\n",
       "      <td>Business</td>\n",
       "    </tr>\n",
       "    <tr>\n",
       "      <th>83160</th>\n",
       "      <td>74</td>\n",
       "      <td>0.0</td>\n",
       "      <td>1.0</td>\n",
       "      <td>0.0</td>\n",
       "      <td>0.0</td>\n",
       "      <td>0.0</td>\n",
       "      <td>0.0</td>\n",
       "      <td>0.0</td>\n",
       "      <td>-8.67362e-19</td>\n",
       "      <td>0.0</td>\n",
       "      <td>0.0</td>\n",
       "      <td>0.0</td>\n",
       "      <td>1.01449</td>\n",
       "      <td>Business</td>\n",
       "    </tr>\n",
       "    <tr>\n",
       "      <th>83159</th>\n",
       "      <td>74</td>\n",
       "      <td>0.0</td>\n",
       "      <td>1.0</td>\n",
       "      <td>0.0</td>\n",
       "      <td>0.0</td>\n",
       "      <td>0.0</td>\n",
       "      <td>0.0</td>\n",
       "      <td>0.0</td>\n",
       "      <td>-8.67362e-19</td>\n",
       "      <td>0.0</td>\n",
       "      <td>0.0</td>\n",
       "      <td>0.0</td>\n",
       "      <td>1.01449</td>\n",
       "      <td>Business</td>\n",
       "    </tr>\n",
       "    <tr>\n",
       "      <th>83158</th>\n",
       "      <td>74</td>\n",
       "      <td>0.0</td>\n",
       "      <td>1.0</td>\n",
       "      <td>0.0</td>\n",
       "      <td>0.0</td>\n",
       "      <td>0.0</td>\n",
       "      <td>0.0</td>\n",
       "      <td>0.0</td>\n",
       "      <td>-8.67362e-19</td>\n",
       "      <td>0.0</td>\n",
       "      <td>0.0</td>\n",
       "      <td>0.0</td>\n",
       "      <td>1.01449</td>\n",
       "      <td>Business</td>\n",
       "    </tr>\n",
       "    <tr>\n",
       "      <th>...</th>\n",
       "      <td>...</td>\n",
       "      <td>...</td>\n",
       "      <td>...</td>\n",
       "      <td>...</td>\n",
       "      <td>...</td>\n",
       "      <td>...</td>\n",
       "      <td>...</td>\n",
       "      <td>...</td>\n",
       "      <td>...</td>\n",
       "      <td>...</td>\n",
       "      <td>...</td>\n",
       "      <td>...</td>\n",
       "      <td>...</td>\n",
       "      <td>...</td>\n",
       "    </tr>\n",
       "    <tr>\n",
       "      <th>1138012</th>\n",
       "      <td>316</td>\n",
       "      <td>0.0</td>\n",
       "      <td>0.0</td>\n",
       "      <td>0.0</td>\n",
       "      <td>0.0</td>\n",
       "      <td>0.0</td>\n",
       "      <td>0.0</td>\n",
       "      <td>0.0</td>\n",
       "      <td>1.00000e+00</td>\n",
       "      <td>0.0</td>\n",
       "      <td>0.0</td>\n",
       "      <td>0.0</td>\n",
       "      <td>1.01441</td>\n",
       "      <td>Math and Logic</td>\n",
       "    </tr>\n",
       "    <tr>\n",
       "      <th>1138011</th>\n",
       "      <td>316</td>\n",
       "      <td>0.0</td>\n",
       "      <td>0.0</td>\n",
       "      <td>0.0</td>\n",
       "      <td>0.0</td>\n",
       "      <td>0.0</td>\n",
       "      <td>0.0</td>\n",
       "      <td>0.0</td>\n",
       "      <td>1.00000e+00</td>\n",
       "      <td>0.0</td>\n",
       "      <td>0.0</td>\n",
       "      <td>0.0</td>\n",
       "      <td>1.01441</td>\n",
       "      <td>Math and Logic</td>\n",
       "    </tr>\n",
       "    <tr>\n",
       "      <th>1138010</th>\n",
       "      <td>316</td>\n",
       "      <td>0.0</td>\n",
       "      <td>0.0</td>\n",
       "      <td>0.0</td>\n",
       "      <td>0.0</td>\n",
       "      <td>0.0</td>\n",
       "      <td>0.0</td>\n",
       "      <td>0.0</td>\n",
       "      <td>1.00000e+00</td>\n",
       "      <td>0.0</td>\n",
       "      <td>0.0</td>\n",
       "      <td>0.0</td>\n",
       "      <td>1.01441</td>\n",
       "      <td>Math and Logic</td>\n",
       "    </tr>\n",
       "    <tr>\n",
       "      <th>1138009</th>\n",
       "      <td>316</td>\n",
       "      <td>0.0</td>\n",
       "      <td>0.0</td>\n",
       "      <td>0.0</td>\n",
       "      <td>0.0</td>\n",
       "      <td>0.0</td>\n",
       "      <td>0.0</td>\n",
       "      <td>0.0</td>\n",
       "      <td>1.00000e+00</td>\n",
       "      <td>0.0</td>\n",
       "      <td>0.0</td>\n",
       "      <td>0.0</td>\n",
       "      <td>1.01441</td>\n",
       "      <td>Math and Logic</td>\n",
       "    </tr>\n",
       "    <tr>\n",
       "      <th>1143256</th>\n",
       "      <td>132</td>\n",
       "      <td>0.0</td>\n",
       "      <td>0.0</td>\n",
       "      <td>0.0</td>\n",
       "      <td>0.0</td>\n",
       "      <td>0.0</td>\n",
       "      <td>0.0</td>\n",
       "      <td>0.0</td>\n",
       "      <td>1.00000e+00</td>\n",
       "      <td>0.0</td>\n",
       "      <td>0.0</td>\n",
       "      <td>0.0</td>\n",
       "      <td>1.01441</td>\n",
       "      <td>Math and Logic</td>\n",
       "    </tr>\n",
       "  </tbody>\n",
       "</table>\n",
       "<p>1143257 rows × 14 columns</p>\n",
       "</div>"
      ],
      "text/plain": [
       "         course_id  Arts and Humanities  Business  Computer Science  \\\n",
       "0               92                  0.0       1.0               0.0   \n",
       "83150           74                  0.0       1.0               0.0   \n",
       "83160           74                  0.0       1.0               0.0   \n",
       "83159           74                  0.0       1.0               0.0   \n",
       "83158           74                  0.0       1.0               0.0   \n",
       "...            ...                  ...       ...               ...   \n",
       "1138012        316                  0.0       0.0               0.0   \n",
       "1138011        316                  0.0       0.0               0.0   \n",
       "1138010        316                  0.0       0.0               0.0   \n",
       "1138009        316                  0.0       0.0               0.0   \n",
       "1143256        132                  0.0       0.0               0.0   \n",
       "\n",
       "         Data Science  Health  Information Technology  Language Learning  \\\n",
       "0                 0.0     0.0                     0.0                0.0   \n",
       "83150             0.0     0.0                     0.0                0.0   \n",
       "83160             0.0     0.0                     0.0                0.0   \n",
       "83159             0.0     0.0                     0.0                0.0   \n",
       "83158             0.0     0.0                     0.0                0.0   \n",
       "...               ...     ...                     ...                ...   \n",
       "1138012           0.0     0.0                     0.0                0.0   \n",
       "1138011           0.0     0.0                     0.0                0.0   \n",
       "1138010           0.0     0.0                     0.0                0.0   \n",
       "1138009           0.0     0.0                     0.0                0.0   \n",
       "1143256           0.0     0.0                     0.0                0.0   \n",
       "\n",
       "         Math and Logic  Personal Development  \\\n",
       "0          -8.67362e-19                   0.0   \n",
       "83150      -8.67362e-19                   0.0   \n",
       "83160      -8.67362e-19                   0.0   \n",
       "83159      -8.67362e-19                   0.0   \n",
       "83158      -8.67362e-19                   0.0   \n",
       "...                 ...                   ...   \n",
       "1138012     1.00000e+00                   0.0   \n",
       "1138011     1.00000e+00                   0.0   \n",
       "1138010     1.00000e+00                   0.0   \n",
       "1138009     1.00000e+00                   0.0   \n",
       "1143256     1.00000e+00                   0.0   \n",
       "\n",
       "         Physical Science and Engineering  Social Sciences  pred_rating  \\\n",
       "0                                     0.0              0.0      1.01449   \n",
       "83150                                 0.0              0.0      1.01449   \n",
       "83160                                 0.0              0.0      1.01449   \n",
       "83159                                 0.0              0.0      1.01449   \n",
       "83158                                 0.0              0.0      1.01449   \n",
       "...                                   ...              ...          ...   \n",
       "1138012                               0.0              0.0      1.01441   \n",
       "1138011                               0.0              0.0      1.01441   \n",
       "1138010                               0.0              0.0      1.01441   \n",
       "1138009                               0.0              0.0      1.01441   \n",
       "1143256                               0.0              0.0      1.01441   \n",
       "\n",
       "            subcategory  \n",
       "0              Business  \n",
       "83150          Business  \n",
       "83160          Business  \n",
       "83159          Business  \n",
       "83158          Business  \n",
       "...                 ...  \n",
       "1138012  Math and Logic  \n",
       "1138011  Math and Logic  \n",
       "1138010  Math and Logic  \n",
       "1138009  Math and Logic  \n",
       "1143256  Math and Logic  \n",
       "\n",
       "[1143257 rows x 14 columns]"
      ]
     },
     "execution_count": 89,
     "metadata": {},
     "output_type": "execute_result"
    }
   ],
   "source": [
    "pd.merge(pred_courses.sort_values(by='pred_rating', ascending=False),df_courses[['course_id','subcategory']], on='course_id').sort_values('pred_rating', ascending=False)"
   ]
  },
  {
   "cell_type": "code",
   "execution_count": null,
   "id": "40cf6980",
   "metadata": {},
   "outputs": [],
   "source": []
  },
  {
   "cell_type": "code",
   "execution_count": null,
   "id": "c5ddc140",
   "metadata": {},
   "outputs": [],
   "source": []
  },
  {
   "cell_type": "code",
   "execution_count": 92,
   "id": "39fb445d",
   "metadata": {},
   "outputs": [
    {
     "data": {
      "text/html": [
       "<div>\n",
       "<style scoped>\n",
       "    .dataframe tbody tr th:only-of-type {\n",
       "        vertical-align: middle;\n",
       "    }\n",
       "\n",
       "    .dataframe tbody tr th {\n",
       "        vertical-align: top;\n",
       "    }\n",
       "\n",
       "    .dataframe thead th {\n",
       "        text-align: right;\n",
       "    }\n",
       "</style>\n",
       "<table border=\"1\" class=\"dataframe\">\n",
       "  <thead>\n",
       "    <tr style=\"text-align: right;\">\n",
       "      <th></th>\n",
       "      <th>course_id</th>\n",
       "      <th>Arts and Humanities</th>\n",
       "      <th>Business</th>\n",
       "      <th>Computer Science</th>\n",
       "      <th>Data Science</th>\n",
       "      <th>Health</th>\n",
       "      <th>Information Technology</th>\n",
       "      <th>Language Learning</th>\n",
       "      <th>Math and Logic</th>\n",
       "      <th>Personal Development</th>\n",
       "      <th>Physical Science and Engineering</th>\n",
       "      <th>Social Sciences</th>\n",
       "      <th>pred_rating</th>\n",
       "      <th>subcategory</th>\n",
       "    </tr>\n",
       "  </thead>\n",
       "  <tbody>\n",
       "    <tr>\n",
       "      <th>568722</th>\n",
       "      <td>133</td>\n",
       "      <td>1.0</td>\n",
       "      <td>0.0</td>\n",
       "      <td>0.0</td>\n",
       "      <td>0.0</td>\n",
       "      <td>0.0</td>\n",
       "      <td>0.0</td>\n",
       "      <td>0.0</td>\n",
       "      <td>-8.67362e-19</td>\n",
       "      <td>0.0</td>\n",
       "      <td>0.0</td>\n",
       "      <td>0.0</td>\n",
       "      <td>1.01447</td>\n",
       "      <td>Arts and Humanities</td>\n",
       "    </tr>\n",
       "    <tr>\n",
       "      <th>568723</th>\n",
       "      <td>133</td>\n",
       "      <td>1.0</td>\n",
       "      <td>0.0</td>\n",
       "      <td>0.0</td>\n",
       "      <td>0.0</td>\n",
       "      <td>0.0</td>\n",
       "      <td>0.0</td>\n",
       "      <td>0.0</td>\n",
       "      <td>-8.67362e-19</td>\n",
       "      <td>0.0</td>\n",
       "      <td>0.0</td>\n",
       "      <td>0.0</td>\n",
       "      <td>1.01447</td>\n",
       "      <td>Arts and Humanities</td>\n",
       "    </tr>\n",
       "    <tr>\n",
       "      <th>568724</th>\n",
       "      <td>133</td>\n",
       "      <td>1.0</td>\n",
       "      <td>0.0</td>\n",
       "      <td>0.0</td>\n",
       "      <td>0.0</td>\n",
       "      <td>0.0</td>\n",
       "      <td>0.0</td>\n",
       "      <td>0.0</td>\n",
       "      <td>-8.67362e-19</td>\n",
       "      <td>0.0</td>\n",
       "      <td>0.0</td>\n",
       "      <td>0.0</td>\n",
       "      <td>1.01447</td>\n",
       "      <td>Arts and Humanities</td>\n",
       "    </tr>\n",
       "    <tr>\n",
       "      <th>568725</th>\n",
       "      <td>133</td>\n",
       "      <td>1.0</td>\n",
       "      <td>0.0</td>\n",
       "      <td>0.0</td>\n",
       "      <td>0.0</td>\n",
       "      <td>0.0</td>\n",
       "      <td>0.0</td>\n",
       "      <td>0.0</td>\n",
       "      <td>-8.67362e-19</td>\n",
       "      <td>0.0</td>\n",
       "      <td>0.0</td>\n",
       "      <td>0.0</td>\n",
       "      <td>1.01447</td>\n",
       "      <td>Arts and Humanities</td>\n",
       "    </tr>\n",
       "    <tr>\n",
       "      <th>568726</th>\n",
       "      <td>133</td>\n",
       "      <td>1.0</td>\n",
       "      <td>0.0</td>\n",
       "      <td>0.0</td>\n",
       "      <td>0.0</td>\n",
       "      <td>0.0</td>\n",
       "      <td>0.0</td>\n",
       "      <td>0.0</td>\n",
       "      <td>-8.67362e-19</td>\n",
       "      <td>0.0</td>\n",
       "      <td>0.0</td>\n",
       "      <td>0.0</td>\n",
       "      <td>1.01447</td>\n",
       "      <td>Arts and Humanities</td>\n",
       "    </tr>\n",
       "    <tr>\n",
       "      <th>...</th>\n",
       "      <td>...</td>\n",
       "      <td>...</td>\n",
       "      <td>...</td>\n",
       "      <td>...</td>\n",
       "      <td>...</td>\n",
       "      <td>...</td>\n",
       "      <td>...</td>\n",
       "      <td>...</td>\n",
       "      <td>...</td>\n",
       "      <td>...</td>\n",
       "      <td>...</td>\n",
       "      <td>...</td>\n",
       "      <td>...</td>\n",
       "      <td>...</td>\n",
       "    </tr>\n",
       "    <tr>\n",
       "      <th>614996</th>\n",
       "      <td>553</td>\n",
       "      <td>1.0</td>\n",
       "      <td>0.0</td>\n",
       "      <td>0.0</td>\n",
       "      <td>0.0</td>\n",
       "      <td>0.0</td>\n",
       "      <td>0.0</td>\n",
       "      <td>0.0</td>\n",
       "      <td>-8.67362e-19</td>\n",
       "      <td>0.0</td>\n",
       "      <td>0.0</td>\n",
       "      <td>0.0</td>\n",
       "      <td>1.01447</td>\n",
       "      <td>Arts and Humanities</td>\n",
       "    </tr>\n",
       "    <tr>\n",
       "      <th>614997</th>\n",
       "      <td>553</td>\n",
       "      <td>1.0</td>\n",
       "      <td>0.0</td>\n",
       "      <td>0.0</td>\n",
       "      <td>0.0</td>\n",
       "      <td>0.0</td>\n",
       "      <td>0.0</td>\n",
       "      <td>0.0</td>\n",
       "      <td>-8.67362e-19</td>\n",
       "      <td>0.0</td>\n",
       "      <td>0.0</td>\n",
       "      <td>0.0</td>\n",
       "      <td>1.01447</td>\n",
       "      <td>Arts and Humanities</td>\n",
       "    </tr>\n",
       "    <tr>\n",
       "      <th>614998</th>\n",
       "      <td>553</td>\n",
       "      <td>1.0</td>\n",
       "      <td>0.0</td>\n",
       "      <td>0.0</td>\n",
       "      <td>0.0</td>\n",
       "      <td>0.0</td>\n",
       "      <td>0.0</td>\n",
       "      <td>0.0</td>\n",
       "      <td>-8.67362e-19</td>\n",
       "      <td>0.0</td>\n",
       "      <td>0.0</td>\n",
       "      <td>0.0</td>\n",
       "      <td>1.01447</td>\n",
       "      <td>Arts and Humanities</td>\n",
       "    </tr>\n",
       "    <tr>\n",
       "      <th>614999</th>\n",
       "      <td>553</td>\n",
       "      <td>1.0</td>\n",
       "      <td>0.0</td>\n",
       "      <td>0.0</td>\n",
       "      <td>0.0</td>\n",
       "      <td>0.0</td>\n",
       "      <td>0.0</td>\n",
       "      <td>0.0</td>\n",
       "      <td>-8.67362e-19</td>\n",
       "      <td>0.0</td>\n",
       "      <td>0.0</td>\n",
       "      <td>0.0</td>\n",
       "      <td>1.01447</td>\n",
       "      <td>Arts and Humanities</td>\n",
       "    </tr>\n",
       "    <tr>\n",
       "      <th>615000</th>\n",
       "      <td>553</td>\n",
       "      <td>1.0</td>\n",
       "      <td>0.0</td>\n",
       "      <td>0.0</td>\n",
       "      <td>0.0</td>\n",
       "      <td>0.0</td>\n",
       "      <td>0.0</td>\n",
       "      <td>0.0</td>\n",
       "      <td>-8.67362e-19</td>\n",
       "      <td>0.0</td>\n",
       "      <td>0.0</td>\n",
       "      <td>0.0</td>\n",
       "      <td>1.01447</td>\n",
       "      <td>Arts and Humanities</td>\n",
       "    </tr>\n",
       "  </tbody>\n",
       "</table>\n",
       "<p>46279 rows × 14 columns</p>\n",
       "</div>"
      ],
      "text/plain": [
       "        course_id  Arts and Humanities  Business  Computer Science  \\\n",
       "568722        133                  1.0       0.0               0.0   \n",
       "568723        133                  1.0       0.0               0.0   \n",
       "568724        133                  1.0       0.0               0.0   \n",
       "568725        133                  1.0       0.0               0.0   \n",
       "568726        133                  1.0       0.0               0.0   \n",
       "...           ...                  ...       ...               ...   \n",
       "614996        553                  1.0       0.0               0.0   \n",
       "614997        553                  1.0       0.0               0.0   \n",
       "614998        553                  1.0       0.0               0.0   \n",
       "614999        553                  1.0       0.0               0.0   \n",
       "615000        553                  1.0       0.0               0.0   \n",
       "\n",
       "        Data Science  Health  Information Technology  Language Learning  \\\n",
       "568722           0.0     0.0                     0.0                0.0   \n",
       "568723           0.0     0.0                     0.0                0.0   \n",
       "568724           0.0     0.0                     0.0                0.0   \n",
       "568725           0.0     0.0                     0.0                0.0   \n",
       "568726           0.0     0.0                     0.0                0.0   \n",
       "...              ...     ...                     ...                ...   \n",
       "614996           0.0     0.0                     0.0                0.0   \n",
       "614997           0.0     0.0                     0.0                0.0   \n",
       "614998           0.0     0.0                     0.0                0.0   \n",
       "614999           0.0     0.0                     0.0                0.0   \n",
       "615000           0.0     0.0                     0.0                0.0   \n",
       "\n",
       "        Math and Logic  Personal Development  \\\n",
       "568722    -8.67362e-19                   0.0   \n",
       "568723    -8.67362e-19                   0.0   \n",
       "568724    -8.67362e-19                   0.0   \n",
       "568725    -8.67362e-19                   0.0   \n",
       "568726    -8.67362e-19                   0.0   \n",
       "...                ...                   ...   \n",
       "614996    -8.67362e-19                   0.0   \n",
       "614997    -8.67362e-19                   0.0   \n",
       "614998    -8.67362e-19                   0.0   \n",
       "614999    -8.67362e-19                   0.0   \n",
       "615000    -8.67362e-19                   0.0   \n",
       "\n",
       "        Physical Science and Engineering  Social Sciences  pred_rating  \\\n",
       "568722                               0.0              0.0      1.01447   \n",
       "568723                               0.0              0.0      1.01447   \n",
       "568724                               0.0              0.0      1.01447   \n",
       "568725                               0.0              0.0      1.01447   \n",
       "568726                               0.0              0.0      1.01447   \n",
       "...                                  ...              ...          ...   \n",
       "614996                               0.0              0.0      1.01447   \n",
       "614997                               0.0              0.0      1.01447   \n",
       "614998                               0.0              0.0      1.01447   \n",
       "614999                               0.0              0.0      1.01447   \n",
       "615000                               0.0              0.0      1.01447   \n",
       "\n",
       "                subcategory  \n",
       "568722  Arts and Humanities  \n",
       "568723  Arts and Humanities  \n",
       "568724  Arts and Humanities  \n",
       "568725  Arts and Humanities  \n",
       "568726  Arts and Humanities  \n",
       "...                     ...  \n",
       "614996  Arts and Humanities  \n",
       "614997  Arts and Humanities  \n",
       "614998  Arts and Humanities  \n",
       "614999  Arts and Humanities  \n",
       "615000  Arts and Humanities  \n",
       "\n",
       "[46279 rows x 14 columns]"
      ]
     },
     "execution_count": 92,
     "metadata": {},
     "output_type": "execute_result"
    }
   ],
   "source": [
    "pd.merge(pred_courses.sort_values(by='pred_rating', ascending=False),df_courses[['course_id','subcategory']], on='course_id')[pd.merge(pred_courses.sort_values(by='pred_rating', ascending=False),df_courses[['course_id','subcategory']], on='course_id')['subcategory'] == 'Arts and Humanities']"
   ]
  },
  {
   "cell_type": "code",
   "execution_count": 91,
   "id": "038132ef",
   "metadata": {},
   "outputs": [
    {
     "ename": "KeyError",
     "evalue": "\"None of [Index(['id', 'subcategory'], dtype='object')] are in the [columns]\"",
     "output_type": "error",
     "traceback": [
      "\u001b[1;31m---------------------------------------------------------------------------\u001b[0m",
      "\u001b[1;31mKeyError\u001b[0m                                  Traceback (most recent call last)",
      "Input \u001b[1;32mIn [91]\u001b[0m, in \u001b[0;36m<cell line: 1>\u001b[1;34m()\u001b[0m\n\u001b[1;32m----> 1\u001b[0m pd\u001b[38;5;241m.\u001b[39mmerge(pred_courses\u001b[38;5;241m.\u001b[39msort_values(by\u001b[38;5;241m=\u001b[39m\u001b[38;5;124m'\u001b[39m\u001b[38;5;124mpred_rating\u001b[39m\u001b[38;5;124m'\u001b[39m, ascending\u001b[38;5;241m=\u001b[39m\u001b[38;5;28;01mFalse\u001b[39;00m),\u001b[43mcourses\u001b[49m\u001b[43m[\u001b[49m\u001b[43m[\u001b[49m\u001b[38;5;124;43m'\u001b[39;49m\u001b[38;5;124;43mid\u001b[39;49m\u001b[38;5;124;43m'\u001b[39;49m\u001b[43m,\u001b[49m\u001b[38;5;124;43m'\u001b[39;49m\u001b[38;5;124;43msubcategory\u001b[39;49m\u001b[38;5;124;43m'\u001b[39;49m\u001b[43m]\u001b[49m\u001b[43m]\u001b[49m, on\u001b[38;5;241m=\u001b[39m\u001b[38;5;124m'\u001b[39m\u001b[38;5;124mid\u001b[39m\u001b[38;5;124m'\u001b[39m)[pd\u001b[38;5;241m.\u001b[39mmerge(pred_courses\u001b[38;5;241m.\u001b[39msort_values(by\u001b[38;5;241m=\u001b[39m\u001b[38;5;124m'\u001b[39m\u001b[38;5;124mpred_rating\u001b[39m\u001b[38;5;124m'\u001b[39m, ascending\u001b[38;5;241m=\u001b[39m\u001b[38;5;28;01mFalse\u001b[39;00m),courses[[\u001b[38;5;124m'\u001b[39m\u001b[38;5;124mid\u001b[39m\u001b[38;5;124m'\u001b[39m,\u001b[38;5;124m'\u001b[39m\u001b[38;5;124msubcategory\u001b[39m\u001b[38;5;124m'\u001b[39m]], on\u001b[38;5;241m=\u001b[39m\u001b[38;5;124m'\u001b[39m\u001b[38;5;124mid\u001b[39m\u001b[38;5;124m'\u001b[39m)[\u001b[38;5;124m'\u001b[39m\u001b[38;5;124mpred_rating\u001b[39m\u001b[38;5;124m'\u001b[39m]\u001b[38;5;241m>\u001b[39m\u001b[38;5;241m4.7\u001b[39m][\u001b[38;5;124m'\u001b[39m\u001b[38;5;124msubcategory\u001b[39m\u001b[38;5;124m'\u001b[39m]\u001b[38;5;241m.\u001b[39munique()\n",
      "File \u001b[1;32mC:\\Python310\\lib\\site-packages\\pandas\\core\\frame.py:3511\u001b[0m, in \u001b[0;36mDataFrame.__getitem__\u001b[1;34m(self, key)\u001b[0m\n\u001b[0;32m   3509\u001b[0m     \u001b[38;5;28;01mif\u001b[39;00m is_iterator(key):\n\u001b[0;32m   3510\u001b[0m         key \u001b[38;5;241m=\u001b[39m \u001b[38;5;28mlist\u001b[39m(key)\n\u001b[1;32m-> 3511\u001b[0m     indexer \u001b[38;5;241m=\u001b[39m \u001b[38;5;28;43mself\u001b[39;49m\u001b[38;5;241;43m.\u001b[39;49m\u001b[43mcolumns\u001b[49m\u001b[38;5;241;43m.\u001b[39;49m\u001b[43m_get_indexer_strict\u001b[49m\u001b[43m(\u001b[49m\u001b[43mkey\u001b[49m\u001b[43m,\u001b[49m\u001b[43m \u001b[49m\u001b[38;5;124;43m\"\u001b[39;49m\u001b[38;5;124;43mcolumns\u001b[39;49m\u001b[38;5;124;43m\"\u001b[39;49m\u001b[43m)\u001b[49m[\u001b[38;5;241m1\u001b[39m]\n\u001b[0;32m   3513\u001b[0m \u001b[38;5;66;03m# take() does not accept boolean indexers\u001b[39;00m\n\u001b[0;32m   3514\u001b[0m \u001b[38;5;28;01mif\u001b[39;00m \u001b[38;5;28mgetattr\u001b[39m(indexer, \u001b[38;5;124m\"\u001b[39m\u001b[38;5;124mdtype\u001b[39m\u001b[38;5;124m\"\u001b[39m, \u001b[38;5;28;01mNone\u001b[39;00m) \u001b[38;5;241m==\u001b[39m \u001b[38;5;28mbool\u001b[39m:\n",
      "File \u001b[1;32mC:\\Python310\\lib\\site-packages\\pandas\\core\\indexes\\base.py:5782\u001b[0m, in \u001b[0;36mIndex._get_indexer_strict\u001b[1;34m(self, key, axis_name)\u001b[0m\n\u001b[0;32m   5779\u001b[0m \u001b[38;5;28;01melse\u001b[39;00m:\n\u001b[0;32m   5780\u001b[0m     keyarr, indexer, new_indexer \u001b[38;5;241m=\u001b[39m \u001b[38;5;28mself\u001b[39m\u001b[38;5;241m.\u001b[39m_reindex_non_unique(keyarr)\n\u001b[1;32m-> 5782\u001b[0m \u001b[38;5;28;43mself\u001b[39;49m\u001b[38;5;241;43m.\u001b[39;49m\u001b[43m_raise_if_missing\u001b[49m\u001b[43m(\u001b[49m\u001b[43mkeyarr\u001b[49m\u001b[43m,\u001b[49m\u001b[43m \u001b[49m\u001b[43mindexer\u001b[49m\u001b[43m,\u001b[49m\u001b[43m \u001b[49m\u001b[43maxis_name\u001b[49m\u001b[43m)\u001b[49m\n\u001b[0;32m   5784\u001b[0m keyarr \u001b[38;5;241m=\u001b[39m \u001b[38;5;28mself\u001b[39m\u001b[38;5;241m.\u001b[39mtake(indexer)\n\u001b[0;32m   5785\u001b[0m \u001b[38;5;28;01mif\u001b[39;00m \u001b[38;5;28misinstance\u001b[39m(key, Index):\n\u001b[0;32m   5786\u001b[0m     \u001b[38;5;66;03m# GH 42790 - Preserve name from an Index\u001b[39;00m\n",
      "File \u001b[1;32mC:\\Python310\\lib\\site-packages\\pandas\\core\\indexes\\base.py:5842\u001b[0m, in \u001b[0;36mIndex._raise_if_missing\u001b[1;34m(self, key, indexer, axis_name)\u001b[0m\n\u001b[0;32m   5840\u001b[0m     \u001b[38;5;28;01mif\u001b[39;00m use_interval_msg:\n\u001b[0;32m   5841\u001b[0m         key \u001b[38;5;241m=\u001b[39m \u001b[38;5;28mlist\u001b[39m(key)\n\u001b[1;32m-> 5842\u001b[0m     \u001b[38;5;28;01mraise\u001b[39;00m \u001b[38;5;167;01mKeyError\u001b[39;00m(\u001b[38;5;124mf\u001b[39m\u001b[38;5;124m\"\u001b[39m\u001b[38;5;124mNone of [\u001b[39m\u001b[38;5;132;01m{\u001b[39;00mkey\u001b[38;5;132;01m}\u001b[39;00m\u001b[38;5;124m] are in the [\u001b[39m\u001b[38;5;132;01m{\u001b[39;00maxis_name\u001b[38;5;132;01m}\u001b[39;00m\u001b[38;5;124m]\u001b[39m\u001b[38;5;124m\"\u001b[39m)\n\u001b[0;32m   5844\u001b[0m not_found \u001b[38;5;241m=\u001b[39m \u001b[38;5;28mlist\u001b[39m(ensure_index(key)[missing_mask\u001b[38;5;241m.\u001b[39mnonzero()[\u001b[38;5;241m0\u001b[39m]]\u001b[38;5;241m.\u001b[39munique())\n\u001b[0;32m   5845\u001b[0m \u001b[38;5;28;01mraise\u001b[39;00m \u001b[38;5;167;01mKeyError\u001b[39;00m(\u001b[38;5;124mf\u001b[39m\u001b[38;5;124m\"\u001b[39m\u001b[38;5;132;01m{\u001b[39;00mnot_found\u001b[38;5;132;01m}\u001b[39;00m\u001b[38;5;124m not in index\u001b[39m\u001b[38;5;124m\"\u001b[39m)\n",
      "\u001b[1;31mKeyError\u001b[0m: \"None of [Index(['id', 'subcategory'], dtype='object')] are in the [columns]\""
     ]
    }
   ],
   "source": [
    "pd.merge(pred_courses.sort_values(by='pred_rating', ascending=False),courses[['id','subcategory']], on='id')[pd.merge(pred_courses.sort_values(by='pred_rating', ascending=False),courses[['id','subcategory']], on='id')['pred_rating']>4.7]['subcategory'].unique()"
   ]
  },
  {
   "cell_type": "code",
   "execution_count": null,
   "id": "e58bcc3d",
   "metadata": {},
   "outputs": [],
   "source": [
    "pd.merge(pred_courses.sort_values(by='pred_rating', ascending=False),courses[['id','subcategory']], on='id')[pd.merge(pred_courses.sort_values(by='pred_rating', ascending=False),courses[['id','subcategory']], on='id')['Apple'] == 1.0]"
   ]
  },
  {
   "cell_type": "code",
   "execution_count": null,
   "id": "253bc759",
   "metadata": {},
   "outputs": [],
   "source": []
  },
  {
   "cell_type": "code",
   "execution_count": null,
   "id": "b30a8631",
   "metadata": {},
   "outputs": [],
   "source": []
  },
  {
   "cell_type": "code",
   "execution_count": null,
   "id": "2911d650",
   "metadata": {},
   "outputs": [],
   "source": []
  },
  {
   "cell_type": "code",
   "execution_count": null,
   "id": "64d08b7c",
   "metadata": {},
   "outputs": [],
   "source": []
  },
  {
   "cell_type": "code",
   "execution_count": null,
   "id": "f83b0540",
   "metadata": {},
   "outputs": [],
   "source": []
  },
  {
   "cell_type": "code",
   "execution_count": null,
   "id": "9c110a8a",
   "metadata": {},
   "outputs": [],
   "source": []
  },
  {
   "cell_type": "code",
   "execution_count": null,
   "id": "3b38d585",
   "metadata": {},
   "outputs": [],
   "source": []
  },
  {
   "cell_type": "code",
   "execution_count": null,
   "id": "f532ad79",
   "metadata": {},
   "outputs": [],
   "source": []
  },
  {
   "cell_type": "code",
   "execution_count": null,
   "id": "e3feb8ba",
   "metadata": {},
   "outputs": [],
   "source": []
  },
  {
   "cell_type": "code",
   "execution_count": null,
   "id": "e03e29a7",
   "metadata": {},
   "outputs": [],
   "source": []
  },
  {
   "cell_type": "code",
   "execution_count": null,
   "id": "fab6ba3c",
   "metadata": {},
   "outputs": [],
   "source": []
  },
  {
   "cell_type": "code",
   "execution_count": null,
   "id": "4647aee7",
   "metadata": {
    "scrolled": true
   },
   "outputs": [],
   "source": [
    "df_all.shape"
   ]
  },
  {
   "cell_type": "code",
   "execution_count": null,
   "id": "446fa8f5",
   "metadata": {
    "scrolled": true
   },
   "outputs": [],
   "source": [
    "ratings.shape"
   ]
  },
  {
   "cell_type": "code",
   "execution_count": null,
   "id": "17e52a45",
   "metadata": {},
   "outputs": [],
   "source": [
    "ratings[ratings.duplicated(keep=False)].sort_values(\"reviewers\")"
   ]
  },
  {
   "cell_type": "code",
   "execution_count": null,
   "id": "bcf05b11",
   "metadata": {},
   "outputs": [],
   "source": []
  },
  {
   "cell_type": "code",
   "execution_count": null,
   "id": "c475c6bb",
   "metadata": {},
   "outputs": [],
   "source": [
    "ratings[ratings.duplicated(keep=False)]"
   ]
  },
  {
   "cell_type": "code",
   "execution_count": null,
   "id": "a6d1c311",
   "metadata": {},
   "outputs": [],
   "source": [
    "df_all[df_all['as'] == 'left_only']"
   ]
  },
  {
   "cell_type": "code",
   "execution_count": null,
   "id": "14463a8c",
   "metadata": {},
   "outputs": [],
   "source": [
    "ratings[ratings['course_id'].isin(list(df_all['course_id']))]"
   ]
  },
  {
   "cell_type": "code",
   "execution_count": null,
   "id": "35278f41",
   "metadata": {},
   "outputs": [],
   "source": []
  },
  {
   "cell_type": "code",
   "execution_count": null,
   "id": "740b4ff4",
   "metadata": {},
   "outputs": [],
   "source": []
  },
  {
   "cell_type": "code",
   "execution_count": null,
   "id": "68696062",
   "metadata": {},
   "outputs": [],
   "source": [
    "from surprise import SVD\n",
    "from surprise import Dataset\n",
    "from surprise import Reader\n",
    "from surprise.model_selection import train_test_split\n",
    "from surprise.model_selection import cross_validate\n",
    "\n",
    "from collections import defaultdict"
   ]
  },
  {
   "cell_type": "code",
   "execution_count": null,
   "id": "1a52c5f6",
   "metadata": {},
   "outputs": [],
   "source": [
    "data = pd.read_csv(r'C:\\Users\\Youse\\Downloads\\archive (1)\\Coursera_reviews.csv')"
   ]
  },
  {
   "cell_type": "code",
   "execution_count": null,
   "id": "e49c02a5",
   "metadata": {},
   "outputs": [],
   "source": [
    "data.head()"
   ]
  },
  {
   "cell_type": "code",
   "execution_count": null,
   "id": "f67284dc",
   "metadata": {
    "scrolled": true
   },
   "outputs": [],
   "source": [
    "data=data[['reviewers','course_id','rating']]\n",
    "reviewers=data['reviewers'].unique()\n",
    "reviewers=reviewers[:270000]"
   ]
  },
  {
   "cell_type": "code",
   "execution_count": null,
   "id": "fc9756af",
   "metadata": {},
   "outputs": [],
   "source": [
    "data=data[~data['reviewers'].isin(reviewers)]\n",
    "data=data.pivot_table(index=['reviewers'],columns=['course_id'],values='rating').fillna(0)\n",
    "data=data.reset_index().melt(id_vars=['reviewers'])\n",
    "reader=Reader(rating_scale=(0,5))\n",
    "data=Dataset.load_from_df(data,reader)\n",
    "type(data)"
   ]
  },
  {
   "cell_type": "code",
   "execution_count": null,
   "id": "1aed3d70",
   "metadata": {},
   "outputs": [],
   "source": [
    "trainset, testset= train_test_split(data, test_size=.25,shuffle=True)"
   ]
  },
  {
   "cell_type": "code",
   "execution_count": null,
   "id": "489b6d99",
   "metadata": {},
   "outputs": [],
   "source": [
    "svd_model=SVD()\n",
    "svd_model.fit(trainset)\n",
    "cross_validate(svd_model, data, measures=['RMSE', 'MAE'], cv=5, verbose=True)"
   ]
  },
  {
   "cell_type": "code",
   "execution_count": null,
   "id": "f6ec1800",
   "metadata": {},
   "outputs": [],
   "source": [
    "predictions=svd_model.test(testset)"
   ]
  },
  {
   "cell_type": "code",
   "execution_count": null,
   "id": "9db6d81b",
   "metadata": {
    "scrolled": true
   },
   "outputs": [],
   "source": [
    "top_n = defaultdict(list)\n",
    "n=3\n",
    "for uid, iid, true_r, est, _ in predictions:\n",
    "  top_n[uid].append((iid, est))\n",
    "\n",
    "for uid, user_ratings in top_n.items():\n",
    "  user_ratings.sort(key=lambda x: x[1], reverse=True)\n",
    "  top_n[uid] = user_ratings[:n]\n",
    "\n",
    "for uid, user_ratings in top_n.items():\n",
    "  print(uid, user_ratings)"
   ]
  },
  {
   "cell_type": "code",
   "execution_count": null,
   "id": "af6e02a1",
   "metadata": {},
   "outputs": [],
   "source": [
    "ratings[ratings['reviewers'] == 'By AKHIL']"
   ]
  },
  {
   "cell_type": "code",
   "execution_count": null,
   "id": "2da9e9b4",
   "metadata": {},
   "outputs": [],
   "source": [
    "for uid, user_ratings in top_n.items():\n",
    "    print(user_ratings)\n",
    "    break"
   ]
  },
  {
   "cell_type": "code",
   "execution_count": null,
   "id": "7f4e9eb1",
   "metadata": {},
   "outputs": [],
   "source": []
  }
 ],
 "metadata": {
  "kernelspec": {
   "display_name": "Python 3 (ipykernel)",
   "language": "python",
   "name": "python3"
  },
  "language_info": {
   "codemirror_mode": {
    "name": "ipython",
    "version": 3
   },
   "file_extension": ".py",
   "mimetype": "text/x-python",
   "name": "python",
   "nbconvert_exporter": "python",
   "pygments_lexer": "ipython3",
   "version": "3.10.2"
  }
 },
 "nbformat": 4,
 "nbformat_minor": 5
}
