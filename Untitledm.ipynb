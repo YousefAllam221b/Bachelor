{
 "cells": [
  {
   "cell_type": "code",
   "execution_count": 1,
   "id": "a9dba2fb",
   "metadata": {},
   "outputs": [],
   "source": [
    "import os\n",
    "import tempfile\n",
    "\n",
    "import pandas as pd\n",
    "import numpy as np\n",
    "import tensorflow as tf\n",
    "# import tensorflow_datasets as tfds\n",
    "\n",
    "import tensorflow_recommenders as tfrs\n",
    "from ast import literal_eval\n",
    "\n",
    "import numpy as np\n",
    "import numpy.ma as ma\n",
    "from numpy import genfromtxt\n",
    "from collections import defaultdict\n",
    "import pandas as pd\n",
    "import tensorflow as tf\n",
    "from tensorflow import keras\n",
    "from sklearn.preprocessing import StandardScaler, MinMaxScaler\n",
    "from sklearn.model_selection import train_test_split\n",
    "import tabulate\n",
    "import time\n",
    "pd.set_option(\"display.precision\", 1)"
   ]
  },
  {
   "cell_type": "code",
   "execution_count": 2,
   "id": "0b7a7e49",
   "metadata": {},
   "outputs": [],
   "source": [
    "# Load and preprocess the data\n",
    "ratings = pd.read_csv(r'C:\\Users\\Youse\\Downloads\\archive (1)\\Coursera_reviews.csv')\n",
    "courses = pd.read_csv(r'C:\\Users\\Youse\\Downloads\\archive (1)\\Coursera_courses.csv')\n",
    "courses_info = pd.read_csv(r'C:\\Users\\Youse\\Downloads\\archive (3)\\coursera-course-detail-data.csv')\n",
    "y_train = ratings.rating.values"
   ]
  },
  {
   "cell_type": "code",
   "execution_count": 3,
   "id": "ae2fa8c9",
   "metadata": {},
   "outputs": [],
   "source": [
    "courses_info = courses_info.drop('Unnamed: 0',axis=1)\n",
    "courses_info['course_id'] =  courses_info['Url'].str.rsplit('/',1).str[1]"
   ]
  },
  {
   "cell_type": "code",
   "execution_count": 4,
   "id": "175a0df8",
   "metadata": {},
   "outputs": [],
   "source": [
    "df_courses = courses.merge(courses_info, on='course_id', \n",
    "                   how='left', indicator='courses_with_info')"
   ]
  },
  {
   "cell_type": "code",
   "execution_count": 5,
   "id": "f751dc27",
   "metadata": {},
   "outputs": [],
   "source": [
    "df_all = df_courses.merge(ratings, on='course_id', \n",
    "                   how='left', indicator='ratings_with_courses_info')"
   ]
  },
  {
   "cell_type": "code",
   "execution_count": 6,
   "id": "e6a29c98",
   "metadata": {
    "scrolled": true
   },
   "outputs": [],
   "source": [
    "df_all = df_all[df_all['reviewers'] != 'By Deleted A']\n",
    "df_all = df_all.dropna(subset=['Tags','rating'])\n",
    "df_all['Tags'] = df_all['Tags'].apply(literal_eval)\n",
    "df_all['Tags'] = df_all['Tags'].str[0]\n",
    "df_all.rename(columns = {'Tags':'subcategory'}, inplace = True)"
   ]
  },
  {
   "cell_type": "code",
   "execution_count": 7,
   "id": "43718c41",
   "metadata": {
    "scrolled": true
   },
   "outputs": [],
   "source": [
    "df_merged = df_all[['reviewers', 'course_id', 'subcategory', 'date_reviews', 'rating']]"
   ]
  },
  {
   "cell_type": "code",
   "execution_count": null,
   "id": "b7e4b440",
   "metadata": {},
   "outputs": [],
   "source": []
  },
  {
   "cell_type": "code",
   "execution_count": 9,
   "id": "eec0a1a4",
   "metadata": {
    "scrolled": true
   },
   "outputs": [],
   "source": [
    "# use pivot to create a dataframe with subcategory as columns, rating as values, and userId as an additional column\n",
    "df_pivot = df_merged.pivot(columns=\"subcategory\", values=\"rating\")\n",
    "df_pivot.insert(0, 'userId', df_merged['reviewers'])\n",
    "df_pivot.insert(1, 'course_id', df_merged['course_id'])\n",
    "df_pivot.insert(2, 'timestamp', df_merged['date_reviews'])\n",
    "df_pivot.insert(3, 'rating', df_merged['rating'])"
   ]
  },
  {
   "cell_type": "code",
   "execution_count": 10,
   "id": "ebc7fd9e",
   "metadata": {},
   "outputs": [],
   "source": [
    "cols_to_mean = df_pivot.columns[3:]\n",
    "for col in cols_to_mean:\n",
    "    df_pivot[f'{col}'] = df_pivot.groupby('userId')[col].transform('mean')\n",
    "user_input = df_pivot.fillna(0)\n",
    "user_input['userId'] = pd.factorize(user_input['userId'])[0]\n",
    "user_input = user_input.sort_values(by='userId', ascending=True)"
   ]
  },
  {
   "cell_type": "code",
   "execution_count": 11,
   "id": "b4f925ac",
   "metadata": {},
   "outputs": [],
   "source": [
    "dates = pd.to_datetime(user_input['timestamp'])\n",
    "user_input['timestamp'] = (dates - pd.Timestamp(\"1970-01-01\")) // pd.Timedelta('1s')"
   ]
  },
  {
   "cell_type": "code",
   "execution_count": 12,
   "id": "f2bad6de",
   "metadata": {},
   "outputs": [],
   "source": [
    "df_courses = df_courses.dropna(subset=['Tags'])\n",
    "df_courses['Tags'] = df_courses['Tags'].apply(literal_eval)\n",
    "df_courses['Tags'] = df_courses['Tags'].str[0]\n",
    "df_courses.rename(columns = {'Tags':'subcategory'}, inplace = True)"
   ]
  },
  {
   "cell_type": "code",
   "execution_count": 13,
   "id": "a371475f",
   "metadata": {},
   "outputs": [],
   "source": [
    "encoded_cols = pd.get_dummies(df_courses['subcategory'], prefix='')\n",
    "encoded_cols = encoded_cols.rename(columns=lambda x: x.replace('_', ''))\n",
    "courses_input = pd.concat([df_courses, encoded_cols], axis=1)"
   ]
  },
  {
   "cell_type": "code",
   "execution_count": 14,
   "id": "acdc509e",
   "metadata": {},
   "outputs": [
    {
     "data": {
      "text/html": [
       "<div>\n",
       "<style scoped>\n",
       "    .dataframe tbody tr th:only-of-type {\n",
       "        vertical-align: middle;\n",
       "    }\n",
       "\n",
       "    .dataframe tbody tr th {\n",
       "        vertical-align: top;\n",
       "    }\n",
       "\n",
       "    .dataframe thead th {\n",
       "        text-align: right;\n",
       "    }\n",
       "</style>\n",
       "<table border=\"1\" class=\"dataframe\">\n",
       "  <thead>\n",
       "    <tr style=\"text-align: right;\">\n",
       "      <th></th>\n",
       "      <th>course_id</th>\n",
       "      <th>Arts and Humanities</th>\n",
       "      <th>Business</th>\n",
       "      <th>Computer Science</th>\n",
       "      <th>Data Science</th>\n",
       "      <th>Health</th>\n",
       "      <th>Information Technology</th>\n",
       "      <th>Language Learning</th>\n",
       "      <th>Math and Logic</th>\n",
       "      <th>Personal Development</th>\n",
       "      <th>Physical Science and Engineering</th>\n",
       "      <th>Social Sciences</th>\n",
       "    </tr>\n",
       "  </thead>\n",
       "  <tbody>\n",
       "    <tr>\n",
       "      <th>0</th>\n",
       "      <td>machine-learning</td>\n",
       "      <td>0</td>\n",
       "      <td>0</td>\n",
       "      <td>0</td>\n",
       "      <td>1</td>\n",
       "      <td>0</td>\n",
       "      <td>0</td>\n",
       "      <td>0</td>\n",
       "      <td>0</td>\n",
       "      <td>0</td>\n",
       "      <td>0</td>\n",
       "      <td>0</td>\n",
       "    </tr>\n",
       "    <tr>\n",
       "      <th>1</th>\n",
       "      <td>indigenous-canada</td>\n",
       "      <td>1</td>\n",
       "      <td>0</td>\n",
       "      <td>0</td>\n",
       "      <td>0</td>\n",
       "      <td>0</td>\n",
       "      <td>0</td>\n",
       "      <td>0</td>\n",
       "      <td>0</td>\n",
       "      <td>0</td>\n",
       "      <td>0</td>\n",
       "      <td>0</td>\n",
       "    </tr>\n",
       "    <tr>\n",
       "      <th>2</th>\n",
       "      <td>the-science-of-well-being</td>\n",
       "      <td>0</td>\n",
       "      <td>0</td>\n",
       "      <td>0</td>\n",
       "      <td>0</td>\n",
       "      <td>0</td>\n",
       "      <td>0</td>\n",
       "      <td>0</td>\n",
       "      <td>0</td>\n",
       "      <td>1</td>\n",
       "      <td>0</td>\n",
       "      <td>0</td>\n",
       "    </tr>\n",
       "    <tr>\n",
       "      <th>3</th>\n",
       "      <td>technical-support-fundamentals</td>\n",
       "      <td>0</td>\n",
       "      <td>0</td>\n",
       "      <td>0</td>\n",
       "      <td>0</td>\n",
       "      <td>0</td>\n",
       "      <td>1</td>\n",
       "      <td>0</td>\n",
       "      <td>0</td>\n",
       "      <td>0</td>\n",
       "      <td>0</td>\n",
       "      <td>0</td>\n",
       "    </tr>\n",
       "    <tr>\n",
       "      <th>4</th>\n",
       "      <td>google-cbrs-cpi-training</td>\n",
       "      <td>0</td>\n",
       "      <td>0</td>\n",
       "      <td>0</td>\n",
       "      <td>0</td>\n",
       "      <td>0</td>\n",
       "      <td>1</td>\n",
       "      <td>0</td>\n",
       "      <td>0</td>\n",
       "      <td>0</td>\n",
       "      <td>0</td>\n",
       "      <td>0</td>\n",
       "    </tr>\n",
       "  </tbody>\n",
       "</table>\n",
       "</div>"
      ],
      "text/plain": [
       "                        course_id  Arts and Humanities  Business  \\\n",
       "0                machine-learning                    0         0   \n",
       "1               indigenous-canada                    1         0   \n",
       "2       the-science-of-well-being                    0         0   \n",
       "3  technical-support-fundamentals                    0         0   \n",
       "4        google-cbrs-cpi-training                    0         0   \n",
       "\n",
       "   Computer Science  Data Science  Health  Information Technology  \\\n",
       "0                 0             1       0                       0   \n",
       "1                 0             0       0                       0   \n",
       "2                 0             0       0                       0   \n",
       "3                 0             0       0                       1   \n",
       "4                 0             0       0                       1   \n",
       "\n",
       "   Language Learning  Math and Logic  Personal Development  \\\n",
       "0                  0               0                     0   \n",
       "1                  0               0                     0   \n",
       "2                  0               0                     1   \n",
       "3                  0               0                     0   \n",
       "4                  0               0                     0   \n",
       "\n",
       "   Physical Science and Engineering  Social Sciences  \n",
       "0                                 0                0  \n",
       "1                                 0                0  \n",
       "2                                 0                0  \n",
       "3                                 0                0  \n",
       "4                                 0                0  "
      ]
     },
     "execution_count": 14,
     "metadata": {},
     "output_type": "execute_result"
    }
   ],
   "source": [
    "courses_input = courses_input.iloc[:,list([3]) + list(range(10,courses_input.shape[1]))]\n",
    "courses_input.head()"
   ]
  },
  {
   "cell_type": "code",
   "execution_count": 15,
   "id": "12336cd7",
   "metadata": {},
   "outputs": [],
   "source": []
  },
  {
   "cell_type": "code",
   "execution_count": 16,
   "id": "34466f48",
   "metadata": {
    "scrolled": true
   },
   "outputs": [],
   "source": [
    "# courses_input['course_id'] = pd.factorize(courses_input['course_id'])[0]"
   ]
  },
  {
   "cell_type": "code",
   "execution_count": 17,
   "id": "9c4c09b1",
   "metadata": {},
   "outputs": [],
   "source": [
    "combined = pd.concat([user_input['course_id'], courses_input['course_id']]).unique()\n",
    "mapping = {id: i for i, id in enumerate(combined)}\n",
    "courses_input['course_id'] = courses_input['course_id'].map(mapping)\n",
    "user_input['course_id'] = user_input['course_id'].map(mapping)"
   ]
  },
  {
   "cell_type": "code",
   "execution_count": 18,
   "id": "98e1e47f",
   "metadata": {},
   "outputs": [],
   "source": [
    "rating = user_input.rating.values"
   ]
  },
  {
   "cell_type": "code",
   "execution_count": 19,
   "id": "bf44c27e",
   "metadata": {
    "scrolled": true
   },
   "outputs": [],
   "source": [
    "courses_input_samples = user_input.merge(courses_input, on='course_id')"
   ]
  },
  {
   "cell_type": "code",
   "execution_count": 22,
   "id": "d2bc1e42",
   "metadata": {
    "scrolled": true
   },
   "outputs": [],
   "source": [
    "courses_input = courses_input_samples[['course_id', 'Arts and Humanities_y', 'Business_y',\n",
    "       'Computer Science_y', 'Data Science_y', 'Health_y',\n",
    "       'Information Technology_y', 'Language Learning_y', 'Math and Logic_y',\n",
    "       'Personal Development_y', 'Physical Science and Engineering_y',\n",
    "       'Social Sciences_y']]"
   ]
  },
  {
   "cell_type": "code",
   "execution_count": null,
   "id": "47b2e713",
   "metadata": {},
   "outputs": [],
   "source": []
  },
  {
   "cell_type": "code",
   "execution_count": null,
   "id": "781cafd5",
   "metadata": {},
   "outputs": [],
   "source": []
  },
  {
   "cell_type": "code",
   "execution_count": 23,
   "id": "78c499b9",
   "metadata": {
    "scrolled": true
   },
   "outputs": [
    {
     "name": "stdout",
     "output_type": "stream",
     "text": [
      "True\n",
      "True\n"
     ]
    }
   ],
   "source": [
    "if scaledata:\n",
    "    item_train_save = courses_input\n",
    "    user_train_save = user_input\n",
    "\n",
    "    scalerItem = StandardScaler()\n",
    "    scalerItem.fit(courses_input)\n",
    "    courses_input = scalerItem.transform(courses_input)\n",
    "\n",
    "    scalerUser = StandardScaler()\n",
    "    scalerUser.fit(user_input)\n",
    "    user_input = scalerUser.transform(user_input)\n",
    "    print(np.allclose(item_train_save, scalerItem.inverse_transform(courses_input)))\n",
    "    print(np.allclose(user_train_save, scalerUser.inverse_transform(user_input)))"
   ]
  },
  {
   "cell_type": "code",
   "execution_count": 24,
   "id": "83c0cd1a",
   "metadata": {},
   "outputs": [
    {
     "name": "stdout",
     "output_type": "stream",
     "text": [
      "movie/item training data shape: (1143257, 12)\n",
      "movie/item test  data shape: (285815, 12)\n"
     ]
    }
   ],
   "source": [
    "from sklearn.model_selection import train_test_split\n",
    "item_train, item_test = train_test_split(courses_input, train_size=0.80, shuffle=True, random_state=1)\n",
    "user_train, user_test = train_test_split(user_input, train_size=0.80, shuffle=True, random_state=1)\n",
    "y_train, y_test       = train_test_split(rating,    train_size=0.80, shuffle=True, random_state=1)\n",
    "print(f\"movie/item training data shape: {item_train.shape}\")\n",
    "print(f\"movie/item test  data shape: {item_test.shape}\")"
   ]
  },
  {
   "cell_type": "code",
   "execution_count": 25,
   "id": "3d45cc8b",
   "metadata": {
    "scrolled": true
   },
   "outputs": [
    {
     "name": "stdout",
     "output_type": "stream",
     "text": [
      "(1143257, 1) (285815, 1)\n"
     ]
    }
   ],
   "source": [
    "scaler = MinMaxScaler((-1, 1))\n",
    "scaler.fit(y_train.reshape(-1, 1))\n",
    "ynorm_train = scaler.transform(y_train.reshape(-1, 1))\n",
    "ynorm_test = scaler.transform(y_test.reshape(-1, 1))\n",
    "print(ynorm_train.shape, ynorm_test.shape)"
   ]
  },
  {
   "cell_type": "code",
   "execution_count": 26,
   "id": "38d5c998",
   "metadata": {},
   "outputs": [
    {
     "data": {
      "text/plain": [
       "1143257"
      ]
     },
     "execution_count": 26,
     "metadata": {},
     "output_type": "execute_result"
    }
   ],
   "source": [
    "len(item_train)"
   ]
  },
  {
   "cell_type": "code",
   "execution_count": null,
   "id": "7a6b534f",
   "metadata": {},
   "outputs": [],
   "source": []
  },
  {
   "cell_type": "code",
   "execution_count": 32,
   "id": "819b4699",
   "metadata": {},
   "outputs": [],
   "source": [
    "num_user_features = user_input.shape[1] - 2  # remove userid, rating count and ave rating during training\n",
    "num_item_features = courses_input.shape[1] -1 # remove movie id at train time\n",
    "scaledata = True  # applies the standard scalar to data if true"
   ]
  },
  {
   "cell_type": "code",
   "execution_count": 33,
   "id": "5027092d",
   "metadata": {},
   "outputs": [
    {
     "data": {
      "text/html": [
       "<div>\n",
       "<style scoped>\n",
       "    .dataframe tbody tr th:only-of-type {\n",
       "        vertical-align: middle;\n",
       "    }\n",
       "\n",
       "    .dataframe tbody tr th {\n",
       "        vertical-align: top;\n",
       "    }\n",
       "\n",
       "    .dataframe thead th {\n",
       "        text-align: right;\n",
       "    }\n",
       "</style>\n",
       "<table border=\"1\" class=\"dataframe\">\n",
       "  <thead>\n",
       "    <tr style=\"text-align: right;\">\n",
       "      <th></th>\n",
       "      <th>course_id</th>\n",
       "      <th>Arts and Humanities_y</th>\n",
       "      <th>Business_y</th>\n",
       "      <th>Computer Science_y</th>\n",
       "      <th>Data Science_y</th>\n",
       "      <th>Health_y</th>\n",
       "      <th>Information Technology_y</th>\n",
       "      <th>Language Learning_y</th>\n",
       "      <th>Math and Logic_y</th>\n",
       "      <th>Personal Development_y</th>\n",
       "      <th>Physical Science and Engineering_y</th>\n",
       "      <th>Social Sciences_y</th>\n",
       "    </tr>\n",
       "  </thead>\n",
       "  <tbody>\n",
       "    <tr>\n",
       "      <th>0</th>\n",
       "      <td>0</td>\n",
       "      <td>0</td>\n",
       "      <td>0</td>\n",
       "      <td>0</td>\n",
       "      <td>1</td>\n",
       "      <td>0</td>\n",
       "      <td>0</td>\n",
       "      <td>0</td>\n",
       "      <td>0</td>\n",
       "      <td>0</td>\n",
       "      <td>0</td>\n",
       "      <td>0</td>\n",
       "    </tr>\n",
       "    <tr>\n",
       "      <th>1</th>\n",
       "      <td>0</td>\n",
       "      <td>0</td>\n",
       "      <td>0</td>\n",
       "      <td>0</td>\n",
       "      <td>1</td>\n",
       "      <td>0</td>\n",
       "      <td>0</td>\n",
       "      <td>0</td>\n",
       "      <td>0</td>\n",
       "      <td>0</td>\n",
       "      <td>0</td>\n",
       "      <td>0</td>\n",
       "    </tr>\n",
       "    <tr>\n",
       "      <th>2</th>\n",
       "      <td>0</td>\n",
       "      <td>0</td>\n",
       "      <td>0</td>\n",
       "      <td>0</td>\n",
       "      <td>1</td>\n",
       "      <td>0</td>\n",
       "      <td>0</td>\n",
       "      <td>0</td>\n",
       "      <td>0</td>\n",
       "      <td>0</td>\n",
       "      <td>0</td>\n",
       "      <td>0</td>\n",
       "    </tr>\n",
       "    <tr>\n",
       "      <th>3</th>\n",
       "      <td>0</td>\n",
       "      <td>0</td>\n",
       "      <td>0</td>\n",
       "      <td>0</td>\n",
       "      <td>1</td>\n",
       "      <td>0</td>\n",
       "      <td>0</td>\n",
       "      <td>0</td>\n",
       "      <td>0</td>\n",
       "      <td>0</td>\n",
       "      <td>0</td>\n",
       "      <td>0</td>\n",
       "    </tr>\n",
       "    <tr>\n",
       "      <th>4</th>\n",
       "      <td>0</td>\n",
       "      <td>0</td>\n",
       "      <td>0</td>\n",
       "      <td>0</td>\n",
       "      <td>1</td>\n",
       "      <td>0</td>\n",
       "      <td>0</td>\n",
       "      <td>0</td>\n",
       "      <td>0</td>\n",
       "      <td>0</td>\n",
       "      <td>0</td>\n",
       "      <td>0</td>\n",
       "    </tr>\n",
       "    <tr>\n",
       "      <th>...</th>\n",
       "      <td>...</td>\n",
       "      <td>...</td>\n",
       "      <td>...</td>\n",
       "      <td>...</td>\n",
       "      <td>...</td>\n",
       "      <td>...</td>\n",
       "      <td>...</td>\n",
       "      <td>...</td>\n",
       "      <td>...</td>\n",
       "      <td>...</td>\n",
       "      <td>...</td>\n",
       "      <td>...</td>\n",
       "    </tr>\n",
       "    <tr>\n",
       "      <th>1429067</th>\n",
       "      <td>554</td>\n",
       "      <td>0</td>\n",
       "      <td>1</td>\n",
       "      <td>0</td>\n",
       "      <td>0</td>\n",
       "      <td>0</td>\n",
       "      <td>0</td>\n",
       "      <td>0</td>\n",
       "      <td>0</td>\n",
       "      <td>0</td>\n",
       "      <td>0</td>\n",
       "      <td>0</td>\n",
       "    </tr>\n",
       "    <tr>\n",
       "      <th>1429068</th>\n",
       "      <td>554</td>\n",
       "      <td>0</td>\n",
       "      <td>1</td>\n",
       "      <td>0</td>\n",
       "      <td>0</td>\n",
       "      <td>0</td>\n",
       "      <td>0</td>\n",
       "      <td>0</td>\n",
       "      <td>0</td>\n",
       "      <td>0</td>\n",
       "      <td>0</td>\n",
       "      <td>0</td>\n",
       "    </tr>\n",
       "    <tr>\n",
       "      <th>1429069</th>\n",
       "      <td>554</td>\n",
       "      <td>0</td>\n",
       "      <td>1</td>\n",
       "      <td>0</td>\n",
       "      <td>0</td>\n",
       "      <td>0</td>\n",
       "      <td>0</td>\n",
       "      <td>0</td>\n",
       "      <td>0</td>\n",
       "      <td>0</td>\n",
       "      <td>0</td>\n",
       "      <td>0</td>\n",
       "    </tr>\n",
       "    <tr>\n",
       "      <th>1429070</th>\n",
       "      <td>554</td>\n",
       "      <td>0</td>\n",
       "      <td>1</td>\n",
       "      <td>0</td>\n",
       "      <td>0</td>\n",
       "      <td>0</td>\n",
       "      <td>0</td>\n",
       "      <td>0</td>\n",
       "      <td>0</td>\n",
       "      <td>0</td>\n",
       "      <td>0</td>\n",
       "      <td>0</td>\n",
       "    </tr>\n",
       "    <tr>\n",
       "      <th>1429071</th>\n",
       "      <td>554</td>\n",
       "      <td>0</td>\n",
       "      <td>1</td>\n",
       "      <td>0</td>\n",
       "      <td>0</td>\n",
       "      <td>0</td>\n",
       "      <td>0</td>\n",
       "      <td>0</td>\n",
       "      <td>0</td>\n",
       "      <td>0</td>\n",
       "      <td>0</td>\n",
       "      <td>0</td>\n",
       "    </tr>\n",
       "  </tbody>\n",
       "</table>\n",
       "<p>1429072 rows × 12 columns</p>\n",
       "</div>"
      ],
      "text/plain": [
       "         course_id  Arts and Humanities_y  Business_y  Computer Science_y  \\\n",
       "0                0                      0           0                   0   \n",
       "1                0                      0           0                   0   \n",
       "2                0                      0           0                   0   \n",
       "3                0                      0           0                   0   \n",
       "4                0                      0           0                   0   \n",
       "...            ...                    ...         ...                 ...   \n",
       "1429067        554                      0           1                   0   \n",
       "1429068        554                      0           1                   0   \n",
       "1429069        554                      0           1                   0   \n",
       "1429070        554                      0           1                   0   \n",
       "1429071        554                      0           1                   0   \n",
       "\n",
       "         Data Science_y  Health_y  Information Technology_y  \\\n",
       "0                     1         0                         0   \n",
       "1                     1         0                         0   \n",
       "2                     1         0                         0   \n",
       "3                     1         0                         0   \n",
       "4                     1         0                         0   \n",
       "...                 ...       ...                       ...   \n",
       "1429067               0         0                         0   \n",
       "1429068               0         0                         0   \n",
       "1429069               0         0                         0   \n",
       "1429070               0         0                         0   \n",
       "1429071               0         0                         0   \n",
       "\n",
       "         Language Learning_y  Math and Logic_y  Personal Development_y  \\\n",
       "0                          0                 0                       0   \n",
       "1                          0                 0                       0   \n",
       "2                          0                 0                       0   \n",
       "3                          0                 0                       0   \n",
       "4                          0                 0                       0   \n",
       "...                      ...               ...                     ...   \n",
       "1429067                    0                 0                       0   \n",
       "1429068                    0                 0                       0   \n",
       "1429069                    0                 0                       0   \n",
       "1429070                    0                 0                       0   \n",
       "1429071                    0                 0                       0   \n",
       "\n",
       "         Physical Science and Engineering_y  Social Sciences_y  \n",
       "0                                         0                  0  \n",
       "1                                         0                  0  \n",
       "2                                         0                  0  \n",
       "3                                         0                  0  \n",
       "4                                         0                  0  \n",
       "...                                     ...                ...  \n",
       "1429067                                   0                  0  \n",
       "1429068                                   0                  0  \n",
       "1429069                                   0                  0  \n",
       "1429070                                   0                  0  \n",
       "1429071                                   0                  0  \n",
       "\n",
       "[1429072 rows x 12 columns]"
      ]
     },
     "execution_count": 33,
     "metadata": {},
     "output_type": "execute_result"
    }
   ],
   "source": [
    "item_train_save"
   ]
  },
  {
   "cell_type": "code",
   "execution_count": null,
   "id": "933e9e91",
   "metadata": {
    "scrolled": true
   },
   "outputs": [
    {
     "name": "stdout",
     "output_type": "stream",
     "text": [
      "Epoch 1/50\n",
      " 6965/28582 [======>.......................] - ETA: 59s - loss: 7.6211e-04 - root_mean_squared_error: 0.0276"
     ]
    }
   ],
   "source": [
    "num_outputs = 32\n",
    "rate = 0.001\n",
    "tf.random.set_seed(1)\n",
    "user_NN = tf.keras.models.Sequential([\n",
    "    tf.keras.layers.Dense(256, activation='relu'),\n",
    "    tf.keras.layers.Dense(128, activation='relu'),\n",
    "    tf.keras.layers.Dense(num_outputs),\n",
    "])\n",
    "\n",
    "item_NN = tf.keras.models.Sequential([   \n",
    "    tf.keras.layers.Dense(512, activation='relu'),\n",
    "    tf.keras.layers.Dense(256, activation='relu'),\n",
    "    tf.keras.layers.Dense(128, activation='relu'),\n",
    "    tf.keras.layers.Dense(num_outputs),\n",
    "])\n",
    "\n",
    "# create the user input and point to the base network\n",
    "input_user = tf.keras.layers.Input(shape=(num_user_features))\n",
    "vu = user_NN(input_user)\n",
    "vu = tf.linalg.l2_normalize(vu, axis=1)\n",
    "\n",
    "# create the item input and point to the base network\n",
    "input_item = tf.keras.layers.Input(shape=(num_item_features))\n",
    "vm = item_NN(input_item)\n",
    "vm = tf.linalg.l2_normalize(vm, axis=1)\n",
    "\n",
    "# compute the dot product of the two vectors vu and vm\n",
    "output = tf.keras.layers.Dot(axes=1)([vu, vm])\n",
    "\n",
    "# specify the inputs and output of the model\n",
    "model = tf.keras.Model([input_user, input_item], output)\n",
    "\n",
    "tf.random.set_seed(1)\n",
    "metric = tf.keras.metrics.RootMeanSquaredError()\n",
    "cost_fn = tf.keras.losses.MeanSquaredError()\n",
    "opt = keras.optimizers.Adam(learning_rate=rate)\n",
    "model.compile(optimizer=opt, loss=cost_fn, metrics=[metric])\n",
    "early_stop = tf.keras.callbacks.EarlyStopping(\n",
    "    monitor='val_loss', patience=10, restore_best_weights=True)\n",
    "\n",
    "history = model.fit([user_train[:,2:], item_train[:,1:]], ynorm_train, epochs=50, validation_split=0.2, \n",
    "    callbacks=[early_stop])\n",
    "\n",
    "loss = model.evaluate([user_test[:, 2:], item_test[:, 1:]], ynorm_test)\n",
    "return model, loss"
   ]
  },
  {
   "cell_type": "code",
   "execution_count": null,
   "id": "94d3d7fd",
   "metadata": {},
   "outputs": [],
   "source": []
  },
  {
   "cell_type": "code",
   "execution_count": null,
   "id": "9fe9ba8b",
   "metadata": {},
   "outputs": [],
   "source": [
    "user_input"
   ]
  },
  {
   "cell_type": "code",
   "execution_count": null,
   "id": "08342789",
   "metadata": {},
   "outputs": [],
   "source": []
  },
  {
   "cell_type": "code",
   "execution_count": null,
   "id": "7c6267d4",
   "metadata": {},
   "outputs": [],
   "source": []
  },
  {
   "cell_type": "code",
   "execution_count": null,
   "id": "853bd45a",
   "metadata": {},
   "outputs": [],
   "source": []
  },
  {
   "cell_type": "code",
   "execution_count": null,
   "id": "7104561b",
   "metadata": {},
   "outputs": [],
   "source": []
  },
  {
   "cell_type": "code",
   "execution_count": null,
   "id": "c5a30f4c",
   "metadata": {},
   "outputs": [],
   "source": []
  },
  {
   "cell_type": "code",
   "execution_count": null,
   "id": "922e56c3",
   "metadata": {},
   "outputs": [],
   "source": []
  },
  {
   "cell_type": "code",
   "execution_count": null,
   "id": "bfda9e71",
   "metadata": {},
   "outputs": [],
   "source": []
  },
  {
   "cell_type": "code",
   "execution_count": null,
   "id": "c060805c",
   "metadata": {},
   "outputs": [],
   "source": []
  },
  {
   "cell_type": "code",
   "execution_count": null,
   "id": "f495f1c7",
   "metadata": {},
   "outputs": [],
   "source": []
  },
  {
   "cell_type": "code",
   "execution_count": null,
   "id": "49d52610",
   "metadata": {},
   "outputs": [],
   "source": []
  },
  {
   "cell_type": "code",
   "execution_count": null,
   "id": "2613d760",
   "metadata": {},
   "outputs": [],
   "source": []
  },
  {
   "cell_type": "code",
   "execution_count": null,
   "id": "b445e864",
   "metadata": {},
   "outputs": [],
   "source": []
  },
  {
   "cell_type": "code",
   "execution_count": null,
   "id": "243a22a6",
   "metadata": {},
   "outputs": [],
   "source": []
  },
  {
   "cell_type": "code",
   "execution_count": null,
   "id": "b37822e0",
   "metadata": {},
   "outputs": [],
   "source": []
  },
  {
   "cell_type": "code",
   "execution_count": null,
   "id": "5eab5080",
   "metadata": {},
   "outputs": [],
   "source": []
  },
  {
   "cell_type": "code",
   "execution_count": null,
   "id": "fb55a597",
   "metadata": {},
   "outputs": [],
   "source": []
  },
  {
   "cell_type": "code",
   "execution_count": null,
   "id": "4bc6f642",
   "metadata": {},
   "outputs": [],
   "source": []
  },
  {
   "cell_type": "code",
   "execution_count": null,
   "id": "6f8da230",
   "metadata": {},
   "outputs": [],
   "source": []
  },
  {
   "cell_type": "code",
   "execution_count": null,
   "id": "98e4efb4",
   "metadata": {},
   "outputs": [],
   "source": []
  },
  {
   "cell_type": "code",
   "execution_count": null,
   "id": "147b12b1",
   "metadata": {
    "scrolled": true
   },
   "outputs": [],
   "source": [
    "df_all.shape"
   ]
  },
  {
   "cell_type": "code",
   "execution_count": null,
   "id": "6d9571ea",
   "metadata": {
    "scrolled": true
   },
   "outputs": [],
   "source": [
    "ratings.shape"
   ]
  },
  {
   "cell_type": "code",
   "execution_count": null,
   "id": "358a5bb9",
   "metadata": {},
   "outputs": [],
   "source": [
    "ratings[ratings.duplicated(keep=False)].sort_values(\"reviewers\")"
   ]
  },
  {
   "cell_type": "code",
   "execution_count": null,
   "id": "f802a314",
   "metadata": {},
   "outputs": [],
   "source": []
  },
  {
   "cell_type": "code",
   "execution_count": null,
   "id": "591fa358",
   "metadata": {},
   "outputs": [],
   "source": [
    "ratings[ratings.duplicated(keep=False)]"
   ]
  },
  {
   "cell_type": "code",
   "execution_count": null,
   "id": "37031d90",
   "metadata": {},
   "outputs": [],
   "source": [
    "df_all[df_all['as'] == 'left_only']"
   ]
  },
  {
   "cell_type": "code",
   "execution_count": null,
   "id": "4ff90106",
   "metadata": {},
   "outputs": [],
   "source": [
    "ratings[ratings['course_id'].isin(list(df_all['course_id']))]"
   ]
  },
  {
   "cell_type": "code",
   "execution_count": null,
   "id": "b927e5e4",
   "metadata": {},
   "outputs": [],
   "source": []
  },
  {
   "cell_type": "code",
   "execution_count": null,
   "id": "61b65c5d",
   "metadata": {},
   "outputs": [],
   "source": []
  },
  {
   "cell_type": "code",
   "execution_count": null,
   "id": "fb8726af",
   "metadata": {},
   "outputs": [],
   "source": [
    "from surprise import SVD\n",
    "from surprise import Dataset\n",
    "from surprise import Reader\n",
    "from surprise.model_selection import train_test_split\n",
    "from surprise.model_selection import cross_validate\n",
    "\n",
    "from collections import defaultdict"
   ]
  },
  {
   "cell_type": "code",
   "execution_count": null,
   "id": "d6f91b70",
   "metadata": {},
   "outputs": [],
   "source": [
    "data = pd.read_csv(r'C:\\Users\\Youse\\Downloads\\archive (1)\\Coursera_reviews.csv')"
   ]
  },
  {
   "cell_type": "code",
   "execution_count": null,
   "id": "4d590c76",
   "metadata": {},
   "outputs": [],
   "source": [
    "data.head()"
   ]
  },
  {
   "cell_type": "code",
   "execution_count": null,
   "id": "4bc887f2",
   "metadata": {
    "scrolled": true
   },
   "outputs": [],
   "source": [
    "data=data[['reviewers','course_id','rating']]\n",
    "reviewers=data['reviewers'].unique()\n",
    "reviewers=reviewers[:270000]"
   ]
  },
  {
   "cell_type": "code",
   "execution_count": null,
   "id": "3dbb2bc0",
   "metadata": {},
   "outputs": [],
   "source": [
    "data=data[~data['reviewers'].isin(reviewers)]\n",
    "data=data.pivot_table(index=['reviewers'],columns=['course_id'],values='rating').fillna(0)\n",
    "data=data.reset_index().melt(id_vars=['reviewers'])\n",
    "reader=Reader(rating_scale=(0,5))\n",
    "data=Dataset.load_from_df(data,reader)\n",
    "type(data)"
   ]
  },
  {
   "cell_type": "code",
   "execution_count": null,
   "id": "cf92ce15",
   "metadata": {},
   "outputs": [],
   "source": [
    "trainset, testset= train_test_split(data, test_size=.25,shuffle=True)"
   ]
  },
  {
   "cell_type": "code",
   "execution_count": null,
   "id": "e02fa12f",
   "metadata": {},
   "outputs": [],
   "source": [
    "svd_model=SVD()\n",
    "svd_model.fit(trainset)\n",
    "cross_validate(svd_model, data, measures=['RMSE', 'MAE'], cv=5, verbose=True)"
   ]
  },
  {
   "cell_type": "code",
   "execution_count": null,
   "id": "3ad1339a",
   "metadata": {},
   "outputs": [],
   "source": [
    "predictions=svd_model.test(testset)"
   ]
  },
  {
   "cell_type": "code",
   "execution_count": null,
   "id": "6aacfb7b",
   "metadata": {
    "scrolled": true
   },
   "outputs": [],
   "source": [
    "top_n = defaultdict(list)\n",
    "n=3\n",
    "for uid, iid, true_r, est, _ in predictions:\n",
    "  top_n[uid].append((iid, est))\n",
    "\n",
    "for uid, user_ratings in top_n.items():\n",
    "  user_ratings.sort(key=lambda x: x[1], reverse=True)\n",
    "  top_n[uid] = user_ratings[:n]\n",
    "\n",
    "for uid, user_ratings in top_n.items():\n",
    "  print(uid, user_ratings)"
   ]
  },
  {
   "cell_type": "code",
   "execution_count": null,
   "id": "2683609e",
   "metadata": {},
   "outputs": [],
   "source": [
    "ratings[ratings['reviewers'] == 'By AKHIL']"
   ]
  },
  {
   "cell_type": "code",
   "execution_count": null,
   "id": "bc2c196f",
   "metadata": {},
   "outputs": [],
   "source": [
    "for uid, user_ratings in top_n.items():\n",
    "    print(user_ratings)\n",
    "    break"
   ]
  },
  {
   "cell_type": "code",
   "execution_count": null,
   "id": "9c322055",
   "metadata": {},
   "outputs": [],
   "source": []
  }
 ],
 "metadata": {
  "kernelspec": {
   "display_name": "Python 3 (ipykernel)",
   "language": "python",
   "name": "python3"
  },
  "language_info": {
   "codemirror_mode": {
    "name": "ipython",
    "version": 3
   },
   "file_extension": ".py",
   "mimetype": "text/x-python",
   "name": "python",
   "nbconvert_exporter": "python",
   "pygments_lexer": "ipython3",
   "version": "3.10.2"
  }
 },
 "nbformat": 4,
 "nbformat_minor": 5
}
